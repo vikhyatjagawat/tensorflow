{
  "nbformat": 4,
  "nbformat_minor": 0,
  "metadata": {
    "colab": {
      "name": "neural-network-regression.ipynb",
      "provenance": [],
      "collapsed_sections": [],
      "toc_visible": true,
      "authorship_tag": "ABX9TyOMKlWXW49KH7imeX2CNYr8",
      "include_colab_link": true
    },
    "kernelspec": {
      "name": "python3",
      "display_name": "Python 3"
    },
    "language_info": {
      "name": "python"
    }
  },
  "cells": [
    {
      "cell_type": "markdown",
      "metadata": {
        "id": "view-in-github",
        "colab_type": "text"
      },
      "source": [
        "<a href=\"https://colab.research.google.com/github/vikhyatjagawat/tensorflow/blob/main/neural_network_regression.ipynb\" target=\"_parent\"><img src=\"https://colab.research.google.com/assets/colab-badge.svg\" alt=\"Open In Colab\"/></a>"
      ]
    },
    {
      "cell_type": "markdown",
      "metadata": {
        "id": "zxOuM9GfT38J"
      },
      "source": [
        "# Introduction to Regression with Neural Network in TensorFlow\n",
        "\n"
      ]
    },
    {
      "cell_type": "code",
      "metadata": {
        "colab": {
          "base_uri": "https://localhost:8080/"
        },
        "id": "Xq4N4mBJJBQe",
        "outputId": "203bb7e6-5c7a-4c01-f5ee-cb7f62c69763"
      },
      "source": [
        "# Import tensorflow\n",
        "import tensorflow as tf\n",
        "print(tf.__version__)"
      ],
      "execution_count": null,
      "outputs": [
        {
          "output_type": "stream",
          "text": [
            "2.5.0\n"
          ],
          "name": "stdout"
        }
      ]
    },
    {
      "cell_type": "markdown",
      "metadata": {
        "id": "mmR7FUCTUKgG"
      },
      "source": [
        "## Creating data to view and fit"
      ]
    },
    {
      "cell_type": "code",
      "metadata": {
        "colab": {
          "base_uri": "https://localhost:8080/",
          "height": 286
        },
        "id": "eSmjKQ7WUI4N",
        "outputId": "61a95172-d38a-49bb-9fee-bf93020a23de"
      },
      "source": [
        "import numpy as np\n",
        "import matplotlib.pyplot as plt\n",
        "\n",
        "# Create features\n",
        "X = np.array([-7.0, -4.0, -1.0, 2.0, 5.0, 8.0, 11.0, 14.0])\n",
        "\n",
        "# Create labels\n",
        "y = np.array([3.0, 6.0, 9.0, 12.0, 15.0, 18.0, 21.0, 24.0])\n",
        "\n",
        "# Visualize\n",
        "plt.scatter(X, y)"
      ],
      "execution_count": null,
      "outputs": [
        {
          "output_type": "execute_result",
          "data": {
            "text/plain": [
              "<matplotlib.collections.PathCollection at 0x7fd719220b10>"
            ]
          },
          "metadata": {
            "tags": []
          },
          "execution_count": 2
        },
        {
          "output_type": "display_data",
          "data": {
            "image/png": "[encoded data removed]",
            "text/plain": [
              "<Figure size 432x288 with 1 Axes>"
            ]
          },
          "metadata": {
            "tags": [],
            "needs_background": "light"
          }
        }
      ]
    },
    {
      "cell_type": "code",
      "metadata": {
        "colab": {
          "base_uri": "https://localhost:8080/"
        },
        "id": "uYGPHwddU55a",
        "outputId": "62820956-18c1-4d94-ec48-6b711f30af70"
      },
      "source": [
        "y == X+10"
      ],
      "execution_count": null,
      "outputs": [
        {
          "output_type": "execute_result",
          "data": {
            "text/plain": [
              "array([ True,  True,  True,  True,  True,  True,  True,  True])"
            ]
          },
          "metadata": {
            "tags": []
          },
          "execution_count": 3
        }
      ]
    },
    {
      "cell_type": "markdown",
      "metadata": {
        "id": "mplwP7BpUvMN"
      },
      "source": [
        "## Input and output shapes"
      ]
    },
    {
      "cell_type": "code",
      "metadata": {
        "colab": {
          "base_uri": "https://localhost:8080/"
        },
        "id": "PYzVhrudUn4D",
        "outputId": "a359311a-47dd-47f8-e94c-01b0ca19d7ee"
      },
      "source": [
        "# Create a demo tensor for our housing price prediction problem\n",
        "house_info = tf.constant([\"bedroom\", \"bathroom\", \"garage\"])\n",
        "house_price = tf.constant([939700])\n",
        "house_info, house_price"
      ],
      "execution_count": null,
      "outputs": [
        {
          "output_type": "execute_result",
          "data": {
            "text/plain": [
              "(<tf.Tensor: shape=(3,), dtype=string, numpy=array([b'bedroom', b'bathroom', b'garage'], dtype=object)>,\n",
              " <tf.Tensor: shape=(1,), dtype=int32, numpy=array([939700], dtype=int32)>)"
            ]
          },
          "metadata": {
            "tags": []
          },
          "execution_count": 4
        }
      ]
    },
    {
      "cell_type": "code",
      "metadata": {
        "colab": {
          "base_uri": "https://localhost:8080/"
        },
        "id": "-3UVampbVPj-",
        "outputId": "b41eb362-0b88-459f-8627-72de31514105"
      },
      "source": [
        "input_shape = X.shape\n",
        "output_shape = y.shape\n",
        "input_shape, output_shape"
      ],
      "execution_count": null,
      "outputs": [
        {
          "output_type": "execute_result",
          "data": {
            "text/plain": [
              "((8,), (8,))"
            ]
          },
          "metadata": {
            "tags": []
          },
          "execution_count": 5
        }
      ]
    },
    {
      "cell_type": "code",
      "metadata": {
        "colab": {
          "base_uri": "https://localhost:8080/"
        },
        "id": "qXT6Jly8Vc6m",
        "outputId": "69c85636-21fc-459f-8856-72ecc4d460b8"
      },
      "source": [
        "# Turn our numpy array into tensors\n",
        "X = tf.constant(X)\n",
        "y = tf.constant(y)\n",
        "X, y"
      ],
      "execution_count": null,
      "outputs": [
        {
          "output_type": "execute_result",
          "data": {
            "text/plain": [
              "(<tf.Tensor: shape=(8,), dtype=float64, numpy=array([-7., -4., -1.,  2.,  5.,  8., 11., 14.])>,\n",
              " <tf.Tensor: shape=(8,), dtype=float64, numpy=array([ 3.,  6.,  9., 12., 15., 18., 21., 24.])>)"
            ]
          },
          "metadata": {
            "tags": []
          },
          "execution_count": 6
        }
      ]
    },
    {
      "cell_type": "code",
      "metadata": {
        "colab": {
          "base_uri": "https://localhost:8080/"
        },
        "id": "ClqzunvLVyJ_",
        "outputId": "18b57761-fd98-4708-9b8b-1708e9f74c77"
      },
      "source": [
        "input_shape = X[0].shape\n",
        "output_shape = y[0].shape\n",
        "input_shape, output_shape"
      ],
      "execution_count": null,
      "outputs": [
        {
          "output_type": "execute_result",
          "data": {
            "text/plain": [
              "(TensorShape([]), TensorShape([]))"
            ]
          },
          "metadata": {
            "tags": []
          },
          "execution_count": 7
        }
      ]
    },
    {
      "cell_type": "markdown",
      "metadata": {
        "id": "u_LL_TZiV8P5"
      },
      "source": [
        "## Steps in modelling with TensorFlow\n",
        "\n",
        "1. **Creating a model** - define the input and output layers, as well as the hidden layers of a deep learning mdoel.\n",
        "2. **Compiling a model** - define the loss function (the function which tells our model how wrong it is) and the optimizer (how to improve the patterns its learning) and evaluation metrics (interpret the preformance of our model).\n",
        "3. **Fitting a model** - letting the mdoel try to find patterns between X & y."
      ]
    },
    {
      "cell_type": "code",
      "metadata": {
        "colab": {
          "base_uri": "https://localhost:8080/"
        },
        "id": "fDuZksq_V7kx",
        "outputId": "159b3246-ed8b-4a26-d2bb-c525b449474b"
      },
      "source": [
        "# Set random seed\n",
        "tf.random.set_seed(42)\n",
        "\n",
        "# Create a model usign the Sequential API\n",
        "model = tf.keras.Sequential([\n",
        "    tf.keras.layers.Dense(1)\n",
        "])\n",
        "\n",
        "# Compile the model\n",
        "model.compile(loss = tf.keras.losses.mae, # Mean Absolute Error\n",
        "              optimizer = tf.keras.optimizers.SGD(), # Stochastic Gradient Descent\n",
        "              metrics = ['mae'])\n",
        "\n",
        "# Fit the model\n",
        "model.fit(X, y, epochs = 20)"
      ],
      "execution_count": null,
      "outputs": [
        {
          "output_type": "stream",
          "text": [
            "Epoch 1/20\n",
            "1/1 [==============================] - 1s 616ms/step - loss: 11.5048 - mae: 11.5048\n",
            "Epoch 2/20\n",
            "1/1 [==============================] - 0s 6ms/step - loss: 11.3723 - mae: 11.3723\n",
            "Epoch 3/20\n",
            "1/1 [==============================] - 0s 8ms/step - loss: 11.2398 - mae: 11.2398\n",
            "Epoch 4/20\n",
            "1/1 [==============================] - 0s 7ms/step - loss: 11.1073 - mae: 11.1073\n",
            "Epoch 5/20\n",
            "1/1 [==============================] - 0s 13ms/step - loss: 10.9748 - mae: 10.9748\n",
            "Epoch 6/20\n",
            "1/1 [==============================] - 0s 11ms/step - loss: 10.8423 - mae: 10.8423\n",
            "Epoch 7/20\n",
            "1/1 [==============================] - 0s 8ms/step - loss: 10.7098 - mae: 10.7098\n",
            "Epoch 8/20\n",
            "1/1 [==============================] - 0s 7ms/step - loss: 10.5773 - mae: 10.5773\n",
            "Epoch 9/20\n",
            "1/1 [==============================] - 0s 5ms/step - loss: 10.4448 - mae: 10.4448\n",
            "Epoch 10/20\n",
            "1/1 [==============================] - 0s 8ms/step - loss: 10.3123 - mae: 10.3123\n",
            "Epoch 11/20\n",
            "1/1 [==============================] - 0s 4ms/step - loss: 10.1798 - mae: 10.1798\n",
            "Epoch 12/20\n",
            "1/1 [==============================] - 0s 5ms/step - loss: 10.0473 - mae: 10.0473\n",
            "Epoch 13/20\n",
            "1/1 [==============================] - 0s 5ms/step - loss: 9.9148 - mae: 9.9148\n",
            "Epoch 14/20\n",
            "1/1 [==============================] - 0s 7ms/step - loss: 9.7823 - mae: 9.7823\n",
            "Epoch 15/20\n",
            "1/1 [==============================] - 0s 5ms/step - loss: 9.6498 - mae: 9.6498\n",
            "Epoch 16/20\n",
            "1/1 [==============================] - 0s 6ms/step - loss: 9.5173 - mae: 9.5173\n",
            "Epoch 17/20\n",
            "1/1 [==============================] - 0s 8ms/step - loss: 9.3848 - mae: 9.3848\n",
            "Epoch 18/20\n",
            "1/1 [==============================] - 0s 4ms/step - loss: 9.2523 - mae: 9.2523\n",
            "Epoch 19/20\n",
            "1/1 [==============================] - 0s 7ms/step - loss: 9.1198 - mae: 9.1198\n",
            "Epoch 20/20\n",
            "1/1 [==============================] - 0s 5ms/step - loss: 8.9873 - mae: 8.9873\n"
          ],
          "name": "stdout"
        },
        {
          "output_type": "execute_result",
          "data": {
            "text/plain": [
              "<tensorflow.python.keras.callbacks.History at 0x7fd715cbd710>"
            ]
          },
          "metadata": {
            "tags": []
          },
          "execution_count": 8
        }
      ]
    },
    {
      "cell_type": "code",
      "metadata": {
        "colab": {
          "base_uri": "https://localhost:8080/"
        },
        "id": "HGvGc99RaT9E",
        "outputId": "b2e628b9-cdc6-4bf0-f5a9-56743f58f41c"
      },
      "source": [
        "# Try and make prediction using the model\n",
        "y_pred = model.predict([17.0])\n",
        "y_pred"
      ],
      "execution_count": null,
      "outputs": [
        {
          "output_type": "execute_result",
          "data": {
            "text/plain": [
              "array([[21.79102]], dtype=float32)"
            ]
          },
          "metadata": {
            "tags": []
          },
          "execution_count": 9
        }
      ]
    },
    {
      "cell_type": "markdown",
      "metadata": {
        "id": "VIvbPiJ1atA5"
      },
      "source": [
        "## Improving the model\n",
        "\n",
        "By altering the steps we took to create a model.\n",
        "\n",
        "1. Add more layers, hidden layers (neurons)\n",
        "2. Using learning rates\n",
        "3. Chaning the epochs"
      ]
    },
    {
      "cell_type": "code",
      "metadata": {
        "colab": {
          "base_uri": "https://localhost:8080/"
        },
        "id": "77A-uo2Jam6t",
        "outputId": "4f59d0b2-04d0-4c02-f966-b2809d78a19c"
      },
      "source": [
        "# Create a model\n",
        "model = tf.keras.Sequential([\n",
        "    tf.keras.layers.Dense(50, activation=None),\n",
        "    tf.keras.layers.Dense(1)\n",
        "])\n",
        "\n",
        "# Compile the model\n",
        "model.compile(loss = tf.keras.losses.mae,\n",
        "              optimizer = tf.keras.optimizers.Adam(lr=0.01),\n",
        "              metrics = ['mae'])\n",
        "\n",
        "# Fit the model\n",
        "model.fit(X, y, epochs=100)"
      ],
      "execution_count": null,
      "outputs": [
        {
          "output_type": "stream",
          "text": [
            "/usr/local/lib/python3.7/dist-packages/tensorflow/python/keras/optimizer_v2/optimizer_v2.py:375: UserWarning: The `lr` argument is deprecated, use `learning_rate` instead.\n",
            "  \"The `lr` argument is deprecated, use `learning_rate` instead.\")\n"
          ],
          "name": "stderr"
        },
        {
          "output_type": "stream",
          "text": [
            "Epoch 1/100\n",
            "1/1 [==============================] - 0s 420ms/step - loss: 14.6466 - mae: 14.6466\n",
            "Epoch 2/100\n",
            "1/1 [==============================] - 0s 10ms/step - loss: 13.9532 - mae: 13.9532\n",
            "Epoch 3/100\n",
            "1/1 [==============================] - 0s 6ms/step - loss: 13.2603 - mae: 13.2603\n",
            "Epoch 4/100\n",
            "1/1 [==============================] - 0s 9ms/step - loss: 12.5659 - mae: 12.5659\n",
            "Epoch 5/100\n",
            "1/1 [==============================] - 0s 6ms/step - loss: 11.8675 - mae: 11.8675\n",
            "Epoch 6/100\n",
            "1/1 [==============================] - 0s 7ms/step - loss: 11.1621 - mae: 11.1621\n",
            "Epoch 7/100\n",
            "1/1 [==============================] - 0s 7ms/step - loss: 10.4475 - mae: 10.4475\n",
            "Epoch 8/100\n",
            "1/1 [==============================] - 0s 7ms/step - loss: 9.7214 - mae: 9.7214\n",
            "Epoch 9/100\n",
            "1/1 [==============================] - 0s 8ms/step - loss: 8.9817 - mae: 8.9817\n",
            "Epoch 10/100\n",
            "1/1 [==============================] - 0s 16ms/step - loss: 8.2262 - mae: 8.2262\n",
            "Epoch 11/100\n",
            "1/1 [==============================] - 0s 4ms/step - loss: 7.4526 - mae: 7.4526\n",
            "Epoch 12/100\n",
            "1/1 [==============================] - 0s 5ms/step - loss: 6.6585 - mae: 6.6585\n",
            "Epoch 13/100\n",
            "1/1 [==============================] - 0s 6ms/step - loss: 6.6244 - mae: 6.6244\n",
            "Epoch 14/100\n",
            "1/1 [==============================] - 0s 4ms/step - loss: 6.9777 - mae: 6.9777\n",
            "Epoch 15/100\n",
            "1/1 [==============================] - 0s 6ms/step - loss: 7.2653 - mae: 7.2653\n",
            "Epoch 16/100\n",
            "1/1 [==============================] - 0s 6ms/step - loss: 7.4820 - mae: 7.4820\n",
            "Epoch 17/100\n",
            "1/1 [==============================] - 0s 5ms/step - loss: 7.4879 - mae: 7.4879\n",
            "Epoch 18/100\n",
            "1/1 [==============================] - 0s 6ms/step - loss: 7.3301 - mae: 7.3301\n",
            "Epoch 19/100\n",
            "1/1 [==============================] - 0s 5ms/step - loss: 7.0454 - mae: 7.0454\n",
            "Epoch 20/100\n",
            "1/1 [==============================] - 0s 5ms/step - loss: 6.7251 - mae: 6.7251\n",
            "Epoch 21/100\n",
            "1/1 [==============================] - 0s 9ms/step - loss: 6.4643 - mae: 6.4643\n",
            "Epoch 22/100\n",
            "1/1 [==============================] - 0s 7ms/step - loss: 6.1900 - mae: 6.1900\n",
            "Epoch 23/100\n",
            "1/1 [==============================] - 0s 6ms/step - loss: 5.9246 - mae: 5.9246\n",
            "Epoch 24/100\n",
            "1/1 [==============================] - 0s 8ms/step - loss: 5.8782 - mae: 5.8782\n",
            "Epoch 25/100\n",
            "1/1 [==============================] - 0s 11ms/step - loss: 5.8276 - mae: 5.8276\n",
            "Epoch 26/100\n",
            "1/1 [==============================] - 0s 5ms/step - loss: 5.9724 - mae: 5.9724\n",
            "Epoch 27/100\n",
            "1/1 [==============================] - 0s 5ms/step - loss: 6.0130 - mae: 6.0130\n",
            "Epoch 28/100\n",
            "1/1 [==============================] - 0s 7ms/step - loss: 5.9583 - mae: 5.9583\n",
            "Epoch 29/100\n",
            "1/1 [==============================] - 0s 5ms/step - loss: 5.8190 - mae: 5.8190\n",
            "Epoch 30/100\n",
            "1/1 [==============================] - 0s 5ms/step - loss: 5.6030 - mae: 5.6030\n",
            "Epoch 31/100\n",
            "1/1 [==============================] - 0s 6ms/step - loss: 5.3433 - mae: 5.3433\n",
            "Epoch 32/100\n",
            "1/1 [==============================] - 0s 5ms/step - loss: 5.2352 - mae: 5.2352\n",
            "Epoch 33/100\n",
            "1/1 [==============================] - 0s 5ms/step - loss: 5.1239 - mae: 5.1239\n",
            "Epoch 34/100\n",
            "1/1 [==============================] - 0s 5ms/step - loss: 5.0746 - mae: 5.0746\n",
            "Epoch 35/100\n",
            "1/1 [==============================] - 0s 7ms/step - loss: 5.0523 - mae: 5.0523\n",
            "Epoch 36/100\n",
            "1/1 [==============================] - 0s 6ms/step - loss: 4.9871 - mae: 4.9871\n",
            "Epoch 37/100\n",
            "1/1 [==============================] - 0s 9ms/step - loss: 4.8824 - mae: 4.8824\n",
            "Epoch 38/100\n",
            "1/1 [==============================] - 0s 5ms/step - loss: 4.7409 - mae: 4.7409\n",
            "Epoch 39/100\n",
            "1/1 [==============================] - 0s 6ms/step - loss: 4.5658 - mae: 4.5658\n",
            "Epoch 40/100\n",
            "1/1 [==============================] - 0s 9ms/step - loss: 4.4020 - mae: 4.4020\n",
            "Epoch 41/100\n",
            "1/1 [==============================] - 0s 8ms/step - loss: 4.3009 - mae: 4.3009\n",
            "Epoch 42/100\n",
            "1/1 [==============================] - 0s 8ms/step - loss: 4.1923 - mae: 4.1923\n",
            "Epoch 43/100\n",
            "1/1 [==============================] - 0s 5ms/step - loss: 4.0760 - mae: 4.0760\n",
            "Epoch 44/100\n",
            "1/1 [==============================] - 0s 7ms/step - loss: 4.0086 - mae: 4.0086\n",
            "Epoch 45/100\n",
            "1/1 [==============================] - 0s 6ms/step - loss: 3.8364 - mae: 3.8364\n",
            "Epoch 46/100\n",
            "1/1 [==============================] - 0s 6ms/step - loss: 3.6514 - mae: 3.6514\n",
            "Epoch 47/100\n",
            "1/1 [==============================] - 0s 6ms/step - loss: 3.4858 - mae: 3.4858\n",
            "Epoch 48/100\n",
            "1/1 [==============================] - 0s 6ms/step - loss: 3.3568 - mae: 3.3568\n",
            "Epoch 49/100\n",
            "1/1 [==============================] - 0s 6ms/step - loss: 3.2428 - mae: 3.2428\n",
            "Epoch 50/100\n",
            "1/1 [==============================] - 0s 4ms/step - loss: 3.0760 - mae: 3.0760\n",
            "Epoch 51/100\n",
            "1/1 [==============================] - 0s 5ms/step - loss: 2.8591 - mae: 2.8591\n",
            "Epoch 52/100\n",
            "1/1 [==============================] - 0s 6ms/step - loss: 2.6501 - mae: 2.6501\n",
            "Epoch 53/100\n",
            "1/1 [==============================] - 0s 5ms/step - loss: 2.4760 - mae: 2.4760\n",
            "Epoch 54/100\n",
            "1/1 [==============================] - 0s 8ms/step - loss: 2.3457 - mae: 2.3457\n",
            "Epoch 55/100\n",
            "1/1 [==============================] - 0s 6ms/step - loss: 2.1065 - mae: 2.1065\n",
            "Epoch 56/100\n",
            "1/1 [==============================] - 0s 7ms/step - loss: 1.8523 - mae: 1.8523\n",
            "Epoch 57/100\n",
            "1/1 [==============================] - 0s 9ms/step - loss: 1.7208 - mae: 1.7208\n",
            "Epoch 58/100\n",
            "1/1 [==============================] - 0s 10ms/step - loss: 1.5507 - mae: 1.5507\n",
            "Epoch 59/100\n",
            "1/1 [==============================] - 0s 8ms/step - loss: 1.2700 - mae: 1.2700\n",
            "Epoch 60/100\n",
            "1/1 [==============================] - 0s 14ms/step - loss: 0.9323 - mae: 0.9323\n",
            "Epoch 61/100\n",
            "1/1 [==============================] - 0s 13ms/step - loss: 0.8599 - mae: 0.8599\n",
            "Epoch 62/100\n",
            "1/1 [==============================] - 0s 6ms/step - loss: 0.6865 - mae: 0.6865\n",
            "Epoch 63/100\n",
            "1/1 [==============================] - 0s 8ms/step - loss: 0.3405 - mae: 0.3405\n",
            "Epoch 64/100\n",
            "1/1 [==============================] - 0s 6ms/step - loss: 0.1659 - mae: 0.1659\n",
            "Epoch 65/100\n",
            "1/1 [==============================] - 0s 8ms/step - loss: 0.4224 - mae: 0.4224\n",
            "Epoch 66/100\n",
            "1/1 [==============================] - 0s 7ms/step - loss: 0.4802 - mae: 0.4802\n",
            "Epoch 67/100\n",
            "1/1 [==============================] - 0s 7ms/step - loss: 0.6473 - mae: 0.6473\n",
            "Epoch 68/100\n",
            "1/1 [==============================] - 0s 5ms/step - loss: 0.6601 - mae: 0.6601\n",
            "Epoch 69/100\n",
            "1/1 [==============================] - 0s 6ms/step - loss: 0.7372 - mae: 0.7372\n",
            "Epoch 70/100\n",
            "1/1 [==============================] - 0s 6ms/step - loss: 0.7022 - mae: 0.7022\n",
            "Epoch 71/100\n",
            "1/1 [==============================] - 0s 5ms/step - loss: 0.6318 - mae: 0.6318\n",
            "Epoch 72/100\n",
            "1/1 [==============================] - 0s 13ms/step - loss: 0.6151 - mae: 0.6151\n",
            "Epoch 73/100\n",
            "1/1 [==============================] - 0s 5ms/step - loss: 0.4329 - mae: 0.4329\n",
            "Epoch 74/100\n",
            "1/1 [==============================] - 0s 5ms/step - loss: 0.4277 - mae: 0.4277\n",
            "Epoch 75/100\n",
            "1/1 [==============================] - 0s 7ms/step - loss: 0.3097 - mae: 0.3097\n",
            "Epoch 76/100\n",
            "1/1 [==============================] - 0s 5ms/step - loss: 0.0356 - mae: 0.0356\n",
            "Epoch 77/100\n",
            "1/1 [==============================] - 0s 5ms/step - loss: 0.4880 - mae: 0.4880\n",
            "Epoch 78/100\n",
            "1/1 [==============================] - 0s 7ms/step - loss: 0.6479 - mae: 0.6479\n",
            "Epoch 79/100\n",
            "1/1 [==============================] - 0s 7ms/step - loss: 0.6174 - mae: 0.6174\n",
            "Epoch 80/100\n",
            "1/1 [==============================] - 0s 5ms/step - loss: 0.4529 - mae: 0.4529\n",
            "Epoch 81/100\n",
            "1/1 [==============================] - 0s 7ms/step - loss: 0.6294 - mae: 0.6294\n",
            "Epoch 82/100\n",
            "1/1 [==============================] - 0s 6ms/step - loss: 0.7850 - mae: 0.7850\n",
            "Epoch 83/100\n",
            "1/1 [==============================] - 0s 5ms/step - loss: 0.6653 - mae: 0.6653\n",
            "Epoch 84/100\n",
            "1/1 [==============================] - 0s 7ms/step - loss: 0.3935 - mae: 0.3935\n",
            "Epoch 85/100\n",
            "1/1 [==============================] - 0s 8ms/step - loss: 0.5590 - mae: 0.5590\n",
            "Epoch 86/100\n",
            "1/1 [==============================] - 0s 10ms/step - loss: 0.6263 - mae: 0.6263\n",
            "Epoch 87/100\n",
            "1/1 [==============================] - 0s 6ms/step - loss: 0.5316 - mae: 0.5316\n",
            "Epoch 88/100\n",
            "1/1 [==============================] - 0s 6ms/step - loss: 0.2161 - mae: 0.2161\n",
            "Epoch 89/100\n",
            "1/1 [==============================] - 0s 7ms/step - loss: 0.3441 - mae: 0.3441\n",
            "Epoch 90/100\n",
            "1/1 [==============================] - 0s 6ms/step - loss: 0.5325 - mae: 0.5325\n",
            "Epoch 91/100\n",
            "1/1 [==============================] - 0s 42ms/step - loss: 0.4389 - mae: 0.4389\n",
            "Epoch 92/100\n",
            "1/1 [==============================] - 0s 6ms/step - loss: 0.2560 - mae: 0.2560\n",
            "Epoch 93/100\n",
            "1/1 [==============================] - 0s 6ms/step - loss: 0.5795 - mae: 0.5795\n",
            "Epoch 94/100\n",
            "1/1 [==============================] - 0s 6ms/step - loss: 0.7585 - mae: 0.7585\n",
            "Epoch 95/100\n",
            "1/1 [==============================] - 0s 5ms/step - loss: 0.6773 - mae: 0.6773\n",
            "Epoch 96/100\n",
            "1/1 [==============================] - 0s 7ms/step - loss: 0.3691 - mae: 0.3691\n",
            "Epoch 97/100\n",
            "1/1 [==============================] - 0s 10ms/step - loss: 0.3135 - mae: 0.3135\n",
            "Epoch 98/100\n",
            "1/1 [==============================] - 0s 7ms/step - loss: 0.5528 - mae: 0.5528\n",
            "Epoch 99/100\n",
            "1/1 [==============================] - 0s 5ms/step - loss: 0.5451 - mae: 0.5451\n",
            "Epoch 100/100\n",
            "1/1 [==============================] - 0s 6ms/step - loss: 0.2902 - mae: 0.2902\n"
          ],
          "name": "stdout"
        },
        {
          "output_type": "execute_result",
          "data": {
            "text/plain": [
              "<tensorflow.python.keras.callbacks.History at 0x7fd71323b190>"
            ]
          },
          "metadata": {
            "tags": []
          },
          "execution_count": 10
        }
      ]
    },
    {
      "cell_type": "code",
      "metadata": {
        "colab": {
          "base_uri": "https://localhost:8080/"
        },
        "id": "NrINIDpJdN-6",
        "outputId": "2eb0ac11-c251-437a-e602-1eb0b4305a94"
      },
      "source": [
        "model.predict([17.0])"
      ],
      "execution_count": null,
      "outputs": [
        {
          "output_type": "execute_result",
          "data": {
            "text/plain": [
              "array([[26.434414]], dtype=float32)"
            ]
          },
          "metadata": {
            "tags": []
          },
          "execution_count": 11
        }
      ]
    },
    {
      "cell_type": "markdown",
      "metadata": {
        "id": "Y_z9FMg4kQVC"
      },
      "source": [
        "## Evaluating the model\n",
        "\n",
        "* The data \n",
        "* The model\n",
        "* The training of the model\n",
        "* The predcitions of the mdoel"
      ]
    },
    {
      "cell_type": "code",
      "metadata": {
        "id": "QFRBCo_5dbfw",
        "colab": {
          "base_uri": "https://localhost:8080/"
        },
        "outputId": "5f1c9fa0-e118-4de0-a865-ffaeea413625"
      },
      "source": [
        "# Make a bigger dataset\n",
        "X = tf.range(-100, 100, 4)\n",
        "X"
      ],
      "execution_count": null,
      "outputs": [
        {
          "output_type": "execute_result",
          "data": {
            "text/plain": [
              "<tf.Tensor: shape=(50,), dtype=int32, numpy=\n",
              "array([-100,  -96,  -92,  -88,  -84,  -80,  -76,  -72,  -68,  -64,  -60,\n",
              "        -56,  -52,  -48,  -44,  -40,  -36,  -32,  -28,  -24,  -20,  -16,\n",
              "        -12,   -8,   -4,    0,    4,    8,   12,   16,   20,   24,   28,\n",
              "         32,   36,   40,   44,   48,   52,   56,   60,   64,   68,   72,\n",
              "         76,   80,   84,   88,   92,   96], dtype=int32)>"
            ]
          },
          "metadata": {
            "tags": []
          },
          "execution_count": 12
        }
      ]
    },
    {
      "cell_type": "code",
      "metadata": {
        "colab": {
          "base_uri": "https://localhost:8080/"
        },
        "id": "dESfJ29_1FSq",
        "outputId": "15b6010f-6326-4171-ddd0-797ec349e6cc"
      },
      "source": [
        "# Make labels for the dataset\n",
        "y = X + 10\n",
        "y"
      ],
      "execution_count": null,
      "outputs": [
        {
          "output_type": "execute_result",
          "data": {
            "text/plain": [
              "<tf.Tensor: shape=(50,), dtype=int32, numpy=\n",
              "array([-90, -86, -82, -78, -74, -70, -66, -62, -58, -54, -50, -46, -42,\n",
              "       -38, -34, -30, -26, -22, -18, -14, -10,  -6,  -2,   2,   6,  10,\n",
              "        14,  18,  22,  26,  30,  34,  38,  42,  46,  50,  54,  58,  62,\n",
              "        66,  70,  74,  78,  82,  86,  90,  94,  98, 102, 106], dtype=int32)>"
            ]
          },
          "metadata": {
            "tags": []
          },
          "execution_count": 13
        }
      ]
    },
    {
      "cell_type": "code",
      "metadata": {
        "colab": {
          "base_uri": "https://localhost:8080/",
          "height": 282
        },
        "id": "zdEAHA_R1J1m",
        "outputId": "07f0d3a6-55d6-488e-c587-ab15471f3ba2"
      },
      "source": [
        "# Visualize the data\n",
        "plt.scatter(X, y)"
      ],
      "execution_count": null,
      "outputs": [
        {
          "output_type": "execute_result",
          "data": {
            "text/plain": [
              "<matplotlib.collections.PathCollection at 0x7fd711c08c90>"
            ]
          },
          "metadata": {
            "tags": []
          },
          "execution_count": 14
        },
        {
          "output_type": "display_data",
          "data": {
            "image/png": "[encoded data removed]",
            "text/plain": [
              "<Figure size 432x288 with 1 Axes>"
            ]
          },
          "metadata": {
            "tags": [],
            "needs_background": "light"
          }
        }
      ]
    },
    {
      "cell_type": "markdown",
      "metadata": {
        "id": "DY0jOjnr1TdQ"
      },
      "source": [
        "### The 3 sets...\n",
        "\n",
        "* **Training set** - The model learns, 70-80% data\n",
        "* **Validation set** - The model gets tuned on the data, 10-15% of data\n",
        "* **Test set** - Evaluate the model on this data, 10-15% data"
      ]
    },
    {
      "cell_type": "code",
      "metadata": {
        "id": "nDIOLVyt1QBe"
      },
      "source": [
        "# Splitting the dataset\n",
        "X_train = X[:40]\n",
        "y_train = y[:40]\n",
        "\n",
        "X_test = X[40:]\n",
        "y_test = y[40:]"
      ],
      "execution_count": null,
      "outputs": []
    },
    {
      "cell_type": "markdown",
      "metadata": {
        "id": "DqOTScDd2_hk"
      },
      "source": [
        "### Visualizing the data"
      ]
    },
    {
      "cell_type": "code",
      "metadata": {
        "colab": {
          "base_uri": "https://localhost:8080/",
          "height": 445
        },
        "id": "ELysgzBS2lf7",
        "outputId": "f5c2bbed-8d6e-4196-a4f2-eafac2c89e7e"
      },
      "source": [
        "plt.figure(figsize=(10, 7))\n",
        "plt.scatter(X_train, y_train, c='b', label=\"Training data\")\n",
        "plt.scatter(X_test, y_test, c='r', label=\"Test data\")\n",
        "plt.legend()"
      ],
      "execution_count": null,
      "outputs": [
        {
          "output_type": "execute_result",
          "data": {
            "text/plain": [
              "<matplotlib.legend.Legend at 0x7fd711b76a10>"
            ]
          },
          "metadata": {
            "tags": []
          },
          "execution_count": 16
        },
        {
          "output_type": "display_data",
          "data": {
            "image/png": "[encoded data removed]",
            "text/plain": [
              "<Figure size 720x504 with 1 Axes>"
            ]
          },
          "metadata": {
            "tags": [],
            "needs_background": "light"
          }
        }
      ]
    },
    {
      "cell_type": "code",
      "metadata": {
        "id": "eaA6HwfJ3at2",
        "colab": {
          "base_uri": "https://localhost:8080/"
        },
        "outputId": "ace4825b-9bac-44a1-cecb-3ffd9cb471b8"
      },
      "source": [
        "# Create the neural network\n",
        "model = tf.keras.Sequential([\n",
        "    tf.keras.layers.Dense(1)\n",
        "])\n",
        "\n",
        "# Compile model\n",
        "model.compile(loss=tf.keras.losses.mae,\n",
        "              optimizer=tf.keras.optimizers.SGD(),\n",
        "              metrics=['mae'])\n",
        "\n",
        "# Fit the model\n",
        "model.fit(X_train, y_train, epochs=100)"
      ],
      "execution_count": null,
      "outputs": [
        {
          "output_type": "stream",
          "text": [
            "Epoch 1/100\n",
            "2/2 [==============================] - 0s 4ms/step - loss: 8.8160 - mae: 8.8160\n",
            "Epoch 2/100\n",
            "2/2 [==============================] - 0s 5ms/step - loss: 9.4374 - mae: 9.4374\n",
            "Epoch 3/100\n",
            "2/2 [==============================] - 0s 7ms/step - loss: 11.9512 - mae: 11.9512\n",
            "Epoch 4/100\n",
            "2/2 [==============================] - 0s 13ms/step - loss: 9.1800 - mae: 9.1800\n",
            "Epoch 5/100\n",
            "2/2 [==============================] - 0s 10ms/step - loss: 10.0313 - mae: 10.0313\n",
            "Epoch 6/100\n",
            "2/2 [==============================] - 0s 4ms/step - loss: 9.3097 - mae: 9.3097\n",
            "Epoch 7/100\n",
            "2/2 [==============================] - 0s 5ms/step - loss: 8.4690 - mae: 8.4690\n",
            "Epoch 8/100\n",
            "2/2 [==============================] - 0s 4ms/step - loss: 9.0316 - mae: 9.0316\n",
            "Epoch 9/100\n",
            "2/2 [==============================] - 0s 7ms/step - loss: 18.5057 - mae: 18.5057\n",
            "Epoch 10/100\n",
            "2/2 [==============================] - 0s 7ms/step - loss: 9.9744 - mae: 9.9744\n",
            "Epoch 11/100\n",
            "2/2 [==============================] - 0s 5ms/step - loss: 8.3410 - mae: 8.3410\n",
            "Epoch 12/100\n",
            "2/2 [==============================] - 0s 12ms/step - loss: 10.5511 - mae: 10.5511\n",
            "Epoch 13/100\n",
            "2/2 [==============================] - 0s 4ms/step - loss: 9.7502 - mae: 9.7502\n",
            "Epoch 14/100\n",
            "2/2 [==============================] - 0s 4ms/step - loss: 15.7489 - mae: 15.7489\n",
            "Epoch 15/100\n",
            "2/2 [==============================] - 0s 6ms/step - loss: 11.6066 - mae: 11.6066\n",
            "Epoch 16/100\n",
            "2/2 [==============================] - 0s 8ms/step - loss: 8.4748 - mae: 8.4748\n",
            "Epoch 17/100\n",
            "2/2 [==============================] - 0s 7ms/step - loss: 13.4903 - mae: 13.4903\n",
            "Epoch 18/100\n",
            "2/2 [==============================] - 0s 6ms/step - loss: 11.2834 - mae: 11.2834\n",
            "Epoch 19/100\n",
            "2/2 [==============================] - 0s 4ms/step - loss: 18.2172 - mae: 18.2172\n",
            "Epoch 20/100\n",
            "2/2 [==============================] - 0s 8ms/step - loss: 14.9262 - mae: 14.9262\n",
            "Epoch 21/100\n",
            "2/2 [==============================] - 0s 4ms/step - loss: 10.8143 - mae: 10.8143\n",
            "Epoch 22/100\n",
            "2/2 [==============================] - 0s 6ms/step - loss: 8.5618 - mae: 8.5618\n",
            "Epoch 23/100\n",
            "2/2 [==============================] - 0s 3ms/step - loss: 9.7289 - mae: 9.7289\n",
            "Epoch 24/100\n",
            "2/2 [==============================] - 0s 4ms/step - loss: 10.9237 - mae: 10.9237\n",
            "Epoch 25/100\n",
            "2/2 [==============================] - 0s 6ms/step - loss: 9.1435 - mae: 9.1435\n",
            "Epoch 26/100\n",
            "2/2 [==============================] - 0s 4ms/step - loss: 13.1596 - mae: 13.1596\n",
            "Epoch 27/100\n",
            "2/2 [==============================] - 0s 4ms/step - loss: 10.6398 - mae: 10.6398\n",
            "Epoch 28/100\n",
            "2/2 [==============================] - 0s 5ms/step - loss: 12.8491 - mae: 12.8491\n",
            "Epoch 29/100\n",
            "2/2 [==============================] - 0s 4ms/step - loss: 9.4979 - mae: 9.4979\n",
            "Epoch 30/100\n",
            "2/2 [==============================] - 0s 6ms/step - loss: 16.3569 - mae: 16.3569\n",
            "Epoch 31/100\n",
            "2/2 [==============================] - 0s 4ms/step - loss: 23.6240 - mae: 23.6240\n",
            "Epoch 32/100\n",
            "2/2 [==============================] - 0s 3ms/step - loss: 7.6109 - mae: 7.6109\n",
            "Epoch 33/100\n",
            "2/2 [==============================] - 0s 5ms/step - loss: 9.3107 - mae: 9.3107\n",
            "Epoch 34/100\n",
            "2/2 [==============================] - 0s 7ms/step - loss: 13.7115 - mae: 13.7115\n",
            "Epoch 35/100\n",
            "2/2 [==============================] - 0s 6ms/step - loss: 11.1285 - mae: 11.1285\n",
            "Epoch 36/100\n",
            "2/2 [==============================] - 0s 4ms/step - loss: 13.3326 - mae: 13.3326\n",
            "Epoch 37/100\n",
            "2/2 [==============================] - 0s 5ms/step - loss: 9.4627 - mae: 9.4627\n",
            "Epoch 38/100\n",
            "2/2 [==============================] - 0s 5ms/step - loss: 10.1215 - mae: 10.1215\n",
            "Epoch 39/100\n",
            "2/2 [==============================] - 0s 5ms/step - loss: 10.1802 - mae: 10.1802\n",
            "Epoch 40/100\n",
            "2/2 [==============================] - 0s 6ms/step - loss: 10.9184 - mae: 10.9184\n",
            "Epoch 41/100\n",
            "2/2 [==============================] - 0s 4ms/step - loss: 7.9077 - mae: 7.9077\n",
            "Epoch 42/100\n",
            "2/2 [==============================] - 0s 4ms/step - loss: 10.0763 - mae: 10.0763\n",
            "Epoch 43/100\n",
            "2/2 [==============================] - 0s 4ms/step - loss: 8.6899 - mae: 8.6899\n",
            "Epoch 44/100\n",
            "2/2 [==============================] - 0s 11ms/step - loss: 12.1848 - mae: 12.1848\n",
            "Epoch 45/100\n",
            "2/2 [==============================] - 0s 4ms/step - loss: 13.8046 - mae: 13.8046\n",
            "Epoch 46/100\n",
            "2/2 [==============================] - 0s 5ms/step - loss: 8.4704 - mae: 8.4704\n",
            "Epoch 47/100\n",
            "2/2 [==============================] - 0s 5ms/step - loss: 9.1193 - mae: 9.1193\n",
            "Epoch 48/100\n",
            "2/2 [==============================] - 0s 5ms/step - loss: 10.6019 - mae: 10.6019\n",
            "Epoch 49/100\n",
            "2/2 [==============================] - 0s 4ms/step - loss: 7.7377 - mae: 7.7377\n",
            "Epoch 50/100\n",
            "2/2 [==============================] - 0s 7ms/step - loss: 9.5248 - mae: 9.5248\n",
            "Epoch 51/100\n",
            "2/2 [==============================] - 0s 6ms/step - loss: 9.1491 - mae: 9.1491\n",
            "Epoch 52/100\n",
            "2/2 [==============================] - 0s 7ms/step - loss: 16.3421 - mae: 16.3421\n",
            "Epoch 53/100\n",
            "2/2 [==============================] - 0s 5ms/step - loss: 14.1324 - mae: 14.1324\n",
            "Epoch 54/100\n",
            "2/2 [==============================] - 0s 5ms/step - loss: 21.1414 - mae: 21.1414\n",
            "Epoch 55/100\n",
            "2/2 [==============================] - 0s 6ms/step - loss: 16.3755 - mae: 16.3755\n",
            "Epoch 56/100\n",
            "2/2 [==============================] - 0s 4ms/step - loss: 9.9880 - mae: 9.9880\n",
            "Epoch 57/100\n",
            "2/2 [==============================] - 0s 7ms/step - loss: 9.9453 - mae: 9.9453\n",
            "Epoch 58/100\n",
            "2/2 [==============================] - 0s 6ms/step - loss: 9.2063 - mae: 9.2063\n",
            "Epoch 59/100\n",
            "2/2 [==============================] - 0s 6ms/step - loss: 8.4105 - mae: 8.4105\n",
            "Epoch 60/100\n",
            "2/2 [==============================] - 0s 4ms/step - loss: 9.4740 - mae: 9.4740\n",
            "Epoch 61/100\n",
            "2/2 [==============================] - 0s 7ms/step - loss: 11.4166 - mae: 11.4166\n",
            "Epoch 62/100\n",
            "2/2 [==============================] - 0s 4ms/step - loss: 11.6955 - mae: 11.6955\n",
            "Epoch 63/100\n",
            "2/2 [==============================] - 0s 7ms/step - loss: 7.0719 - mae: 7.0719\n",
            "Epoch 64/100\n",
            "2/2 [==============================] - 0s 5ms/step - loss: 16.9764 - mae: 16.9764\n",
            "Epoch 65/100\n",
            "2/2 [==============================] - 0s 4ms/step - loss: 12.4639 - mae: 12.4639\n",
            "Epoch 66/100\n",
            "2/2 [==============================] - 0s 5ms/step - loss: 13.0259 - mae: 13.0259\n",
            "Epoch 67/100\n",
            "2/2 [==============================] - 0s 7ms/step - loss: 8.0575 - mae: 8.0575\n",
            "Epoch 68/100\n",
            "2/2 [==============================] - 0s 4ms/step - loss: 10.1904 - mae: 10.1904\n",
            "Epoch 69/100\n",
            "2/2 [==============================] - 0s 6ms/step - loss: 12.3715 - mae: 12.3715\n",
            "Epoch 70/100\n",
            "2/2 [==============================] - 0s 4ms/step - loss: 9.0372 - mae: 9.0372\n",
            "Epoch 71/100\n",
            "2/2 [==============================] - 0s 4ms/step - loss: 10.0228 - mae: 10.0228\n",
            "Epoch 72/100\n",
            "2/2 [==============================] - 0s 4ms/step - loss: 10.0385 - mae: 10.0385\n",
            "Epoch 73/100\n",
            "2/2 [==============================] - 0s 5ms/step - loss: 12.5957 - mae: 12.5957\n",
            "Epoch 74/100\n",
            "2/2 [==============================] - 0s 7ms/step - loss: 10.3893 - mae: 10.3893\n",
            "Epoch 75/100\n",
            "2/2 [==============================] - 0s 5ms/step - loss: 9.7091 - mae: 9.7091\n",
            "Epoch 76/100\n",
            "2/2 [==============================] - 0s 7ms/step - loss: 11.2084 - mae: 11.2084\n",
            "Epoch 77/100\n",
            "2/2 [==============================] - 0s 4ms/step - loss: 8.3513 - mae: 8.3513\n",
            "Epoch 78/100\n",
            "2/2 [==============================] - 0s 8ms/step - loss: 9.1086 - mae: 9.1086\n",
            "Epoch 79/100\n",
            "2/2 [==============================] - 0s 5ms/step - loss: 19.5193 - mae: 19.5193\n",
            "Epoch 80/100\n",
            "2/2 [==============================] - 0s 5ms/step - loss: 14.8743 - mae: 14.8743\n",
            "Epoch 81/100\n",
            "2/2 [==============================] - 0s 5ms/step - loss: 9.0128 - mae: 9.0128\n",
            "Epoch 82/100\n",
            "2/2 [==============================] - 0s 5ms/step - loss: 13.0024 - mae: 13.0024\n",
            "Epoch 83/100\n",
            "2/2 [==============================] - 0s 5ms/step - loss: 7.9140 - mae: 7.9140\n",
            "Epoch 84/100\n",
            "2/2 [==============================] - 0s 6ms/step - loss: 7.6842 - mae: 7.6842\n",
            "Epoch 85/100\n",
            "2/2 [==============================] - 0s 10ms/step - loss: 10.0359 - mae: 10.0359\n",
            "Epoch 86/100\n",
            "2/2 [==============================] - 0s 11ms/step - loss: 9.2429 - mae: 9.2429\n",
            "Epoch 87/100\n",
            "2/2 [==============================] - 0s 9ms/step - loss: 12.0268 - mae: 12.0268\n",
            "Epoch 88/100\n",
            "2/2 [==============================] - 0s 4ms/step - loss: 10.6447 - mae: 10.6447\n",
            "Epoch 89/100\n",
            "2/2 [==============================] - 0s 4ms/step - loss: 7.2602 - mae: 7.2602\n",
            "Epoch 90/100\n",
            "2/2 [==============================] - 0s 9ms/step - loss: 12.7860 - mae: 12.7860\n",
            "Epoch 91/100\n",
            "2/2 [==============================] - 0s 9ms/step - loss: 7.4673 - mae: 7.4673\n",
            "Epoch 92/100\n",
            "2/2 [==============================] - 0s 8ms/step - loss: 6.7465 - mae: 6.7465\n",
            "Epoch 93/100\n",
            "2/2 [==============================] - 0s 10ms/step - loss: 11.9362 - mae: 11.9362\n",
            "Epoch 94/100\n",
            "2/2 [==============================] - 0s 4ms/step - loss: 8.8692 - mae: 8.8692\n",
            "Epoch 95/100\n",
            "2/2 [==============================] - 0s 4ms/step - loss: 7.7097 - mae: 7.7097\n",
            "Epoch 96/100\n",
            "2/2 [==============================] - 0s 4ms/step - loss: 6.7426 - mae: 6.7426\n",
            "Epoch 97/100\n",
            "2/2 [==============================] - 0s 4ms/step - loss: 8.6192 - mae: 8.6192\n",
            "Epoch 98/100\n",
            "2/2 [==============================] - 0s 4ms/step - loss: 9.3901 - mae: 9.3901\n",
            "Epoch 99/100\n",
            "2/2 [==============================] - 0s 13ms/step - loss: 9.1252 - mae: 9.1252\n",
            "Epoch 100/100\n",
            "2/2 [==============================] - 0s 5ms/step - loss: 10.4838 - mae: 10.4838\n"
          ],
          "name": "stdout"
        },
        {
          "output_type": "execute_result",
          "data": {
            "text/plain": [
              "<tensorflow.python.keras.callbacks.History at 0x7fd711b70910>"
            ]
          },
          "metadata": {
            "tags": []
          },
          "execution_count": 17
        }
      ]
    },
    {
      "cell_type": "code",
      "metadata": {
        "id": "2zBHgp2X4eNW"
      },
      "source": [
        "# Let's create a model which builds automatically by defining the input_shape argument\n",
        "tf.random.set_seed(42)\n",
        "\n",
        "model = tf.keras.Sequential([\n",
        "    tf.keras.layers.Dense(10, input_shape=[1]),\n",
        "    tf.keras.layers.Dense(1)\n",
        "])\n",
        "\n",
        "model.compile(loss=tf.keras.losses.mae,\n",
        "              optimizer=tf.keras.optimizers.SGD(),\n",
        "              metrics=['mae'])"
      ],
      "execution_count": null,
      "outputs": []
    },
    {
      "cell_type": "code",
      "metadata": {
        "colab": {
          "base_uri": "https://localhost:8080/"
        },
        "id": "6hthkady5DLa",
        "outputId": "72351dd5-0463-45df-9363-eb1193ada195"
      },
      "source": [
        "model.summary()"
      ],
      "execution_count": null,
      "outputs": [
        {
          "output_type": "stream",
          "text": [
            "Model: \"sequential_3\"\n",
            "_________________________________________________________________\n",
            "Layer (type)                 Output Shape              Param #   \n",
            "=================================================================\n",
            "dense_4 (Dense)              (None, 10)                20        \n",
            "_________________________________________________________________\n",
            "dense_5 (Dense)              (None, 1)                 11        \n",
            "=================================================================\n",
            "Total params: 31\n",
            "Trainable params: 31\n",
            "Non-trainable params: 0\n",
            "_________________________________________________________________\n"
          ],
          "name": "stdout"
        }
      ]
    },
    {
      "cell_type": "code",
      "metadata": {
        "colab": {
          "base_uri": "https://localhost:8080/"
        },
        "id": "oHNyY4vR5I3n",
        "outputId": "f603fbb9-edc8-41c8-fbb1-dabfb09193ca"
      },
      "source": [
        "# Fit the model\n",
        "model.fit(X_train, y_train, epochs=100, verbose=0)"
      ],
      "execution_count": null,
      "outputs": [
        {
          "output_type": "execute_result",
          "data": {
            "text/plain": [
              "<tensorflow.python.keras.callbacks.History at 0x7fd71125c650>"
            ]
          },
          "metadata": {
            "tags": []
          },
          "execution_count": 20
        }
      ]
    },
    {
      "cell_type": "code",
      "metadata": {
        "id": "uWz_1cuH6dFs",
        "colab": {
          "base_uri": "https://localhost:8080/",
          "height": 312
        },
        "outputId": "aabb2b28-e092-4b7c-9ea9-1bf300a571bf"
      },
      "source": [
        "from tensorflow.keras.utils import plot_model\n",
        "plot_model(model=model, show_shapes=True)"
      ],
      "execution_count": null,
      "outputs": [
        {
          "output_type": "execute_result",
          "data": {
            "image/png": "[encoded data removed]",
            "text/plain": [
              "<IPython.core.display.Image object>"
            ]
          },
          "metadata": {
            "tags": []
          },
          "execution_count": 21
        }
      ]
    },
    {
      "cell_type": "markdown",
      "metadata": {
        "id": "C9tq_yiL-7-N"
      },
      "source": [
        "### Visualize the model's prediction"
      ]
    },
    {
      "cell_type": "code",
      "metadata": {
        "colab": {
          "base_uri": "https://localhost:8080/"
        },
        "id": "DU-laDj5-XqJ",
        "outputId": "47ed82fa-678c-4040-d1a4-e5973bf48688"
      },
      "source": [
        "# Make predictions\n",
        "y_pred = model.predict(X_test)\n",
        "y_pred"
      ],
      "execution_count": null,
      "outputs": [
        {
          "output_type": "execute_result",
          "data": {
            "text/plain": [
              "array([[ 70.55218 ],\n",
              "       [ 75.13991 ],\n",
              "       [ 79.72763 ],\n",
              "       [ 84.31535 ],\n",
              "       [ 88.903076],\n",
              "       [ 93.49081 ],\n",
              "       [ 98.07853 ],\n",
              "       [102.66625 ],\n",
              "       [107.253975],\n",
              "       [111.8417  ]], dtype=float32)"
            ]
          },
          "metadata": {
            "tags": []
          },
          "execution_count": 22
        }
      ]
    },
    {
      "cell_type": "code",
      "metadata": {
        "colab": {
          "base_uri": "https://localhost:8080/"
        },
        "id": "JrYShbrc_XUX",
        "outputId": "4ea0f1e1-4ea7-4784-f2b1-b1dd922b1f44"
      },
      "source": [
        "y_test"
      ],
      "execution_count": null,
      "outputs": [
        {
          "output_type": "execute_result",
          "data": {
            "text/plain": [
              "<tf.Tensor: shape=(10,), dtype=int32, numpy=array([ 70,  74,  78,  82,  86,  90,  94,  98, 102, 106], dtype=int32)>"
            ]
          },
          "metadata": {
            "tags": []
          },
          "execution_count": 23
        }
      ]
    },
    {
      "cell_type": "code",
      "metadata": {
        "id": "jJSOqo9i_Z-Q"
      },
      "source": [
        "# Plotting function\n",
        "def plot_predictions(train_data=X_train,\n",
        "                     train_labels=y_train,\n",
        "                     test_data=X_test,\n",
        "                     test_labels=y_test,\n",
        "                     predictions=y_pred):\n",
        "  \n",
        "  plt.figure(figsize=(10, 7))\n",
        "  plt.scatter(train_data, train_labels, c='b', label=\"Training Data\")\n",
        "  plt.scatter(test_data, test_labels, c='g', label=\"Testing Data\")\n",
        "  plt.scatter(test_data, predictions, c='r', label=\"Predictions\")\n",
        "  plt.legend()"
      ],
      "execution_count": null,
      "outputs": []
    },
    {
      "cell_type": "code",
      "metadata": {
        "colab": {
          "base_uri": "https://localhost:8080/",
          "height": 428
        },
        "id": "g0eUftjmA8MM",
        "outputId": "ad91dc6d-7cb7-4395-fb0f-e3ea16aa0cb7"
      },
      "source": [
        "plot_predictions(X_train, y_train, X_test, y_test, y_pred)"
      ],
      "execution_count": null,
      "outputs": [
        {
          "output_type": "display_data",
          "data": {
            "image/png": "[encoded data removed]",
            "text/plain": [
              "<Figure size 720x504 with 1 Axes>"
            ]
          },
          "metadata": {
            "tags": [],
            "needs_background": "light"
          }
        }
      ]
    },
    {
      "cell_type": "markdown",
      "metadata": {
        "id": "_nzaglCTBTog"
      },
      "source": [
        "### Regression Evaluation Metrics\n",
        "\n",
        "Two main metrics are:\n",
        "* MAE - mean absolute error, on average how wrong is each of the model's predictions\n",
        "* MSE - mean squared error, square the average errors\n",
        "* Huber - combination of MSE and MAE.\n",
        "\n",
        "![Capture2.PNG](data:image/png;base64,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)"
      ]
    },
    {
      "cell_type": "code",
      "metadata": {
        "colab": {
          "base_uri": "https://localhost:8080/"
        },
        "id": "uTZELxfTA-3w",
        "outputId": "64704351-de6c-461c-ae41-787de3979a12"
      },
      "source": [
        "# Evaluate the model on test set\n",
        "model.evaluate(X_test, y_test)"
      ],
      "execution_count": null,
      "outputs": [
        {
          "output_type": "stream",
          "text": [
            "1/1 [==============================] - 0s 148ms/step - loss: 3.1969 - mae: 3.1969\n"
          ],
          "name": "stdout"
        },
        {
          "output_type": "execute_result",
          "data": {
            "text/plain": [
              "[3.196942090988159, 3.196942090988159]"
            ]
          },
          "metadata": {
            "tags": []
          },
          "execution_count": 26
        }
      ]
    },
    {
      "cell_type": "markdown",
      "metadata": {
        "id": "fv6FcH3-dX5M"
      },
      "source": [
        "For comparing tensors, the shape of both the tensors should be same"
      ]
    },
    {
      "cell_type": "code",
      "metadata": {
        "id": "EIaiihkdDhPf",
        "colab": {
          "base_uri": "https://localhost:8080/"
        },
        "outputId": "73fe7f45-be14-4467-8234-87d6b3b07a0e"
      },
      "source": [
        "# Calculate mean absolute error\n",
        "mae = tf.metrics.mean_absolute_error(y_test, tf.constant(y_pred))\n",
        "mae"
      ],
      "execution_count": null,
      "outputs": [
        {
          "output_type": "execute_result",
          "data": {
            "text/plain": [
              "<tf.Tensor: shape=(10,), dtype=float32, numpy=\n",
              "array([17.558258 , 14.1160555, 11.708948 , 10.336929 , 10.       ,\n",
              "       10.698161 , 12.447118 , 15.333002 , 19.253975 , 23.841698 ],\n",
              "      dtype=float32)>"
            ]
          },
          "metadata": {
            "tags": []
          },
          "execution_count": 27
        }
      ]
    },
    {
      "cell_type": "code",
      "metadata": {
        "id": "YV-3n3eXc9pP"
      },
      "source": [
        "y_pred = tf.constant(y_pred)"
      ],
      "execution_count": null,
      "outputs": []
    },
    {
      "cell_type": "code",
      "metadata": {
        "colab": {
          "base_uri": "https://localhost:8080/"
        },
        "id": "zvffiT4rdk8h",
        "outputId": "9ff9747e-c9ce-46fb-a386-b77f3fe57a35"
      },
      "source": [
        "y_pred.shape, y_test.shape"
      ],
      "execution_count": null,
      "outputs": [
        {
          "output_type": "execute_result",
          "data": {
            "text/plain": [
              "(TensorShape([10, 1]), TensorShape([10]))"
            ]
          },
          "metadata": {
            "tags": []
          },
          "execution_count": 29
        }
      ]
    },
    {
      "cell_type": "code",
      "metadata": {
        "colab": {
          "base_uri": "https://localhost:8080/"
        },
        "id": "eIC5mqdtdwCY",
        "outputId": "45085898-992f-411d-a56e-d9070b741d09"
      },
      "source": [
        "tf.squeeze(y_pred)"
      ],
      "execution_count": null,
      "outputs": [
        {
          "output_type": "execute_result",
          "data": {
            "text/plain": [
              "<tf.Tensor: shape=(10,), dtype=float32, numpy=\n",
              "array([ 70.55218 ,  75.13991 ,  79.72763 ,  84.31535 ,  88.903076,\n",
              "        93.49081 ,  98.07853 , 102.66625 , 107.253975, 111.8417  ],\n",
              "      dtype=float32)>"
            ]
          },
          "metadata": {
            "tags": []
          },
          "execution_count": 30
        }
      ]
    },
    {
      "cell_type": "code",
      "metadata": {
        "colab": {
          "base_uri": "https://localhost:8080/"
        },
        "id": "vzH_3wvPdzZ4",
        "outputId": "af33c952-77a6-4264-defa-cf7539835531"
      },
      "source": [
        "mae = tf.metrics.mean_absolute_error(y_test, tf.squeeze(y_pred))\n",
        "mae"
      ],
      "execution_count": null,
      "outputs": [
        {
          "output_type": "execute_result",
          "data": {
            "text/plain": [
              "<tf.Tensor: shape=(), dtype=float32, numpy=3.1969407>"
            ]
          },
          "metadata": {
            "tags": []
          },
          "execution_count": 31
        }
      ]
    },
    {
      "cell_type": "code",
      "metadata": {
        "colab": {
          "base_uri": "https://localhost:8080/"
        },
        "id": "kq19KozNd56V",
        "outputId": "44e0ba17-537d-4411-cadd-e6bc0e1e48e4"
      },
      "source": [
        "# Calculate the mean square error\n",
        "mse = tf.metrics.mean_squared_error(y_test, tf.squeeze(y_pred))\n",
        "mse"
      ],
      "execution_count": null,
      "outputs": [
        {
          "output_type": "execute_result",
          "data": {
            "text/plain": [
              "<tf.Tensor: shape=(), dtype=float32, numpy=13.070143>"
            ]
          },
          "metadata": {
            "tags": []
          },
          "execution_count": 32
        }
      ]
    },
    {
      "cell_type": "code",
      "metadata": {
        "id": "3HnzU_aDeUbf"
      },
      "source": [
        "# Function to use MAE and MSE\n",
        "def mae(y_true, y_pred):\n",
        "  return tf.metrics.mean_absolute_error(y_true, tf.squeeze(y_pred))\n",
        "\n",
        "def mse(y_true, y_pred):\n",
        "  return tf.metrics.mean_squared_error(y_true, tf.squeeze(y_pred))"
      ],
      "execution_count": null,
      "outputs": []
    },
    {
      "cell_type": "markdown",
      "metadata": {
        "id": "oVIDzAwAMjX-"
      },
      "source": [
        "## Running experiments to improve the model\n",
        "\n",
        "1. Get more data\n",
        "2. Make the model larger\n",
        "3. Train for longer"
      ]
    },
    {
      "cell_type": "code",
      "metadata": {
        "id": "Vr5h31bHe__j",
        "colab": {
          "base_uri": "https://localhost:8080/"
        },
        "outputId": "8e8f108e-de22-41d3-95f2-264d751c7f1d"
      },
      "source": [
        "X_train, y_train"
      ],
      "execution_count": null,
      "outputs": [
        {
          "output_type": "execute_result",
          "data": {
            "text/plain": [
              "(<tf.Tensor: shape=(40,), dtype=int32, numpy=\n",
              " array([-100,  -96,  -92,  -88,  -84,  -80,  -76,  -72,  -68,  -64,  -60,\n",
              "         -56,  -52,  -48,  -44,  -40,  -36,  -32,  -28,  -24,  -20,  -16,\n",
              "         -12,   -8,   -4,    0,    4,    8,   12,   16,   20,   24,   28,\n",
              "          32,   36,   40,   44,   48,   52,   56], dtype=int32)>,\n",
              " <tf.Tensor: shape=(40,), dtype=int32, numpy=\n",
              " array([-90, -86, -82, -78, -74, -70, -66, -62, -58, -54, -50, -46, -42,\n",
              "        -38, -34, -30, -26, -22, -18, -14, -10,  -6,  -2,   2,   6,  10,\n",
              "         14,  18,  22,  26,  30,  34,  38,  42,  46,  50,  54,  58,  62,\n",
              "         66], dtype=int32)>)"
            ]
          },
          "metadata": {
            "tags": []
          },
          "execution_count": 34
        }
      ]
    },
    {
      "cell_type": "markdown",
      "metadata": {
        "id": "Dl5Ua53VNfSb"
      },
      "source": [
        "**Build `model_1`**"
      ]
    },
    {
      "cell_type": "code",
      "metadata": {
        "colab": {
          "base_uri": "https://localhost:8080/"
        },
        "id": "C-YtfDegM-vW",
        "outputId": "e532f63c-6b17-442f-86c7-b0a706803f67"
      },
      "source": [
        "# Set random seed\n",
        "tf.random.set_seed(42)\n",
        "\n",
        "# Create the model\n",
        "model_1 = tf.keras.Sequential([\n",
        "      tf.keras.layers.Dense(1)\n",
        "])\n",
        "\n",
        "# Compile the model\n",
        "model_1.compile(loss=tf.keras.losses.mae,\n",
        "                optimizer=tf.keras.optimizers.SGD(),\n",
        "                metrics=['mae'])\n",
        "\n",
        "# Fit the model\n",
        "model_1.fit(X_train, y_train, epochs=100)"
      ],
      "execution_count": null,
      "outputs": [
        {
          "output_type": "stream",
          "text": [
            "Epoch 1/100\n",
            "2/2 [==============================] - 0s 9ms/step - loss: 15.9024 - mae: 15.9024\n",
            "Epoch 2/100\n",
            "2/2 [==============================] - 0s 4ms/step - loss: 11.2837 - mae: 11.2837\n",
            "Epoch 3/100\n",
            "2/2 [==============================] - 0s 5ms/step - loss: 11.1074 - mae: 11.1074\n",
            "Epoch 4/100\n",
            "2/2 [==============================] - 0s 14ms/step - loss: 9.2991 - mae: 9.2991\n",
            "Epoch 5/100\n",
            "2/2 [==============================] - 0s 8ms/step - loss: 10.1677 - mae: 10.1677\n",
            "Epoch 6/100\n",
            "2/2 [==============================] - 0s 11ms/step - loss: 9.4303 - mae: 9.4303\n",
            "Epoch 7/100\n",
            "2/2 [==============================] - 0s 6ms/step - loss: 8.5704 - mae: 8.5704\n",
            "Epoch 8/100\n",
            "2/2 [==============================] - 0s 4ms/step - loss: 9.0442 - mae: 9.0442\n",
            "Epoch 9/100\n",
            "2/2 [==============================] - 0s 6ms/step - loss: 18.7517 - mae: 18.7517\n",
            "Epoch 10/100\n",
            "2/2 [==============================] - 0s 4ms/step - loss: 10.1142 - mae: 10.1142\n",
            "Epoch 11/100\n",
            "2/2 [==============================] - 0s 7ms/step - loss: 8.3980 - mae: 8.3980\n",
            "Epoch 12/100\n",
            "2/2 [==============================] - 0s 4ms/step - loss: 10.6639 - mae: 10.6639\n",
            "Epoch 13/100\n",
            "2/2 [==============================] - 0s 7ms/step - loss: 9.7977 - mae: 9.7977\n",
            "Epoch 14/100\n",
            "2/2 [==============================] - 0s 9ms/step - loss: 16.0103 - mae: 16.0103\n",
            "Epoch 15/100\n",
            "2/2 [==============================] - 0s 9ms/step - loss: 11.4068 - mae: 11.4068\n",
            "Epoch 16/100\n",
            "2/2 [==============================] - 0s 7ms/step - loss: 8.5393 - mae: 8.5393\n",
            "Epoch 17/100\n",
            "2/2 [==============================] - 0s 6ms/step - loss: 13.6348 - mae: 13.6348\n",
            "Epoch 18/100\n",
            "2/2 [==============================] - 0s 9ms/step - loss: 11.4629 - mae: 11.4629\n",
            "Epoch 19/100\n",
            "2/2 [==============================] - 0s 8ms/step - loss: 17.9148 - mae: 17.9148\n",
            "Epoch 20/100\n",
            "2/2 [==============================] - 0s 11ms/step - loss: 15.0494 - mae: 15.0494\n",
            "Epoch 21/100\n",
            "2/2 [==============================] - 0s 7ms/step - loss: 11.0216 - mae: 11.0216\n",
            "Epoch 22/100\n",
            "2/2 [==============================] - 0s 7ms/step - loss: 8.1558 - mae: 8.1558\n",
            "Epoch 23/100\n",
            "2/2 [==============================] - 0s 6ms/step - loss: 9.5138 - mae: 9.5138\n",
            "Epoch 24/100\n",
            "2/2 [==============================] - 0s 9ms/step - loss: 7.6617 - mae: 7.6617\n",
            "Epoch 25/100\n",
            "2/2 [==============================] - 0s 6ms/step - loss: 13.1859 - mae: 13.1859\n",
            "Epoch 26/100\n",
            "2/2 [==============================] - 0s 8ms/step - loss: 16.4211 - mae: 16.4211\n",
            "Epoch 27/100\n",
            "2/2 [==============================] - 0s 3ms/step - loss: 13.1660 - mae: 13.1660\n",
            "Epoch 28/100\n",
            "2/2 [==============================] - 0s 9ms/step - loss: 14.2559 - mae: 14.2559\n",
            "Epoch 29/100\n",
            "2/2 [==============================] - 0s 11ms/step - loss: 10.0670 - mae: 10.0670\n",
            "Epoch 30/100\n",
            "2/2 [==============================] - 0s 11ms/step - loss: 16.3409 - mae: 16.3409\n",
            "Epoch 31/100\n",
            "2/2 [==============================] - 0s 8ms/step - loss: 23.6444 - mae: 23.6444\n",
            "Epoch 32/100\n",
            "2/2 [==============================] - 0s 6ms/step - loss: 7.6215 - mae: 7.6215\n",
            "Epoch 33/100\n",
            "2/2 [==============================] - 0s 4ms/step - loss: 9.3221 - mae: 9.3221\n",
            "Epoch 34/100\n",
            "2/2 [==============================] - 0s 5ms/step - loss: 13.7313 - mae: 13.7313\n",
            "Epoch 35/100\n",
            "2/2 [==============================] - 0s 9ms/step - loss: 11.1276 - mae: 11.1276\n",
            "Epoch 36/100\n",
            "2/2 [==============================] - 0s 4ms/step - loss: 13.3222 - mae: 13.3222\n",
            "Epoch 37/100\n",
            "2/2 [==============================] - 0s 7ms/step - loss: 9.4763 - mae: 9.4763\n",
            "Epoch 38/100\n",
            "2/2 [==============================] - 0s 6ms/step - loss: 10.1381 - mae: 10.1381\n",
            "Epoch 39/100\n",
            "2/2 [==============================] - 0s 10ms/step - loss: 10.1793 - mae: 10.1793\n",
            "Epoch 40/100\n",
            "2/2 [==============================] - 0s 7ms/step - loss: 10.9137 - mae: 10.9137\n",
            "Epoch 41/100\n",
            "2/2 [==============================] - 0s 5ms/step - loss: 7.9063 - mae: 7.9063\n",
            "Epoch 42/100\n",
            "2/2 [==============================] - 0s 4ms/step - loss: 10.0914 - mae: 10.0914\n",
            "Epoch 43/100\n",
            "2/2 [==============================] - 0s 8ms/step - loss: 8.7006 - mae: 8.7006\n",
            "Epoch 44/100\n",
            "2/2 [==============================] - 0s 10ms/step - loss: 12.2047 - mae: 12.2047\n",
            "Epoch 45/100\n",
            "2/2 [==============================] - 0s 4ms/step - loss: 13.7970 - mae: 13.7970\n",
            "Epoch 46/100\n",
            "2/2 [==============================] - 0s 9ms/step - loss: 8.4687 - mae: 8.4687\n",
            "Epoch 47/100\n",
            "2/2 [==============================] - 0s 4ms/step - loss: 9.1330 - mae: 9.1330\n",
            "Epoch 48/100\n",
            "2/2 [==============================] - 0s 3ms/step - loss: 10.6190 - mae: 10.6190\n",
            "Epoch 49/100\n",
            "2/2 [==============================] - 0s 4ms/step - loss: 7.7503 - mae: 7.7503\n",
            "Epoch 50/100\n",
            "2/2 [==============================] - 0s 5ms/step - loss: 9.5407 - mae: 9.5407\n",
            "Epoch 51/100\n",
            "2/2 [==============================] - 0s 4ms/step - loss: 9.1584 - mae: 9.1584\n",
            "Epoch 52/100\n",
            "2/2 [==============================] - 0s 6ms/step - loss: 16.3630 - mae: 16.3630\n",
            "Epoch 53/100\n",
            "2/2 [==============================] - 0s 4ms/step - loss: 14.1299 - mae: 14.1299\n",
            "Epoch 54/100\n",
            "2/2 [==============================] - 0s 4ms/step - loss: 21.1247 - mae: 21.1247\n",
            "Epoch 55/100\n",
            "2/2 [==============================] - 0s 3ms/step - loss: 16.3961 - mae: 16.3961\n",
            "Epoch 56/100\n",
            "2/2 [==============================] - 0s 4ms/step - loss: 9.9806 - mae: 9.9806\n",
            "Epoch 57/100\n",
            "2/2 [==============================] - 0s 5ms/step - loss: 9.9606 - mae: 9.9606\n",
            "Epoch 58/100\n",
            "2/2 [==============================] - 0s 5ms/step - loss: 9.2209 - mae: 9.2209\n",
            "Epoch 59/100\n",
            "2/2 [==============================] - 0s 6ms/step - loss: 8.4239 - mae: 8.4239\n",
            "Epoch 60/100\n",
            "2/2 [==============================] - 0s 5ms/step - loss: 9.4869 - mae: 9.4869\n",
            "Epoch 61/100\n",
            "2/2 [==============================] - 0s 7ms/step - loss: 11.4355 - mae: 11.4355\n",
            "Epoch 62/100\n",
            "2/2 [==============================] - 0s 5ms/step - loss: 11.6887 - mae: 11.6887\n",
            "Epoch 63/100\n",
            "2/2 [==============================] - 0s 5ms/step - loss: 7.0838 - mae: 7.0838\n",
            "Epoch 64/100\n",
            "2/2 [==============================] - 0s 5ms/step - loss: 16.9675 - mae: 16.9675\n",
            "Epoch 65/100\n",
            "2/2 [==============================] - 0s 9ms/step - loss: 12.4599 - mae: 12.4599\n",
            "Epoch 66/100\n",
            "2/2 [==============================] - 0s 8ms/step - loss: 13.0184 - mae: 13.0184\n",
            "Epoch 67/100\n",
            "2/2 [==============================] - 0s 5ms/step - loss: 8.0600 - mae: 8.0600\n",
            "Epoch 68/100\n",
            "2/2 [==============================] - 0s 9ms/step - loss: 10.1888 - mae: 10.1888\n",
            "Epoch 69/100\n",
            "2/2 [==============================] - 0s 6ms/step - loss: 12.3633 - mae: 12.3633\n",
            "Epoch 70/100\n",
            "2/2 [==============================] - 0s 6ms/step - loss: 9.0516 - mae: 9.0516\n",
            "Epoch 71/100\n",
            "2/2 [==============================] - 0s 9ms/step - loss: 10.0378 - mae: 10.0378\n",
            "Epoch 72/100\n",
            "2/2 [==============================] - 0s 4ms/step - loss: 10.0516 - mae: 10.0516\n",
            "Epoch 73/100\n",
            "2/2 [==============================] - 0s 4ms/step - loss: 12.6151 - mae: 12.6151\n",
            "Epoch 74/100\n",
            "2/2 [==============================] - 0s 5ms/step - loss: 10.3819 - mae: 10.3819\n",
            "Epoch 75/100\n",
            "2/2 [==============================] - 0s 5ms/step - loss: 9.7229 - mae: 9.7229\n",
            "Epoch 76/100\n",
            "2/2 [==============================] - 0s 9ms/step - loss: 11.2252 - mae: 11.2252\n",
            "Epoch 77/100\n",
            "2/2 [==============================] - 0s 5ms/step - loss: 8.3642 - mae: 8.3642\n",
            "Epoch 78/100\n",
            "2/2 [==============================] - 0s 5ms/step - loss: 9.1274 - mae: 9.1274\n",
            "Epoch 79/100\n",
            "2/2 [==============================] - 0s 12ms/step - loss: 19.5039 - mae: 19.5039\n",
            "Epoch 80/100\n",
            "2/2 [==============================] - 0s 5ms/step - loss: 14.8945 - mae: 14.8945\n",
            "Epoch 81/100\n",
            "2/2 [==============================] - 0s 11ms/step - loss: 9.0034 - mae: 9.0034\n",
            "Epoch 82/100\n",
            "2/2 [==============================] - 0s 5ms/step - loss: 13.0206 - mae: 13.0206\n",
            "Epoch 83/100\n",
            "2/2 [==============================] - 0s 4ms/step - loss: 7.9299 - mae: 7.9299\n",
            "Epoch 84/100\n",
            "2/2 [==============================] - 0s 4ms/step - loss: 7.6872 - mae: 7.6872\n",
            "Epoch 85/100\n",
            "2/2 [==============================] - 0s 6ms/step - loss: 10.0328 - mae: 10.0328\n",
            "Epoch 86/100\n",
            "2/2 [==============================] - 0s 8ms/step - loss: 9.2433 - mae: 9.2433\n",
            "Epoch 87/100\n",
            "2/2 [==============================] - 0s 4ms/step - loss: 12.0209 - mae: 12.0209\n",
            "Epoch 88/100\n",
            "2/2 [==============================] - 0s 4ms/step - loss: 10.6389 - mae: 10.6389\n",
            "Epoch 89/100\n",
            "2/2 [==============================] - 0s 5ms/step - loss: 7.2667 - mae: 7.2667\n",
            "Epoch 90/100\n",
            "2/2 [==============================] - 0s 7ms/step - loss: 12.7786 - mae: 12.7786\n",
            "Epoch 91/100\n",
            "2/2 [==============================] - 0s 8ms/step - loss: 7.3481 - mae: 7.3481\n",
            "Epoch 92/100\n",
            "2/2 [==============================] - 0s 8ms/step - loss: 7.7175 - mae: 7.7175\n",
            "Epoch 93/100\n",
            "2/2 [==============================] - 0s 7ms/step - loss: 7.1263 - mae: 7.1263\n",
            "Epoch 94/100\n",
            "2/2 [==============================] - 0s 6ms/step - loss: 12.6190 - mae: 12.6190\n",
            "Epoch 95/100\n",
            "2/2 [==============================] - 0s 9ms/step - loss: 10.0912 - mae: 10.0912\n",
            "Epoch 96/100\n",
            "2/2 [==============================] - 0s 4ms/step - loss: 9.3558 - mae: 9.3558\n",
            "Epoch 97/100\n",
            "2/2 [==============================] - 0s 4ms/step - loss: 12.6834 - mae: 12.6834\n",
            "Epoch 98/100\n",
            "2/2 [==============================] - 0s 13ms/step - loss: 8.6762 - mae: 8.6762\n",
            "Epoch 99/100\n",
            "2/2 [==============================] - 0s 4ms/step - loss: 9.4693 - mae: 9.4693\n",
            "Epoch 100/100\n",
            "2/2 [==============================] - 0s 4ms/step - loss: 8.7067 - mae: 8.7067\n"
          ],
          "name": "stdout"
        },
        {
          "output_type": "execute_result",
          "data": {
            "text/plain": [
              "<tensorflow.python.keras.callbacks.History at 0x7fd7151a5190>"
            ]
          },
          "metadata": {
            "tags": []
          },
          "execution_count": 35
        }
      ]
    },
    {
      "cell_type": "code",
      "metadata": {
        "colab": {
          "base_uri": "https://localhost:8080/",
          "height": 428
        },
        "id": "zHoFWMFKOgLX",
        "outputId": "c8038e2f-0b26-41e3-dd70-5f118983e859"
      },
      "source": [
        "# Make and plot predictions for model_1\n",
        "y_preds_1 = model_1.predict(X_test)\n",
        "plot_predictions(predictions=y_preds_1)"
      ],
      "execution_count": null,
      "outputs": [
        {
          "output_type": "display_data",
          "data": {
            "image/png": "[encoded data removed]",
            "text/plain": [
              "<Figure size 720x504 with 1 Axes>"
            ]
          },
          "metadata": {
            "tags": [],
            "needs_background": "light"
          }
        }
      ]
    },
    {
      "cell_type": "code",
      "metadata": {
        "colab": {
          "base_uri": "https://localhost:8080/"
        },
        "id": "RxYh6xe6O3pf",
        "outputId": "da77c6d1-055d-4b18-eb6a-6bf2c8fdc900"
      },
      "source": [
        "# Calculate model_1 evaluation metrics\n",
        "mae_1 = mae(y_test, y_preds_1)\n",
        "mse_1 = mse(y_test, y_preds_1)\n",
        "mae_1, mse_1"
      ],
      "execution_count": null,
      "outputs": [
        {
          "output_type": "execute_result",
          "data": {
            "text/plain": [
              "(<tf.Tensor: shape=(), dtype=float32, numpy=18.745327>,\n",
              " <tf.Tensor: shape=(), dtype=float32, numpy=353.57336>)"
            ]
          },
          "metadata": {
            "tags": []
          },
          "execution_count": 37
        }
      ]
    },
    {
      "cell_type": "markdown",
      "metadata": {
        "id": "g48abgs3PnGX"
      },
      "source": [
        "**Build `model_2`**\n",
        "* 2 dense layers, trained for 100 epochs"
      ]
    },
    {
      "cell_type": "code",
      "metadata": {
        "colab": {
          "base_uri": "https://localhost:8080/"
        },
        "id": "pn9NFKovPPbw",
        "outputId": "b37eacb1-5103-4f61-9d9f-cfebe7a06e0e"
      },
      "source": [
        "tf.random.set_seed(42)\n",
        "\n",
        "model_2 = tf.keras.Sequential([\n",
        "      tf.keras.layers.Dense(10),\n",
        "      tf.keras.layers.Dense(1)\n",
        "])\n",
        "\n",
        "model_2.compile(loss=tf.keras.losses.mae,\n",
        "                optimizer=tf.keras.optimizers.SGD(),\n",
        "                metrics=['mse'])\n",
        "\n",
        "model_2.fit(X_train, y_train, epochs=100)"
      ],
      "execution_count": null,
      "outputs": [
        {
          "output_type": "stream",
          "text": [
            "Epoch 1/100\n",
            "2/2 [==============================] - 0s 7ms/step - loss: 27.4058 - mse: 1084.1482\n",
            "Epoch 2/100\n",
            "2/2 [==============================] - 0s 3ms/step - loss: 24.6339 - mse: 777.9203\n",
            "Epoch 3/100\n",
            "2/2 [==============================] - 0s 16ms/step - loss: 29.8935 - mse: 1334.8956\n",
            "Epoch 4/100\n",
            "2/2 [==============================] - 0s 10ms/step - loss: 27.4055 - mse: 1106.8035\n",
            "Epoch 5/100\n",
            "2/2 [==============================] - 0s 9ms/step - loss: 14.9463 - mse: 281.1077\n",
            "Epoch 6/100\n",
            "2/2 [==============================] - 0s 8ms/step - loss: 11.8819 - mse: 168.6621\n",
            "Epoch 7/100\n",
            "2/2 [==============================] - 0s 8ms/step - loss: 11.1988 - mse: 151.3509\n",
            "Epoch 8/100\n",
            "2/2 [==============================] - 0s 4ms/step - loss: 11.0910 - mse: 160.3745\n",
            "Epoch 9/100\n",
            "2/2 [==============================] - 0s 5ms/step - loss: 40.4763 - mse: 2586.0090\n",
            "Epoch 10/100\n",
            "2/2 [==============================] - 0s 9ms/step - loss: 27.8688 - mse: 1094.4382\n",
            "Epoch 11/100\n",
            "2/2 [==============================] - 0s 8ms/step - loss: 10.2473 - mse: 147.9359\n",
            "Epoch 12/100\n",
            "2/2 [==============================] - 0s 10ms/step - loss: 25.2803 - mse: 890.3866\n",
            "Epoch 13/100\n",
            "2/2 [==============================] - 0s 8ms/step - loss: 16.9897 - mse: 399.9678\n",
            "Epoch 14/100\n",
            "2/2 [==============================] - 0s 14ms/step - loss: 25.9217 - mse: 1049.5515\n",
            "Epoch 15/100\n",
            "2/2 [==============================] - 0s 6ms/step - loss: 17.9948 - mse: 450.2580\n",
            "Epoch 16/100\n",
            "2/2 [==============================] - 0s 6ms/step - loss: 7.3510 - mse: 80.6206\n",
            "Epoch 17/100\n",
            "2/2 [==============================] - 0s 6ms/step - loss: 10.8636 - mse: 174.7868\n",
            "Epoch 18/100\n",
            "2/2 [==============================] - 0s 5ms/step - loss: 19.5304 - mse: 565.8053\n",
            "Epoch 19/100\n",
            "2/2 [==============================] - 0s 4ms/step - loss: 10.3469 - mse: 167.7749\n",
            "Epoch 20/100\n",
            "2/2 [==============================] - 0s 6ms/step - loss: 17.6985 - mse: 455.7096\n",
            "Epoch 21/100\n",
            "2/2 [==============================] - 0s 4ms/step - loss: 15.8984 - mse: 347.1929\n",
            "Epoch 22/100\n",
            "2/2 [==============================] - 0s 4ms/step - loss: 14.1991 - mse: 285.1767\n",
            "Epoch 23/100\n",
            "2/2 [==============================] - 0s 4ms/step - loss: 8.7720 - mse: 91.7852\n",
            "Epoch 24/100\n",
            "2/2 [==============================] - 0s 6ms/step - loss: 11.0570 - mse: 153.7430\n",
            "Epoch 25/100\n",
            "2/2 [==============================] - 0s 4ms/step - loss: 12.6838 - mse: 233.2949\n",
            "Epoch 26/100\n",
            "2/2 [==============================] - 0s 4ms/step - loss: 26.1877 - mse: 1024.6091\n",
            "Epoch 27/100\n",
            "2/2 [==============================] - 0s 4ms/step - loss: 11.7432 - mse: 194.8454\n",
            "Epoch 28/100\n",
            "2/2 [==============================] - 0s 4ms/step - loss: 22.8730 - mse: 835.6074\n",
            "Epoch 29/100\n",
            "2/2 [==============================] - 0s 4ms/step - loss: 9.2459 - mse: 96.7786\n",
            "Epoch 30/100\n",
            "2/2 [==============================] - 0s 6ms/step - loss: 29.2641 - mse: 1535.1349\n",
            "Epoch 31/100\n",
            "2/2 [==============================] - 0s 4ms/step - loss: 53.0225 - mse: 5030.2988\n",
            "Epoch 32/100\n",
            "2/2 [==============================] - 0s 3ms/step - loss: 11.9951 - mse: 211.7025\n",
            "Epoch 33/100\n",
            "2/2 [==============================] - 0s 4ms/step - loss: 15.6357 - mse: 337.3666\n",
            "Epoch 34/100\n",
            "2/2 [==============================] - 0s 4ms/step - loss: 12.6925 - mse: 214.4824\n",
            "Epoch 35/100\n",
            "2/2 [==============================] - 0s 5ms/step - loss: 9.2398 - mse: 92.9126\n",
            "Epoch 36/100\n",
            "2/2 [==============================] - 0s 4ms/step - loss: 16.6497 - mse: 403.6573\n",
            "Epoch 37/100\n",
            "2/2 [==============================] - 0s 5ms/step - loss: 11.0382 - mse: 192.3919\n",
            "Epoch 38/100\n",
            "2/2 [==============================] - 0s 4ms/step - loss: 18.1634 - mse: 433.6717\n",
            "Epoch 39/100\n",
            "2/2 [==============================] - 0s 4ms/step - loss: 19.1013 - mse: 529.6439\n",
            "Epoch 40/100\n",
            "2/2 [==============================] - 0s 4ms/step - loss: 20.4324 - mse: 610.1324\n",
            "Epoch 41/100\n",
            "2/2 [==============================] - 0s 4ms/step - loss: 14.9102 - mse: 279.6183\n",
            "Epoch 42/100\n",
            "2/2 [==============================] - 0s 5ms/step - loss: 12.2809 - mse: 186.6180\n",
            "Epoch 43/100\n",
            "2/2 [==============================] - 0s 4ms/step - loss: 10.7333 - mse: 167.0952\n",
            "Epoch 44/100\n",
            "2/2 [==============================] - 0s 4ms/step - loss: 23.0260 - mse: 830.4244\n",
            "Epoch 45/100\n",
            "2/2 [==============================] - 0s 4ms/step - loss: 10.3897 - mse: 128.9549\n",
            "Epoch 46/100\n",
            "2/2 [==============================] - 0s 4ms/step - loss: 11.7904 - mse: 181.9212\n",
            "Epoch 47/100\n",
            "2/2 [==============================] - 0s 5ms/step - loss: 9.6438 - mse: 153.8708\n",
            "Epoch 48/100\n",
            "2/2 [==============================] - 0s 4ms/step - loss: 17.2335 - mse: 402.8494\n",
            "Epoch 49/100\n",
            "2/2 [==============================] - 0s 4ms/step - loss: 9.5729 - mse: 99.8337\n",
            "Epoch 50/100\n",
            "2/2 [==============================] - 0s 4ms/step - loss: 13.8185 - mse: 260.3670\n",
            "Epoch 51/100\n",
            "2/2 [==============================] - 0s 6ms/step - loss: 11.5958 - mse: 154.7956\n",
            "Epoch 52/100\n",
            "2/2 [==============================] - 0s 10ms/step - loss: 30.5538 - mse: 1613.0886\n",
            "Epoch 53/100\n",
            "2/2 [==============================] - 0s 5ms/step - loss: 14.3541 - mse: 302.5293\n",
            "Epoch 54/100\n",
            "2/2 [==============================] - 0s 6ms/step - loss: 23.9713 - mse: 859.3983\n",
            "Epoch 55/100\n",
            "2/2 [==============================] - 0s 6ms/step - loss: 23.1938 - mse: 805.5452\n",
            "Epoch 56/100\n",
            "2/2 [==============================] - 0s 6ms/step - loss: 10.8837 - mse: 170.9834\n",
            "Epoch 57/100\n",
            "2/2 [==============================] - 0s 6ms/step - loss: 12.7445 - mse: 198.7015\n",
            "Epoch 58/100\n",
            "2/2 [==============================] - 0s 7ms/step - loss: 9.5995 - mse: 102.5890\n",
            "Epoch 59/100\n",
            "2/2 [==============================] - 0s 5ms/step - loss: 12.5172 - mse: 216.3367\n",
            "Epoch 60/100\n",
            "2/2 [==============================] - 0s 7ms/step - loss: 12.3200 - mse: 208.6371\n",
            "Epoch 61/100\n",
            "2/2 [==============================] - 0s 6ms/step - loss: 17.4604 - mse: 428.6393\n",
            "Epoch 62/100\n",
            "2/2 [==============================] - 0s 4ms/step - loss: 10.6052 - mse: 136.9777\n",
            "Epoch 63/100\n",
            "2/2 [==============================] - 0s 6ms/step - loss: 10.4893 - mse: 152.4555\n",
            "Epoch 64/100\n",
            "2/2 [==============================] - 0s 7ms/step - loss: 24.8450 - mse: 911.7512\n",
            "Epoch 65/100\n",
            "2/2 [==============================] - 0s 5ms/step - loss: 10.6761 - mse: 142.7374\n",
            "Epoch 66/100\n",
            "2/2 [==============================] - 0s 5ms/step - loss: 21.7809 - mse: 704.4492\n",
            "Epoch 67/100\n",
            "2/2 [==============================] - 0s 7ms/step - loss: 10.7136 - mse: 136.0194\n",
            "Epoch 68/100\n",
            "2/2 [==============================] - 0s 4ms/step - loss: 10.6397 - mse: 149.2300\n",
            "Epoch 69/100\n",
            "2/2 [==============================] - 0s 6ms/step - loss: 22.6914 - mse: 742.1761\n",
            "Epoch 70/100\n",
            "2/2 [==============================] - 0s 4ms/step - loss: 9.3316 - mse: 166.1628\n",
            "Epoch 71/100\n",
            "2/2 [==============================] - 0s 5ms/step - loss: 15.4355 - mse: 323.0843\n",
            "Epoch 72/100\n",
            "2/2 [==============================] - 0s 9ms/step - loss: 6.7437 - mse: 67.0210\n",
            "Epoch 73/100\n",
            "2/2 [==============================] - 0s 9ms/step - loss: 11.6891 - mse: 183.7296\n",
            "Epoch 74/100\n",
            "2/2 [==============================] - 0s 5ms/step - loss: 24.0400 - mse: 908.8992\n",
            "Epoch 75/100\n",
            "2/2 [==============================] - 0s 7ms/step - loss: 9.5896 - mse: 149.3948\n",
            "Epoch 76/100\n",
            "2/2 [==============================] - 0s 9ms/step - loss: 12.4371 - mse: 188.3310\n",
            "Epoch 77/100\n",
            "2/2 [==============================] - 0s 7ms/step - loss: 16.6489 - mse: 429.2708\n",
            "Epoch 78/100\n",
            "2/2 [==============================] - 0s 5ms/step - loss: 9.0614 - mse: 95.4870\n",
            "Epoch 79/100\n",
            "2/2 [==============================] - 0s 7ms/step - loss: 23.9675 - mse: 864.0864\n",
            "Epoch 80/100\n",
            "2/2 [==============================] - 0s 5ms/step - loss: 26.7463 - mse: 1104.4032\n",
            "Epoch 81/100\n",
            "2/2 [==============================] - 0s 5ms/step - loss: 11.6714 - mse: 170.7055\n",
            "Epoch 82/100\n",
            "2/2 [==============================] - 0s 13ms/step - loss: 12.0228 - mse: 211.9191\n",
            "Epoch 83/100\n",
            "2/2 [==============================] - 0s 5ms/step - loss: 17.4218 - mse: 395.5589\n",
            "Epoch 84/100\n",
            "2/2 [==============================] - 0s 5ms/step - loss: 7.2629 - mse: 73.0935\n",
            "Epoch 85/100\n",
            "2/2 [==============================] - 0s 16ms/step - loss: 14.9650 - mse: 312.8361\n",
            "Epoch 86/100\n",
            "2/2 [==============================] - 0s 5ms/step - loss: 15.2862 - mse: 315.3605\n",
            "Epoch 87/100\n",
            "2/2 [==============================] - 0s 5ms/step - loss: 19.1086 - mse: 521.2534\n",
            "Epoch 88/100\n",
            "2/2 [==============================] - 0s 4ms/step - loss: 29.8229 - mse: 1287.1907\n",
            "Epoch 89/100\n",
            "2/2 [==============================] - 0s 5ms/step - loss: 10.1742 - mse: 124.1342\n",
            "Epoch 90/100\n",
            "2/2 [==============================] - 0s 5ms/step - loss: 21.5240 - mse: 663.8611\n",
            "Epoch 91/100\n",
            "2/2 [==============================] - 0s 4ms/step - loss: 10.5716 - mse: 161.7467\n",
            "Epoch 92/100\n",
            "2/2 [==============================] - 0s 5ms/step - loss: 18.3977 - mse: 464.1326\n",
            "Epoch 93/100\n",
            "2/2 [==============================] - 0s 6ms/step - loss: 7.4138 - mse: 81.9820\n",
            "Epoch 94/100\n",
            "2/2 [==============================] - 0s 4ms/step - loss: 17.7380 - mse: 445.7379\n",
            "Epoch 95/100\n",
            "2/2 [==============================] - 0s 5ms/step - loss: 11.1144 - mse: 164.0820\n",
            "Epoch 96/100\n",
            "2/2 [==============================] - 0s 5ms/step - loss: 19.4346 - mse: 510.5842\n",
            "Epoch 97/100\n",
            "2/2 [==============================] - 0s 11ms/step - loss: 12.1593 - mse: 209.9755\n",
            "Epoch 98/100\n",
            "2/2 [==============================] - 0s 5ms/step - loss: 11.5653 - mse: 169.4052\n",
            "Epoch 99/100\n",
            "2/2 [==============================] - 0s 8ms/step - loss: 13.8827 - mse: 265.4630\n",
            "Epoch 100/100\n",
            "2/2 [==============================] - 0s 4ms/step - loss: 20.2277 - mse: 608.8218\n"
          ],
          "name": "stdout"
        },
        {
          "output_type": "execute_result",
          "data": {
            "text/plain": [
              "<tensorflow.python.keras.callbacks.History at 0x7fd715bdb8d0>"
            ]
          },
          "metadata": {
            "tags": []
          },
          "execution_count": 38
        }
      ]
    },
    {
      "cell_type": "code",
      "metadata": {
        "colab": {
          "base_uri": "https://localhost:8080/",
          "height": 465
        },
        "id": "GH1PVow2QpFq",
        "outputId": "db36cf55-1374-43b4-86ad-ede7e6f10fde"
      },
      "source": [
        "y_preds_2 = model_2.predict(X_test)\n",
        "plot_predictions(predictions = y_preds_2)"
      ],
      "execution_count": null,
      "outputs": [
        {
          "output_type": "stream",
          "text": [
            "WARNING:tensorflow:5 out of the last 5 calls to <function Model.make_predict_function.<locals>.predict_function at 0x7fd715b429e0> triggered tf.function retracing. Tracing is expensive and the excessive number of tracings could be due to (1) creating @tf.function repeatedly in a loop, (2) passing tensors with different shapes, (3) passing Python objects instead of tensors. For (1), please define your @tf.function outside of the loop. For (2), @tf.function has experimental_relax_shapes=True option that relaxes argument shapes that can avoid unnecessary retracing. For (3), please refer to https://www.tensorflow.org/guide/function#controlling_retracing and https://www.tensorflow.org/api_docs/python/tf/function for  more details.\n"
          ],
          "name": "stdout"
        },
        {
          "output_type": "display_data",
          "data": {
            "image/png": "[encoded data removed]",
            "text/plain": [
              "<Figure size 720x504 with 1 Axes>"
            ]
          },
          "metadata": {
            "tags": [],
            "needs_background": "light"
          }
        }
      ]
    },
    {
      "cell_type": "code",
      "metadata": {
        "colab": {
          "base_uri": "https://localhost:8080/"
        },
        "id": "tO_8qQNVQ8NN",
        "outputId": "7e660a2f-9b8e-4682-87f6-db0b3f74f9d0"
      },
      "source": [
        "mae_2 = mae(y_test, y_preds_2)\n",
        "mse_2 = mse(y_test, y_preds_2)\n",
        "mae_2, mse_2"
      ],
      "execution_count": null,
      "outputs": [
        {
          "output_type": "execute_result",
          "data": {
            "text/plain": [
              "(<tf.Tensor: shape=(), dtype=float32, numpy=3.1969407>,\n",
              " <tf.Tensor: shape=(), dtype=float32, numpy=13.070143>)"
            ]
          },
          "metadata": {
            "tags": []
          },
          "execution_count": 40
        }
      ]
    },
    {
      "cell_type": "markdown",
      "metadata": {
        "id": "oHN-e8s3RSuH"
      },
      "source": [
        "**Build `model_3`**\n",
        "\n",
        "* 2 layers, trained for 500 epochs"
      ]
    },
    {
      "cell_type": "code",
      "metadata": {
        "colab": {
          "base_uri": "https://localhost:8080/"
        },
        "id": "rHxpZQUuRNqT",
        "outputId": "e604164d-6dd1-4f83-a2b8-cc286ac30fba"
      },
      "source": [
        "tf.random.set_seed(42)\n",
        "\n",
        "model_3 = tf.keras.Sequential([\n",
        "      tf.keras.layers.Dense(10),\n",
        "      tf.keras.layers.Dense(1)\n",
        "])\n",
        "\n",
        "model_3.compile(loss=tf.keras.losses.mae,\n",
        "                optimizer=tf.keras.optimizers.SGD(),\n",
        "                metrics=['mae'])\n",
        "\n",
        "model_3.fit(X_train, y_train, epochs=500)"
      ],
      "execution_count": null,
      "outputs": [
        {
          "output_type": "stream",
          "text": [
            "Epoch 1/500\n",
            "2/2 [==============================] - 0s 7ms/step - loss: 27.4058 - mae: 27.4058\n",
            "Epoch 2/500\n",
            "2/2 [==============================] - 0s 6ms/step - loss: 24.6339 - mae: 24.6339\n",
            "Epoch 3/500\n",
            "2/2 [==============================] - 0s 8ms/step - loss: 29.8935 - mae: 29.8935\n",
            "Epoch 4/500\n",
            "2/2 [==============================] - 0s 12ms/step - loss: 27.4055 - mae: 27.4055\n",
            "Epoch 5/500\n",
            "2/2 [==============================] - 0s 8ms/step - loss: 14.9463 - mae: 14.9463\n",
            "Epoch 6/500\n",
            "2/2 [==============================] - 0s 5ms/step - loss: 11.8819 - mae: 11.8819\n",
            "Epoch 7/500\n",
            "2/2 [==============================] - 0s 4ms/step - loss: 11.1988 - mae: 11.1988\n",
            "Epoch 8/500\n",
            "2/2 [==============================] - 0s 5ms/step - loss: 11.0910 - mae: 11.0910\n",
            "Epoch 9/500\n",
            "2/2 [==============================] - 0s 4ms/step - loss: 40.4763 - mae: 40.4763\n",
            "Epoch 10/500\n",
            "2/2 [==============================] - 0s 7ms/step - loss: 27.8688 - mae: 27.8688\n",
            "Epoch 11/500\n",
            "2/2 [==============================] - 0s 5ms/step - loss: 10.2473 - mae: 10.2473\n",
            "Epoch 12/500\n",
            "2/2 [==============================] - 0s 8ms/step - loss: 25.2803 - mae: 25.2803\n",
            "Epoch 13/500\n",
            "2/2 [==============================] - 0s 5ms/step - loss: 16.9897 - mae: 16.9897\n",
            "Epoch 14/500\n",
            "2/2 [==============================] - 0s 3ms/step - loss: 25.9217 - mae: 25.9217\n",
            "Epoch 15/500\n",
            "2/2 [==============================] - 0s 10ms/step - loss: 17.9948 - mae: 17.9948\n",
            "Epoch 16/500\n",
            "2/2 [==============================] - 0s 10ms/step - loss: 7.3510 - mae: 7.3510\n",
            "Epoch 17/500\n",
            "2/2 [==============================] - 0s 12ms/step - loss: 10.8636 - mae: 10.8636\n",
            "Epoch 18/500\n",
            "2/2 [==============================] - 0s 7ms/step - loss: 19.5304 - mae: 19.5304\n",
            "Epoch 19/500\n",
            "2/2 [==============================] - 0s 9ms/step - loss: 10.3469 - mae: 10.3469\n",
            "Epoch 20/500\n",
            "2/2 [==============================] - 0s 11ms/step - loss: 17.6985 - mae: 17.6985\n",
            "Epoch 21/500\n",
            "2/2 [==============================] - 0s 3ms/step - loss: 15.8984 - mae: 15.8984\n",
            "Epoch 22/500\n",
            "2/2 [==============================] - 0s 6ms/step - loss: 14.1991 - mae: 14.1991\n",
            "Epoch 23/500\n",
            "2/2 [==============================] - 0s 5ms/step - loss: 8.7720 - mae: 8.7720\n",
            "Epoch 24/500\n",
            "2/2 [==============================] - 0s 3ms/step - loss: 11.0570 - mae: 11.0570\n",
            "Epoch 25/500\n",
            "2/2 [==============================] - 0s 9ms/step - loss: 12.6838 - mae: 12.6838\n",
            "Epoch 26/500\n",
            "2/2 [==============================] - 0s 8ms/step - loss: 26.1877 - mae: 26.1877\n",
            "Epoch 27/500\n",
            "2/2 [==============================] - 0s 17ms/step - loss: 11.7432 - mae: 11.7432\n",
            "Epoch 28/500\n",
            "2/2 [==============================] - 0s 9ms/step - loss: 22.8730 - mae: 22.8730\n",
            "Epoch 29/500\n",
            "2/2 [==============================] - 0s 4ms/step - loss: 9.2459 - mae: 9.2459\n",
            "Epoch 30/500\n",
            "2/2 [==============================] - 0s 5ms/step - loss: 29.2641 - mae: 29.2641\n",
            "Epoch 31/500\n",
            "2/2 [==============================] - 0s 4ms/step - loss: 53.0225 - mae: 53.0225\n",
            "Epoch 32/500\n",
            "2/2 [==============================] - 0s 7ms/step - loss: 11.9951 - mae: 11.9951\n",
            "Epoch 33/500\n",
            "2/2 [==============================] - 0s 5ms/step - loss: 15.6357 - mae: 15.6357\n",
            "Epoch 34/500\n",
            "2/2 [==============================] - 0s 5ms/step - loss: 12.6925 - mae: 12.6925\n",
            "Epoch 35/500\n",
            "2/2 [==============================] - 0s 8ms/step - loss: 9.2398 - mae: 9.2398\n",
            "Epoch 36/500\n",
            "2/2 [==============================] - 0s 4ms/step - loss: 16.6497 - mae: 16.6497\n",
            "Epoch 37/500\n",
            "2/2 [==============================] - 0s 4ms/step - loss: 11.0382 - mae: 11.0382\n",
            "Epoch 38/500\n",
            "2/2 [==============================] - 0s 4ms/step - loss: 18.1634 - mae: 18.1634\n",
            "Epoch 39/500\n",
            "2/2 [==============================] - 0s 4ms/step - loss: 19.1013 - mae: 19.1013\n",
            "Epoch 40/500\n",
            "2/2 [==============================] - 0s 4ms/step - loss: 20.4324 - mae: 20.4324\n",
            "Epoch 41/500\n",
            "2/2 [==============================] - 0s 4ms/step - loss: 14.9102 - mae: 14.9102\n",
            "Epoch 42/500\n",
            "2/2 [==============================] - 0s 4ms/step - loss: 12.2809 - mae: 12.2809\n",
            "Epoch 43/500\n",
            "2/2 [==============================] - 0s 7ms/step - loss: 10.7333 - mae: 10.7333\n",
            "Epoch 44/500\n",
            "2/2 [==============================] - 0s 14ms/step - loss: 23.0260 - mae: 23.0260\n",
            "Epoch 45/500\n",
            "2/2 [==============================] - 0s 4ms/step - loss: 10.3897 - mae: 10.3897\n",
            "Epoch 46/500\n",
            "2/2 [==============================] - 0s 5ms/step - loss: 11.7904 - mae: 11.7904\n",
            "Epoch 47/500\n",
            "2/2 [==============================] - 0s 4ms/step - loss: 9.6438 - mae: 9.6438\n",
            "Epoch 48/500\n",
            "2/2 [==============================] - 0s 4ms/step - loss: 17.2335 - mae: 17.2335\n",
            "Epoch 49/500\n",
            "2/2 [==============================] - 0s 5ms/step - loss: 9.5729 - mae: 9.5729\n",
            "Epoch 50/500\n",
            "2/2 [==============================] - 0s 6ms/step - loss: 13.8185 - mae: 13.8185\n",
            "Epoch 51/500\n",
            "2/2 [==============================] - 0s 5ms/step - loss: 11.5958 - mae: 11.5958\n",
            "Epoch 52/500\n",
            "2/2 [==============================] - 0s 5ms/step - loss: 30.5538 - mae: 30.5538\n",
            "Epoch 53/500\n",
            "2/2 [==============================] - 0s 9ms/step - loss: 14.3541 - mae: 14.3541\n",
            "Epoch 54/500\n",
            "2/2 [==============================] - 0s 6ms/step - loss: 23.9713 - mae: 23.9713\n",
            "Epoch 55/500\n",
            "2/2 [==============================] - 0s 7ms/step - loss: 23.1938 - mae: 23.1938\n",
            "Epoch 56/500\n",
            "2/2 [==============================] - 0s 4ms/step - loss: 10.8837 - mae: 10.8837\n",
            "Epoch 57/500\n",
            "2/2 [==============================] - 0s 6ms/step - loss: 12.7445 - mae: 12.7445\n",
            "Epoch 58/500\n",
            "2/2 [==============================] - 0s 5ms/step - loss: 9.5995 - mae: 9.5995\n",
            "Epoch 59/500\n",
            "2/2 [==============================] - 0s 6ms/step - loss: 12.5172 - mae: 12.5172\n",
            "Epoch 60/500\n",
            "2/2 [==============================] - 0s 4ms/step - loss: 12.3200 - mae: 12.3200\n",
            "Epoch 61/500\n",
            "2/2 [==============================] - 0s 8ms/step - loss: 17.4604 - mae: 17.4604\n",
            "Epoch 62/500\n",
            "2/2 [==============================] - 0s 5ms/step - loss: 10.6052 - mae: 10.6052\n",
            "Epoch 63/500\n",
            "2/2 [==============================] - 0s 4ms/step - loss: 10.4893 - mae: 10.4893\n",
            "Epoch 64/500\n",
            "2/2 [==============================] - 0s 5ms/step - loss: 24.8450 - mae: 24.8450\n",
            "Epoch 65/500\n",
            "2/2 [==============================] - 0s 4ms/step - loss: 10.6761 - mae: 10.6761\n",
            "Epoch 66/500\n",
            "2/2 [==============================] - 0s 4ms/step - loss: 21.7809 - mae: 21.7809\n",
            "Epoch 67/500\n",
            "2/2 [==============================] - 0s 4ms/step - loss: 10.7136 - mae: 10.7136\n",
            "Epoch 68/500\n",
            "2/2 [==============================] - 0s 4ms/step - loss: 10.6397 - mae: 10.6397\n",
            "Epoch 69/500\n",
            "2/2 [==============================] - 0s 5ms/step - loss: 22.6914 - mae: 22.6914\n",
            "Epoch 70/500\n",
            "2/2 [==============================] - 0s 6ms/step - loss: 9.3316 - mae: 9.3316\n",
            "Epoch 71/500\n",
            "2/2 [==============================] - 0s 4ms/step - loss: 15.4355 - mae: 15.4355\n",
            "Epoch 72/500\n",
            "2/2 [==============================] - 0s 6ms/step - loss: 6.7437 - mae: 6.7437\n",
            "Epoch 73/500\n",
            "2/2 [==============================] - 0s 8ms/step - loss: 11.6891 - mae: 11.6891\n",
            "Epoch 74/500\n",
            "2/2 [==============================] - 0s 5ms/step - loss: 24.0400 - mae: 24.0400\n",
            "Epoch 75/500\n",
            "2/2 [==============================] - 0s 5ms/step - loss: 9.5896 - mae: 9.5896\n",
            "Epoch 76/500\n",
            "2/2 [==============================] - 0s 8ms/step - loss: 12.4371 - mae: 12.4371\n",
            "Epoch 77/500\n",
            "2/2 [==============================] - 0s 8ms/step - loss: 16.6489 - mae: 16.6489\n",
            "Epoch 78/500\n",
            "2/2 [==============================] - 0s 4ms/step - loss: 9.0614 - mae: 9.0614\n",
            "Epoch 79/500\n",
            "2/2 [==============================] - 0s 6ms/step - loss: 23.9675 - mae: 23.9675\n",
            "Epoch 80/500\n",
            "2/2 [==============================] - 0s 4ms/step - loss: 26.7463 - mae: 26.7463\n",
            "Epoch 81/500\n",
            "2/2 [==============================] - 0s 4ms/step - loss: 11.6714 - mae: 11.6714\n",
            "Epoch 82/500\n",
            "2/2 [==============================] - 0s 6ms/step - loss: 12.0228 - mae: 12.0228\n",
            "Epoch 83/500\n",
            "2/2 [==============================] - 0s 8ms/step - loss: 17.4218 - mae: 17.4218\n",
            "Epoch 84/500\n",
            "2/2 [==============================] - 0s 6ms/step - loss: 7.2629 - mae: 7.2629\n",
            "Epoch 85/500\n",
            "2/2 [==============================] - 0s 5ms/step - loss: 14.9650 - mae: 14.9650\n",
            "Epoch 86/500\n",
            "2/2 [==============================] - 0s 5ms/step - loss: 15.2862 - mae: 15.2862\n",
            "Epoch 87/500\n",
            "2/2 [==============================] - 0s 6ms/step - loss: 19.1086 - mae: 19.1086\n",
            "Epoch 88/500\n",
            "2/2 [==============================] - 0s 4ms/step - loss: 29.8229 - mae: 29.8229\n",
            "Epoch 89/500\n",
            "2/2 [==============================] - 0s 5ms/step - loss: 10.1742 - mae: 10.1742\n",
            "Epoch 90/500\n",
            "2/2 [==============================] - 0s 5ms/step - loss: 21.5240 - mae: 21.5240\n",
            "Epoch 91/500\n",
            "2/2 [==============================] - 0s 12ms/step - loss: 10.5716 - mae: 10.5716\n",
            "Epoch 92/500\n",
            "2/2 [==============================] - 0s 5ms/step - loss: 18.3977 - mae: 18.3977\n",
            "Epoch 93/500\n",
            "2/2 [==============================] - 0s 11ms/step - loss: 7.4138 - mae: 7.4138\n",
            "Epoch 94/500\n",
            "2/2 [==============================] - 0s 8ms/step - loss: 17.7380 - mae: 17.7380\n",
            "Epoch 95/500\n",
            "2/2 [==============================] - 0s 4ms/step - loss: 11.1144 - mae: 11.1144\n",
            "Epoch 96/500\n",
            "2/2 [==============================] - 0s 9ms/step - loss: 19.4346 - mae: 19.4346\n",
            "Epoch 97/500\n",
            "2/2 [==============================] - 0s 5ms/step - loss: 12.1593 - mae: 12.1593\n",
            "Epoch 98/500\n",
            "2/2 [==============================] - 0s 4ms/step - loss: 11.5653 - mae: 11.5653\n",
            "Epoch 99/500\n",
            "2/2 [==============================] - 0s 5ms/step - loss: 13.8827 - mae: 13.8827\n",
            "Epoch 100/500\n",
            "2/2 [==============================] - 0s 5ms/step - loss: 20.2277 - mae: 20.2277\n",
            "Epoch 101/500\n",
            "2/2 [==============================] - 0s 5ms/step - loss: 11.4479 - mae: 11.4479\n",
            "Epoch 102/500\n",
            "2/2 [==============================] - 0s 4ms/step - loss: 17.4842 - mae: 17.4842\n",
            "Epoch 103/500\n",
            "2/2 [==============================] - 0s 5ms/step - loss: 7.0217 - mae: 7.0217\n",
            "Epoch 104/500\n",
            "2/2 [==============================] - 0s 6ms/step - loss: 23.5789 - mae: 23.5789\n",
            "Epoch 105/500\n",
            "2/2 [==============================] - 0s 5ms/step - loss: 16.8932 - mae: 16.8932\n",
            "Epoch 106/500\n",
            "2/2 [==============================] - 0s 7ms/step - loss: 9.2954 - mae: 9.2954\n",
            "Epoch 107/500\n",
            "2/2 [==============================] - 0s 5ms/step - loss: 25.3749 - mae: 25.3749\n",
            "Epoch 108/500\n",
            "2/2 [==============================] - 0s 4ms/step - loss: 13.4621 - mae: 13.4621\n",
            "Epoch 109/500\n",
            "2/2 [==============================] - 0s 14ms/step - loss: 9.5238 - mae: 9.5238\n",
            "Epoch 110/500\n",
            "2/2 [==============================] - 0s 10ms/step - loss: 9.6722 - mae: 9.6722\n",
            "Epoch 111/500\n",
            "2/2 [==============================] - 0s 6ms/step - loss: 14.5987 - mae: 14.5987\n",
            "Epoch 112/500\n",
            "2/2 [==============================] - 0s 12ms/step - loss: 9.5670 - mae: 9.5670\n",
            "Epoch 113/500\n",
            "2/2 [==============================] - 0s 11ms/step - loss: 17.8092 - mae: 17.8092\n",
            "Epoch 114/500\n",
            "2/2 [==============================] - 0s 6ms/step - loss: 17.1782 - mae: 17.1782\n",
            "Epoch 115/500\n",
            "2/2 [==============================] - 0s 5ms/step - loss: 11.1182 - mae: 11.1182\n",
            "Epoch 116/500\n",
            "2/2 [==============================] - 0s 5ms/step - loss: 23.3071 - mae: 23.3071\n",
            "Epoch 117/500\n",
            "2/2 [==============================] - 0s 11ms/step - loss: 9.6144 - mae: 9.6144\n",
            "Epoch 118/500\n",
            "2/2 [==============================] - 0s 4ms/step - loss: 10.6899 - mae: 10.6899\n",
            "Epoch 119/500\n",
            "2/2 [==============================] - 0s 8ms/step - loss: 8.0355 - mae: 8.0355\n",
            "Epoch 120/500\n",
            "2/2 [==============================] - 0s 3ms/step - loss: 29.6859 - mae: 29.6859\n",
            "Epoch 121/500\n",
            "2/2 [==============================] - 0s 4ms/step - loss: 8.0714 - mae: 8.0714\n",
            "Epoch 122/500\n",
            "2/2 [==============================] - 0s 4ms/step - loss: 28.3086 - mae: 28.3086\n",
            "Epoch 123/500\n",
            "2/2 [==============================] - 0s 16ms/step - loss: 32.9014 - mae: 32.9014\n",
            "Epoch 124/500\n",
            "2/2 [==============================] - 0s 7ms/step - loss: 19.6291 - mae: 19.6291\n",
            "Epoch 125/500\n",
            "2/2 [==============================] - 0s 5ms/step - loss: 7.0095 - mae: 7.0095\n",
            "Epoch 126/500\n",
            "2/2 [==============================] - 0s 4ms/step - loss: 21.8056 - mae: 21.8056\n",
            "Epoch 127/500\n",
            "2/2 [==============================] - 0s 8ms/step - loss: 7.9812 - mae: 7.9812\n",
            "Epoch 128/500\n",
            "2/2 [==============================] - 0s 6ms/step - loss: 21.0585 - mae: 21.0585\n",
            "Epoch 129/500\n",
            "2/2 [==============================] - 0s 5ms/step - loss: 9.0107 - mae: 9.0107\n",
            "Epoch 130/500\n",
            "2/2 [==============================] - 0s 4ms/step - loss: 24.0502 - mae: 24.0502\n",
            "Epoch 131/500\n",
            "2/2 [==============================] - 0s 8ms/step - loss: 9.7537 - mae: 9.7537\n",
            "Epoch 132/500\n",
            "2/2 [==============================] - 0s 15ms/step - loss: 18.3052 - mae: 18.3052\n",
            "Epoch 133/500\n",
            "2/2 [==============================] - 0s 12ms/step - loss: 7.5833 - mae: 7.5833\n",
            "Epoch 134/500\n",
            "2/2 [==============================] - 0s 10ms/step - loss: 18.5755 - mae: 18.5755\n",
            "Epoch 135/500\n",
            "2/2 [==============================] - 0s 9ms/step - loss: 10.5360 - mae: 10.5360\n",
            "Epoch 136/500\n",
            "2/2 [==============================] - 0s 11ms/step - loss: 18.2694 - mae: 18.2694\n",
            "Epoch 137/500\n",
            "2/2 [==============================] - 0s 8ms/step - loss: 23.1658 - mae: 23.1658\n",
            "Epoch 138/500\n",
            "2/2 [==============================] - 0s 7ms/step - loss: 9.1362 - mae: 9.1362\n",
            "Epoch 139/500\n",
            "2/2 [==============================] - 0s 8ms/step - loss: 8.9181 - mae: 8.9181\n",
            "Epoch 140/500\n",
            "2/2 [==============================] - 0s 5ms/step - loss: 16.4732 - mae: 16.4732\n",
            "Epoch 141/500\n",
            "2/2 [==============================] - 0s 5ms/step - loss: 8.4208 - mae: 8.4208\n",
            "Epoch 142/500\n",
            "2/2 [==============================] - 0s 5ms/step - loss: 36.9540 - mae: 36.9540\n",
            "Epoch 143/500\n",
            "2/2 [==============================] - 0s 4ms/step - loss: 25.5820 - mae: 25.5820\n",
            "Epoch 144/500\n",
            "2/2 [==============================] - 0s 9ms/step - loss: 9.5392 - mae: 9.5392\n",
            "Epoch 145/500\n",
            "2/2 [==============================] - 0s 4ms/step - loss: 26.6058 - mae: 26.6058\n",
            "Epoch 146/500\n",
            "2/2 [==============================] - 0s 5ms/step - loss: 8.7248 - mae: 8.7248\n",
            "Epoch 147/500\n",
            "2/2 [==============================] - 0s 4ms/step - loss: 15.6172 - mae: 15.6172\n",
            "Epoch 148/500\n",
            "2/2 [==============================] - 0s 4ms/step - loss: 18.3065 - mae: 18.3065\n",
            "Epoch 149/500\n",
            "2/2 [==============================] - 0s 4ms/step - loss: 8.1994 - mae: 8.1994\n",
            "Epoch 150/500\n",
            "2/2 [==============================] - 0s 5ms/step - loss: 7.4964 - mae: 7.4964\n",
            "Epoch 151/500\n",
            "2/2 [==============================] - 0s 8ms/step - loss: 18.3374 - mae: 18.3374\n",
            "Epoch 152/500\n",
            "2/2 [==============================] - 0s 4ms/step - loss: 10.2895 - mae: 10.2895\n",
            "Epoch 153/500\n",
            "2/2 [==============================] - 0s 4ms/step - loss: 29.6425 - mae: 29.6425\n",
            "Epoch 154/500\n",
            "2/2 [==============================] - 0s 6ms/step - loss: 10.5556 - mae: 10.5556\n",
            "Epoch 155/500\n",
            "2/2 [==============================] - 0s 6ms/step - loss: 15.4537 - mae: 15.4537\n",
            "Epoch 156/500\n",
            "2/2 [==============================] - 0s 9ms/step - loss: 17.0174 - mae: 17.0174\n",
            "Epoch 157/500\n",
            "2/2 [==============================] - 0s 4ms/step - loss: 32.8218 - mae: 32.8218\n",
            "Epoch 158/500\n",
            "2/2 [==============================] - 0s 6ms/step - loss: 10.7038 - mae: 10.7038\n",
            "Epoch 159/500\n",
            "2/2 [==============================] - 0s 7ms/step - loss: 8.9054 - mae: 8.9054\n",
            "Epoch 160/500\n",
            "2/2 [==============================] - 0s 3ms/step - loss: 22.1321 - mae: 22.1321\n",
            "Epoch 161/500\n",
            "2/2 [==============================] - 0s 4ms/step - loss: 11.7113 - mae: 11.7113\n",
            "Epoch 162/500\n",
            "2/2 [==============================] - 0s 6ms/step - loss: 21.5734 - mae: 21.5734\n",
            "Epoch 163/500\n",
            "2/2 [==============================] - 0s 6ms/step - loss: 19.2485 - mae: 19.2485\n",
            "Epoch 164/500\n",
            "2/2 [==============================] - 0s 3ms/step - loss: 11.0156 - mae: 11.0156\n",
            "Epoch 165/500\n",
            "2/2 [==============================] - 0s 4ms/step - loss: 9.6187 - mae: 9.6187\n",
            "Epoch 166/500\n",
            "2/2 [==============================] - 0s 4ms/step - loss: 21.5908 - mae: 21.5908\n",
            "Epoch 167/500\n",
            "2/2 [==============================] - 0s 22ms/step - loss: 26.2851 - mae: 26.2851\n",
            "Epoch 168/500\n",
            "2/2 [==============================] - 0s 10ms/step - loss: 9.8525 - mae: 9.8525\n",
            "Epoch 169/500\n",
            "2/2 [==============================] - 0s 29ms/step - loss: 22.5630 - mae: 22.5630\n",
            "Epoch 170/500\n",
            "2/2 [==============================] - 0s 5ms/step - loss: 10.1499 - mae: 10.1499\n",
            "Epoch 171/500\n",
            "2/2 [==============================] - 0s 6ms/step - loss: 18.0464 - mae: 18.0464\n",
            "Epoch 172/500\n",
            "2/2 [==============================] - 0s 9ms/step - loss: 28.8377 - mae: 28.8377\n",
            "Epoch 173/500\n",
            "2/2 [==============================] - 0s 4ms/step - loss: 16.5279 - mae: 16.5279\n",
            "Epoch 174/500\n",
            "2/2 [==============================] - 0s 6ms/step - loss: 11.2115 - mae: 11.2115\n",
            "Epoch 175/500\n",
            "2/2 [==============================] - 0s 7ms/step - loss: 27.5839 - mae: 27.5839\n",
            "Epoch 176/500\n",
            "2/2 [==============================] - 0s 6ms/step - loss: 8.2680 - mae: 8.2680\n",
            "Epoch 177/500\n",
            "2/2 [==============================] - 0s 5ms/step - loss: 9.2580 - mae: 9.2580\n",
            "Epoch 178/500\n",
            "2/2 [==============================] - 0s 7ms/step - loss: 18.1440 - mae: 18.1440\n",
            "Epoch 179/500\n",
            "2/2 [==============================] - 0s 10ms/step - loss: 10.5995 - mae: 10.5995\n",
            "Epoch 180/500\n",
            "2/2 [==============================] - 0s 5ms/step - loss: 7.8992 - mae: 7.8992\n",
            "Epoch 181/500\n",
            "2/2 [==============================] - 0s 13ms/step - loss: 17.4015 - mae: 17.4015\n",
            "Epoch 182/500\n",
            "2/2 [==============================] - 0s 10ms/step - loss: 11.0089 - mae: 11.0089\n",
            "Epoch 183/500\n",
            "2/2 [==============================] - 0s 5ms/step - loss: 11.7027 - mae: 11.7027\n",
            "Epoch 184/500\n",
            "2/2 [==============================] - 0s 5ms/step - loss: 30.4062 - mae: 30.4062\n",
            "Epoch 185/500\n",
            "2/2 [==============================] - 0s 4ms/step - loss: 7.5557 - mae: 7.5557\n",
            "Epoch 186/500\n",
            "2/2 [==============================] - 0s 5ms/step - loss: 15.9905 - mae: 15.9905\n",
            "Epoch 187/500\n",
            "2/2 [==============================] - 0s 8ms/step - loss: 8.5579 - mae: 8.5579\n",
            "Epoch 188/500\n",
            "2/2 [==============================] - 0s 5ms/step - loss: 28.7339 - mae: 28.7339\n",
            "Epoch 189/500\n",
            "2/2 [==============================] - 0s 7ms/step - loss: 13.1689 - mae: 13.1689\n",
            "Epoch 190/500\n",
            "2/2 [==============================] - 0s 3ms/step - loss: 18.3101 - mae: 18.3101\n",
            "Epoch 191/500\n",
            "2/2 [==============================] - 0s 5ms/step - loss: 13.7376 - mae: 13.7376\n",
            "Epoch 192/500\n",
            "2/2 [==============================] - 0s 3ms/step - loss: 13.7104 - mae: 13.7104\n",
            "Epoch 193/500\n",
            "2/2 [==============================] - 0s 9ms/step - loss: 28.5842 - mae: 28.5842\n",
            "Epoch 194/500\n",
            "2/2 [==============================] - 0s 4ms/step - loss: 7.0707 - mae: 7.0707\n",
            "Epoch 195/500\n",
            "2/2 [==============================] - 0s 5ms/step - loss: 7.0550 - mae: 7.0550\n",
            "Epoch 196/500\n",
            "2/2 [==============================] - 0s 36ms/step - loss: 22.0067 - mae: 22.0067\n",
            "Epoch 197/500\n",
            "2/2 [==============================] - 0s 5ms/step - loss: 20.8443 - mae: 20.8443\n",
            "Epoch 198/500\n",
            "2/2 [==============================] - 0s 8ms/step - loss: 12.4713 - mae: 12.4713\n",
            "Epoch 199/500\n",
            "2/2 [==============================] - 0s 3ms/step - loss: 17.9099 - mae: 17.9099\n",
            "Epoch 200/500\n",
            "2/2 [==============================] - 0s 10ms/step - loss: 13.7494 - mae: 13.7494\n",
            "Epoch 201/500\n",
            "2/2 [==============================] - 0s 9ms/step - loss: 5.4687 - mae: 5.4687\n",
            "Epoch 202/500\n",
            "2/2 [==============================] - 0s 5ms/step - loss: 13.7006 - mae: 13.7006\n",
            "Epoch 203/500\n",
            "2/2 [==============================] - 0s 5ms/step - loss: 9.4142 - mae: 9.4142\n",
            "Epoch 204/500\n",
            "2/2 [==============================] - 0s 9ms/step - loss: 20.9796 - mae: 20.9796\n",
            "Epoch 205/500\n",
            "2/2 [==============================] - 0s 5ms/step - loss: 9.5470 - mae: 9.5470\n",
            "Epoch 206/500\n",
            "2/2 [==============================] - 0s 6ms/step - loss: 11.7256 - mae: 11.7256\n",
            "Epoch 207/500\n",
            "2/2 [==============================] - 0s 6ms/step - loss: 14.3772 - mae: 14.3772\n",
            "Epoch 208/500\n",
            "2/2 [==============================] - 0s 8ms/step - loss: 14.8579 - mae: 14.8579\n",
            "Epoch 209/500\n",
            "2/2 [==============================] - 0s 8ms/step - loss: 14.9706 - mae: 14.9706\n",
            "Epoch 210/500\n",
            "2/2 [==============================] - 0s 6ms/step - loss: 17.8998 - mae: 17.8998\n",
            "Epoch 211/500\n",
            "2/2 [==============================] - 0s 6ms/step - loss: 9.8327 - mae: 9.8327\n",
            "Epoch 212/500\n",
            "2/2 [==============================] - 0s 11ms/step - loss: 18.3352 - mae: 18.3352\n",
            "Epoch 213/500\n",
            "2/2 [==============================] - 0s 7ms/step - loss: 15.0383 - mae: 15.0383\n",
            "Epoch 214/500\n",
            "2/2 [==============================] - 0s 4ms/step - loss: 14.5874 - mae: 14.5874\n",
            "Epoch 215/500\n",
            "2/2 [==============================] - 0s 4ms/step - loss: 23.3015 - mae: 23.3015\n",
            "Epoch 216/500\n",
            "2/2 [==============================] - 0s 7ms/step - loss: 13.3613 - mae: 13.3613\n",
            "Epoch 217/500\n",
            "2/2 [==============================] - 0s 8ms/step - loss: 9.8517 - mae: 9.8517\n",
            "Epoch 218/500\n",
            "2/2 [==============================] - 0s 4ms/step - loss: 12.5451 - mae: 12.5451\n",
            "Epoch 219/500\n",
            "2/2 [==============================] - 0s 5ms/step - loss: 4.9472 - mae: 4.9472\n",
            "Epoch 220/500\n",
            "2/2 [==============================] - 0s 8ms/step - loss: 7.1130 - mae: 7.1130\n",
            "Epoch 221/500\n",
            "2/2 [==============================] - 0s 4ms/step - loss: 35.4567 - mae: 35.4567\n",
            "Epoch 222/500\n",
            "2/2 [==============================] - 0s 9ms/step - loss: 34.8634 - mae: 34.8634\n",
            "Epoch 223/500\n",
            "2/2 [==============================] - 0s 5ms/step - loss: 7.9846 - mae: 7.9846\n",
            "Epoch 224/500\n",
            "2/2 [==============================] - 0s 6ms/step - loss: 14.7004 - mae: 14.7004\n",
            "Epoch 225/500\n",
            "2/2 [==============================] - 0s 4ms/step - loss: 16.7196 - mae: 16.7196\n",
            "Epoch 226/500\n",
            "2/2 [==============================] - 0s 4ms/step - loss: 15.9329 - mae: 15.9329\n",
            "Epoch 227/500\n",
            "2/2 [==============================] - 0s 8ms/step - loss: 16.1644 - mae: 16.1644\n",
            "Epoch 228/500\n",
            "2/2 [==============================] - 0s 4ms/step - loss: 13.9324 - mae: 13.9324\n",
            "Epoch 229/500\n",
            "2/2 [==============================] - 0s 6ms/step - loss: 18.0504 - mae: 18.0504\n",
            "Epoch 230/500\n",
            "2/2 [==============================] - 0s 8ms/step - loss: 15.6120 - mae: 15.6120\n",
            "Epoch 231/500\n",
            "2/2 [==============================] - 0s 4ms/step - loss: 21.2041 - mae: 21.2041\n",
            "Epoch 232/500\n",
            "2/2 [==============================] - 0s 5ms/step - loss: 25.2732 - mae: 25.2732\n",
            "Epoch 233/500\n",
            "2/2 [==============================] - 0s 5ms/step - loss: 16.3176 - mae: 16.3176\n",
            "Epoch 234/500\n",
            "2/2 [==============================] - 0s 4ms/step - loss: 7.2729 - mae: 7.2729\n",
            "Epoch 235/500\n",
            "2/2 [==============================] - 0s 6ms/step - loss: 16.9688 - mae: 16.9688\n",
            "Epoch 236/500\n",
            "2/2 [==============================] - 0s 6ms/step - loss: 7.1225 - mae: 7.1225\n",
            "Epoch 237/500\n",
            "2/2 [==============================] - 0s 30ms/step - loss: 9.2058 - mae: 9.2058\n",
            "Epoch 238/500\n",
            "2/2 [==============================] - 0s 9ms/step - loss: 8.0961 - mae: 8.0961\n",
            "Epoch 239/500\n",
            "2/2 [==============================] - 0s 10ms/step - loss: 17.0538 - mae: 17.0538\n",
            "Epoch 240/500\n",
            "2/2 [==============================] - 0s 7ms/step - loss: 8.8627 - mae: 8.8627\n",
            "Epoch 241/500\n",
            "2/2 [==============================] - 0s 5ms/step - loss: 13.1711 - mae: 13.1711\n",
            "Epoch 242/500\n",
            "2/2 [==============================] - 0s 5ms/step - loss: 8.7886 - mae: 8.7886\n",
            "Epoch 243/500\n",
            "2/2 [==============================] - 0s 21ms/step - loss: 18.8161 - mae: 18.8161\n",
            "Epoch 244/500\n",
            "2/2 [==============================] - 0s 6ms/step - loss: 14.0531 - mae: 14.0531\n",
            "Epoch 245/500\n",
            "2/2 [==============================] - 0s 5ms/step - loss: 14.6831 - mae: 14.6831\n",
            "Epoch 246/500\n",
            "2/2 [==============================] - 0s 5ms/step - loss: 15.8045 - mae: 15.8045\n",
            "Epoch 247/500\n",
            "2/2 [==============================] - 0s 5ms/step - loss: 17.6810 - mae: 17.6810\n",
            "Epoch 248/500\n",
            "2/2 [==============================] - 0s 4ms/step - loss: 13.2367 - mae: 13.2367\n",
            "Epoch 249/500\n",
            "2/2 [==============================] - 0s 5ms/step - loss: 14.5070 - mae: 14.5070\n",
            "Epoch 250/500\n",
            "2/2 [==============================] - 0s 7ms/step - loss: 23.2322 - mae: 23.2322\n",
            "Epoch 251/500\n",
            "2/2 [==============================] - 0s 4ms/step - loss: 9.3009 - mae: 9.3009\n",
            "Epoch 252/500\n",
            "2/2 [==============================] - 0s 18ms/step - loss: 36.6569 - mae: 36.6569\n",
            "Epoch 253/500\n",
            "2/2 [==============================] - 0s 7ms/step - loss: 21.8205 - mae: 21.8205\n",
            "Epoch 254/500\n",
            "2/2 [==============================] - 0s 6ms/step - loss: 7.2792 - mae: 7.2792\n",
            "Epoch 255/500\n",
            "2/2 [==============================] - 0s 6ms/step - loss: 24.7127 - mae: 24.7127\n",
            "Epoch 256/500\n",
            "2/2 [==============================] - 0s 6ms/step - loss: 12.4220 - mae: 12.4220\n",
            "Epoch 257/500\n",
            "2/2 [==============================] - 0s 4ms/step - loss: 10.5823 - mae: 10.5823\n",
            "Epoch 258/500\n",
            "2/2 [==============================] - 0s 4ms/step - loss: 14.4883 - mae: 14.4883\n",
            "Epoch 259/500\n",
            "2/2 [==============================] - 0s 5ms/step - loss: 8.6132 - mae: 8.6132\n",
            "Epoch 260/500\n",
            "2/2 [==============================] - 0s 5ms/step - loss: 43.0580 - mae: 43.0580\n",
            "Epoch 261/500\n",
            "2/2 [==============================] - 0s 4ms/step - loss: 18.4611 - mae: 18.4611\n",
            "Epoch 262/500\n",
            "2/2 [==============================] - 0s 25ms/step - loss: 6.8820 - mae: 6.8820\n",
            "Epoch 263/500\n",
            "2/2 [==============================] - 0s 9ms/step - loss: 13.7211 - mae: 13.7211\n",
            "Epoch 264/500\n",
            "2/2 [==============================] - 0s 13ms/step - loss: 21.0154 - mae: 21.0154\n",
            "Epoch 265/500\n",
            "2/2 [==============================] - 0s 6ms/step - loss: 19.3731 - mae: 19.3731\n",
            "Epoch 266/500\n",
            "2/2 [==============================] - 0s 4ms/step - loss: 11.4735 - mae: 11.4735\n",
            "Epoch 267/500\n",
            "2/2 [==============================] - 0s 5ms/step - loss: 7.5302 - mae: 7.5302\n",
            "Epoch 268/500\n",
            "2/2 [==============================] - 0s 4ms/step - loss: 21.6453 - mae: 21.6453\n",
            "Epoch 269/500\n",
            "2/2 [==============================] - 0s 5ms/step - loss: 33.1785 - mae: 33.1785\n",
            "Epoch 270/500\n",
            "2/2 [==============================] - 0s 4ms/step - loss: 10.0833 - mae: 10.0833\n",
            "Epoch 271/500\n",
            "2/2 [==============================] - 0s 4ms/step - loss: 12.1012 - mae: 12.1012\n",
            "Epoch 272/500\n",
            "2/2 [==============================] - 0s 4ms/step - loss: 26.1372 - mae: 26.1372\n",
            "Epoch 273/500\n",
            "2/2 [==============================] - 0s 4ms/step - loss: 12.1751 - mae: 12.1751\n",
            "Epoch 274/500\n",
            "2/2 [==============================] - 0s 4ms/step - loss: 13.3272 - mae: 13.3272\n",
            "Epoch 275/500\n",
            "2/2 [==============================] - 0s 9ms/step - loss: 29.3775 - mae: 29.3775\n",
            "Epoch 276/500\n",
            "2/2 [==============================] - 0s 4ms/step - loss: 7.3329 - mae: 7.3329\n",
            "Epoch 277/500\n",
            "2/2 [==============================] - 0s 4ms/step - loss: 31.1362 - mae: 31.1362\n",
            "Epoch 278/500\n",
            "2/2 [==============================] - 0s 4ms/step - loss: 12.3015 - mae: 12.3015\n",
            "Epoch 279/500\n",
            "2/2 [==============================] - 0s 4ms/step - loss: 16.4103 - mae: 16.4103\n",
            "Epoch 280/500\n",
            "2/2 [==============================] - 0s 4ms/step - loss: 21.9118 - mae: 21.9118\n",
            "Epoch 281/500\n",
            "2/2 [==============================] - 0s 10ms/step - loss: 22.1501 - mae: 22.1501\n",
            "Epoch 282/500\n",
            "2/2 [==============================] - 0s 5ms/step - loss: 7.7429 - mae: 7.7429\n",
            "Epoch 283/500\n",
            "2/2 [==============================] - 0s 4ms/step - loss: 8.1429 - mae: 8.1429\n",
            "Epoch 284/500\n",
            "2/2 [==============================] - 0s 4ms/step - loss: 24.9435 - mae: 24.9435\n",
            "Epoch 285/500\n",
            "2/2 [==============================] - 0s 4ms/step - loss: 13.6958 - mae: 13.6958\n",
            "Epoch 286/500\n",
            "2/2 [==============================] - 0s 4ms/step - loss: 6.8926 - mae: 6.8926\n",
            "Epoch 287/500\n",
            "2/2 [==============================] - 0s 4ms/step - loss: 24.5352 - mae: 24.5352\n",
            "Epoch 288/500\n",
            "2/2 [==============================] - 0s 7ms/step - loss: 20.1721 - mae: 20.1721\n",
            "Epoch 289/500\n",
            "2/2 [==============================] - 0s 9ms/step - loss: 11.9658 - mae: 11.9658\n",
            "Epoch 290/500\n",
            "2/2 [==============================] - 0s 10ms/step - loss: 16.5391 - mae: 16.5391\n",
            "Epoch 291/500\n",
            "2/2 [==============================] - 0s 5ms/step - loss: 16.8017 - mae: 16.8017\n",
            "Epoch 292/500\n",
            "2/2 [==============================] - 0s 5ms/step - loss: 9.4642 - mae: 9.4642\n",
            "Epoch 293/500\n",
            "2/2 [==============================] - 0s 15ms/step - loss: 15.2711 - mae: 15.2711\n",
            "Epoch 294/500\n",
            "2/2 [==============================] - 0s 7ms/step - loss: 22.7179 - mae: 22.7179\n",
            "Epoch 295/500\n",
            "2/2 [==============================] - 0s 6ms/step - loss: 17.9234 - mae: 17.9234\n",
            "Epoch 296/500\n",
            "2/2 [==============================] - 0s 5ms/step - loss: 6.1743 - mae: 6.1743\n",
            "Epoch 297/500\n",
            "2/2 [==============================] - 0s 4ms/step - loss: 10.9440 - mae: 10.9440\n",
            "Epoch 298/500\n",
            "2/2 [==============================] - 0s 5ms/step - loss: 23.1530 - mae: 23.1530\n",
            "Epoch 299/500\n",
            "2/2 [==============================] - 0s 5ms/step - loss: 17.7331 - mae: 17.7331\n",
            "Epoch 300/500\n",
            "2/2 [==============================] - 0s 4ms/step - loss: 6.9824 - mae: 6.9824\n",
            "Epoch 301/500\n",
            "2/2 [==============================] - 0s 5ms/step - loss: 25.1857 - mae: 25.1857\n",
            "Epoch 302/500\n",
            "2/2 [==============================] - 0s 14ms/step - loss: 8.9025 - mae: 8.9025\n",
            "Epoch 303/500\n",
            "2/2 [==============================] - 0s 4ms/step - loss: 17.7668 - mae: 17.7668\n",
            "Epoch 304/500\n",
            "2/2 [==============================] - 0s 8ms/step - loss: 11.0002 - mae: 11.0002\n",
            "Epoch 305/500\n",
            "2/2 [==============================] - 0s 12ms/step - loss: 12.9191 - mae: 12.9191\n",
            "Epoch 306/500\n",
            "2/2 [==============================] - 0s 5ms/step - loss: 8.4033 - mae: 8.4033\n",
            "Epoch 307/500\n",
            "2/2 [==============================] - 0s 20ms/step - loss: 13.6094 - mae: 13.6094\n",
            "Epoch 308/500\n",
            "2/2 [==============================] - 0s 5ms/step - loss: 7.4404 - mae: 7.4404\n",
            "Epoch 309/500\n",
            "2/2 [==============================] - 0s 4ms/step - loss: 9.4642 - mae: 9.4642\n",
            "Epoch 310/500\n",
            "2/2 [==============================] - 0s 8ms/step - loss: 10.7099 - mae: 10.7099\n",
            "Epoch 311/500\n",
            "2/2 [==============================] - 0s 7ms/step - loss: 13.2814 - mae: 13.2814\n",
            "Epoch 312/500\n",
            "2/2 [==============================] - 0s 16ms/step - loss: 29.9763 - mae: 29.9763\n",
            "Epoch 313/500\n",
            "2/2 [==============================] - 0s 5ms/step - loss: 7.6304 - mae: 7.6304\n",
            "Epoch 314/500\n",
            "2/2 [==============================] - 0s 4ms/step - loss: 9.9106 - mae: 9.9106\n",
            "Epoch 315/500\n",
            "2/2 [==============================] - 0s 6ms/step - loss: 23.7669 - mae: 23.7669\n",
            "Epoch 316/500\n",
            "2/2 [==============================] - 0s 4ms/step - loss: 16.3937 - mae: 16.3937\n",
            "Epoch 317/500\n",
            "2/2 [==============================] - 0s 4ms/step - loss: 21.0758 - mae: 21.0758\n",
            "Epoch 318/500\n",
            "2/2 [==============================] - 0s 29ms/step - loss: 7.9367 - mae: 7.9367\n",
            "Epoch 319/500\n",
            "2/2 [==============================] - 0s 6ms/step - loss: 17.9731 - mae: 17.9731\n",
            "Epoch 320/500\n",
            "2/2 [==============================] - 0s 4ms/step - loss: 10.2375 - mae: 10.2375\n",
            "Epoch 321/500\n",
            "2/2 [==============================] - 0s 6ms/step - loss: 8.3338 - mae: 8.3338\n",
            "Epoch 322/500\n",
            "2/2 [==============================] - 0s 5ms/step - loss: 5.0621 - mae: 5.0621\n",
            "Epoch 323/500\n",
            "2/2 [==============================] - 0s 10ms/step - loss: 23.5109 - mae: 23.5109\n",
            "Epoch 324/500\n",
            "2/2 [==============================] - 0s 4ms/step - loss: 6.8309 - mae: 6.8309\n",
            "Epoch 325/500\n",
            "2/2 [==============================] - 0s 4ms/step - loss: 16.3863 - mae: 16.3863\n",
            "Epoch 326/500\n",
            "2/2 [==============================] - 0s 4ms/step - loss: 7.5019 - mae: 7.5019\n",
            "Epoch 327/500\n",
            "2/2 [==============================] - 0s 11ms/step - loss: 20.0573 - mae: 20.0573\n",
            "Epoch 328/500\n",
            "2/2 [==============================] - 0s 5ms/step - loss: 13.7661 - mae: 13.7661\n",
            "Epoch 329/500\n",
            "2/2 [==============================] - 0s 7ms/step - loss: 16.8282 - mae: 16.8282\n",
            "Epoch 330/500\n",
            "2/2 [==============================] - 0s 7ms/step - loss: 7.0514 - mae: 7.0514\n",
            "Epoch 331/500\n",
            "2/2 [==============================] - 0s 9ms/step - loss: 21.4846 - mae: 21.4846\n",
            "Epoch 332/500\n",
            "2/2 [==============================] - 0s 4ms/step - loss: 12.2880 - mae: 12.2880\n",
            "Epoch 333/500\n",
            "2/2 [==============================] - 0s 4ms/step - loss: 11.8117 - mae: 11.8117\n",
            "Epoch 334/500\n",
            "2/2 [==============================] - 0s 4ms/step - loss: 8.3600 - mae: 8.3600\n",
            "Epoch 335/500\n",
            "2/2 [==============================] - 0s 8ms/step - loss: 12.4833 - mae: 12.4833\n",
            "Epoch 336/500\n",
            "2/2 [==============================] - 0s 4ms/step - loss: 32.2171 - mae: 32.2171\n",
            "Epoch 337/500\n",
            "2/2 [==============================] - 0s 4ms/step - loss: 10.4477 - mae: 10.4477\n",
            "Epoch 338/500\n",
            "2/2 [==============================] - 0s 4ms/step - loss: 19.6832 - mae: 19.6832\n",
            "Epoch 339/500\n",
            "2/2 [==============================] - 0s 5ms/step - loss: 35.0762 - mae: 35.0762\n",
            "Epoch 340/500\n",
            "2/2 [==============================] - 0s 10ms/step - loss: 10.4192 - mae: 10.4192\n",
            "Epoch 341/500\n",
            "2/2 [==============================] - 0s 6ms/step - loss: 9.7625 - mae: 9.7625\n",
            "Epoch 342/500\n",
            "2/2 [==============================] - 0s 5ms/step - loss: 11.9500 - mae: 11.9500\n",
            "Epoch 343/500\n",
            "2/2 [==============================] - 0s 5ms/step - loss: 9.3943 - mae: 9.3943\n",
            "Epoch 344/500\n",
            "2/2 [==============================] - 0s 10ms/step - loss: 5.6071 - mae: 5.6071\n",
            "Epoch 345/500\n",
            "2/2 [==============================] - 0s 16ms/step - loss: 37.4876 - mae: 37.4876\n",
            "Epoch 346/500\n",
            "2/2 [==============================] - 0s 8ms/step - loss: 16.8830 - mae: 16.8830\n",
            "Epoch 347/500\n",
            "2/2 [==============================] - 0s 29ms/step - loss: 12.8748 - mae: 12.8748\n",
            "Epoch 348/500\n",
            "2/2 [==============================] - 0s 4ms/step - loss: 8.1960 - mae: 8.1960\n",
            "Epoch 349/500\n",
            "2/2 [==============================] - 0s 6ms/step - loss: 13.5568 - mae: 13.5568\n",
            "Epoch 350/500\n",
            "2/2 [==============================] - 0s 13ms/step - loss: 15.4354 - mae: 15.4354\n",
            "Epoch 351/500\n",
            "2/2 [==============================] - 0s 6ms/step - loss: 32.9626 - mae: 32.9626\n",
            "Epoch 352/500\n",
            "2/2 [==============================] - 0s 14ms/step - loss: 14.2040 - mae: 14.2040\n",
            "Epoch 353/500\n",
            "2/2 [==============================] - 0s 7ms/step - loss: 15.9196 - mae: 15.9196\n",
            "Epoch 354/500\n",
            "2/2 [==============================] - 0s 16ms/step - loss: 19.0878 - mae: 19.0878\n",
            "Epoch 355/500\n",
            "2/2 [==============================] - 0s 7ms/step - loss: 34.1178 - mae: 34.1178\n",
            "Epoch 356/500\n",
            "2/2 [==============================] - 0s 5ms/step - loss: 7.6798 - mae: 7.6798\n",
            "Epoch 357/500\n",
            "2/2 [==============================] - 0s 4ms/step - loss: 25.2287 - mae: 25.2287\n",
            "Epoch 358/500\n",
            "2/2 [==============================] - 0s 8ms/step - loss: 22.6759 - mae: 22.6759\n",
            "Epoch 359/500\n",
            "2/2 [==============================] - 0s 5ms/step - loss: 8.8765 - mae: 8.8765\n",
            "Epoch 360/500\n",
            "2/2 [==============================] - 0s 5ms/step - loss: 21.4709 - mae: 21.4709\n",
            "Epoch 361/500\n",
            "2/2 [==============================] - 0s 4ms/step - loss: 20.6073 - mae: 20.6073\n",
            "Epoch 362/500\n",
            "2/2 [==============================] - 0s 4ms/step - loss: 7.0611 - mae: 7.0611\n",
            "Epoch 363/500\n",
            "2/2 [==============================] - 0s 5ms/step - loss: 25.8117 - mae: 25.8117\n",
            "Epoch 364/500\n",
            "2/2 [==============================] - 0s 8ms/step - loss: 32.2247 - mae: 32.2247\n",
            "Epoch 365/500\n",
            "2/2 [==============================] - 0s 5ms/step - loss: 10.0204 - mae: 10.0204\n",
            "Epoch 366/500\n",
            "2/2 [==============================] - 0s 4ms/step - loss: 9.6722 - mae: 9.6722\n",
            "Epoch 367/500\n",
            "2/2 [==============================] - 0s 6ms/step - loss: 30.4171 - mae: 30.4171\n",
            "Epoch 368/500\n",
            "2/2 [==============================] - 0s 10ms/step - loss: 10.5020 - mae: 10.5020\n",
            "Epoch 369/500\n",
            "2/2 [==============================] - 0s 8ms/step - loss: 14.9909 - mae: 14.9909\n",
            "Epoch 370/500\n",
            "2/2 [==============================] - 0s 5ms/step - loss: 14.6580 - mae: 14.6580\n",
            "Epoch 371/500\n",
            "2/2 [==============================] - 0s 6ms/step - loss: 23.3672 - mae: 23.3672\n",
            "Epoch 372/500\n",
            "2/2 [==============================] - 0s 6ms/step - loss: 13.1025 - mae: 13.1025\n",
            "Epoch 373/500\n",
            "2/2 [==============================] - 0s 4ms/step - loss: 9.2586 - mae: 9.2586\n",
            "Epoch 374/500\n",
            "2/2 [==============================] - 0s 25ms/step - loss: 9.6648 - mae: 9.6648\n",
            "Epoch 375/500\n",
            "2/2 [==============================] - 0s 6ms/step - loss: 13.0041 - mae: 13.0041\n",
            "Epoch 376/500\n",
            "2/2 [==============================] - 0s 5ms/step - loss: 14.8863 - mae: 14.8863\n",
            "Epoch 377/500\n",
            "2/2 [==============================] - 0s 8ms/step - loss: 14.7932 - mae: 14.7932\n",
            "Epoch 378/500\n",
            "2/2 [==============================] - 0s 9ms/step - loss: 16.2751 - mae: 16.2751\n",
            "Epoch 379/500\n",
            "2/2 [==============================] - 0s 5ms/step - loss: 20.8307 - mae: 20.8307\n",
            "Epoch 380/500\n",
            "2/2 [==============================] - 0s 11ms/step - loss: 33.5317 - mae: 33.5317\n",
            "Epoch 381/500\n",
            "2/2 [==============================] - 0s 5ms/step - loss: 8.2166 - mae: 8.2166\n",
            "Epoch 382/500\n",
            "2/2 [==============================] - 0s 3ms/step - loss: 13.0960 - mae: 13.0960\n",
            "Epoch 383/500\n",
            "2/2 [==============================] - 0s 9ms/step - loss: 8.3999 - mae: 8.3999\n",
            "Epoch 384/500\n",
            "2/2 [==============================] - 0s 4ms/step - loss: 7.1283 - mae: 7.1283\n",
            "Epoch 385/500\n",
            "2/2 [==============================] - 0s 5ms/step - loss: 10.9390 - mae: 10.9390\n",
            "Epoch 386/500\n",
            "2/2 [==============================] - 0s 4ms/step - loss: 19.7654 - mae: 19.7654\n",
            "Epoch 387/500\n",
            "2/2 [==============================] - 0s 4ms/step - loss: 24.8625 - mae: 24.8625\n",
            "Epoch 388/500\n",
            "2/2 [==============================] - 0s 4ms/step - loss: 8.7422 - mae: 8.7422\n",
            "Epoch 389/500\n",
            "2/2 [==============================] - 0s 5ms/step - loss: 5.9488 - mae: 5.9488\n",
            "Epoch 390/500\n",
            "2/2 [==============================] - 0s 5ms/step - loss: 24.4400 - mae: 24.4400\n",
            "Epoch 391/500\n",
            "2/2 [==============================] - 0s 4ms/step - loss: 5.9771 - mae: 5.9771\n",
            "Epoch 392/500\n",
            "2/2 [==============================] - 0s 5ms/step - loss: 16.3250 - mae: 16.3250\n",
            "Epoch 393/500\n",
            "2/2 [==============================] - 0s 5ms/step - loss: 6.0917 - mae: 6.0917\n",
            "Epoch 394/500\n",
            "2/2 [==============================] - 0s 4ms/step - loss: 11.0963 - mae: 11.0963\n",
            "Epoch 395/500\n",
            "2/2 [==============================] - 0s 4ms/step - loss: 14.9601 - mae: 14.9601\n",
            "Epoch 396/500\n",
            "2/2 [==============================] - 0s 7ms/step - loss: 7.6462 - mae: 7.6462\n",
            "Epoch 397/500\n",
            "2/2 [==============================] - 0s 8ms/step - loss: 8.7654 - mae: 8.7654\n",
            "Epoch 398/500\n",
            "2/2 [==============================] - 0s 8ms/step - loss: 14.5991 - mae: 14.5991\n",
            "Epoch 399/500\n",
            "2/2 [==============================] - 0s 4ms/step - loss: 11.3166 - mae: 11.3166\n",
            "Epoch 400/500\n",
            "2/2 [==============================] - 0s 5ms/step - loss: 21.9080 - mae: 21.9080\n",
            "Epoch 401/500\n",
            "2/2 [==============================] - 0s 5ms/step - loss: 14.8653 - mae: 14.8653\n",
            "Epoch 402/500\n",
            "2/2 [==============================] - 0s 4ms/step - loss: 8.4970 - mae: 8.4970\n",
            "Epoch 403/500\n",
            "2/2 [==============================] - 0s 7ms/step - loss: 10.3957 - mae: 10.3957\n",
            "Epoch 404/500\n",
            "2/2 [==============================] - 0s 5ms/step - loss: 10.2556 - mae: 10.2556\n",
            "Epoch 405/500\n",
            "2/2 [==============================] - 0s 5ms/step - loss: 6.3392 - mae: 6.3392\n",
            "Epoch 406/500\n",
            "2/2 [==============================] - 0s 6ms/step - loss: 17.4602 - mae: 17.4602\n",
            "Epoch 407/500\n",
            "2/2 [==============================] - 0s 14ms/step - loss: 11.4627 - mae: 11.4627\n",
            "Epoch 408/500\n",
            "2/2 [==============================] - 0s 5ms/step - loss: 20.7294 - mae: 20.7294\n",
            "Epoch 409/500\n",
            "2/2 [==============================] - 0s 6ms/step - loss: 31.3338 - mae: 31.3338\n",
            "Epoch 410/500\n",
            "2/2 [==============================] - 0s 4ms/step - loss: 9.2542 - mae: 9.2542\n",
            "Epoch 411/500\n",
            "2/2 [==============================] - 0s 5ms/step - loss: 14.8621 - mae: 14.8621\n",
            "Epoch 412/500\n",
            "2/2 [==============================] - 0s 12ms/step - loss: 21.7182 - mae: 21.7182\n",
            "Epoch 413/500\n",
            "2/2 [==============================] - 0s 4ms/step - loss: 12.6615 - mae: 12.6615\n",
            "Epoch 414/500\n",
            "2/2 [==============================] - 0s 4ms/step - loss: 6.0687 - mae: 6.0687\n",
            "Epoch 415/500\n",
            "2/2 [==============================] - 0s 4ms/step - loss: 13.2201 - mae: 13.2201\n",
            "Epoch 416/500\n",
            "2/2 [==============================] - 0s 4ms/step - loss: 27.4244 - mae: 27.4244\n",
            "Epoch 417/500\n",
            "2/2 [==============================] - 0s 4ms/step - loss: 10.6407 - mae: 10.6407\n",
            "Epoch 418/500\n",
            "2/2 [==============================] - 0s 4ms/step - loss: 12.8230 - mae: 12.8230\n",
            "Epoch 419/500\n",
            "2/2 [==============================] - 0s 4ms/step - loss: 15.8836 - mae: 15.8836\n",
            "Epoch 420/500\n",
            "2/2 [==============================] - 0s 19ms/step - loss: 24.7510 - mae: 24.7510\n",
            "Epoch 421/500\n",
            "2/2 [==============================] - 0s 5ms/step - loss: 17.3753 - mae: 17.3753\n",
            "Epoch 422/500\n",
            "2/2 [==============================] - 0s 4ms/step - loss: 7.8241 - mae: 7.8241\n",
            "Epoch 423/500\n",
            "2/2 [==============================] - 0s 5ms/step - loss: 25.3789 - mae: 25.3789\n",
            "Epoch 424/500\n",
            "2/2 [==============================] - 0s 5ms/step - loss: 15.1031 - mae: 15.1031\n",
            "Epoch 425/500\n",
            "2/2 [==============================] - 0s 8ms/step - loss: 7.1643 - mae: 7.1643\n",
            "Epoch 426/500\n",
            "2/2 [==============================] - 0s 4ms/step - loss: 20.3318 - mae: 20.3318\n",
            "Epoch 427/500\n",
            "2/2 [==============================] - 0s 5ms/step - loss: 6.3283 - mae: 6.3283\n",
            "Epoch 428/500\n",
            "2/2 [==============================] - 0s 7ms/step - loss: 12.9961 - mae: 12.9961\n",
            "Epoch 429/500\n",
            "2/2 [==============================] - 0s 8ms/step - loss: 10.7869 - mae: 10.7869\n",
            "Epoch 430/500\n",
            "2/2 [==============================] - 0s 5ms/step - loss: 11.4007 - mae: 11.4007\n",
            "Epoch 431/500\n",
            "2/2 [==============================] - 0s 7ms/step - loss: 10.6152 - mae: 10.6152\n",
            "Epoch 432/500\n",
            "2/2 [==============================] - 0s 4ms/step - loss: 11.4582 - mae: 11.4582\n",
            "Epoch 433/500\n",
            "2/2 [==============================] - 0s 6ms/step - loss: 11.3851 - mae: 11.3851\n",
            "Epoch 434/500\n",
            "2/2 [==============================] - 0s 6ms/step - loss: 30.3986 - mae: 30.3986\n",
            "Epoch 435/500\n",
            "2/2 [==============================] - 0s 9ms/step - loss: 10.5052 - mae: 10.5052\n",
            "Epoch 436/500\n",
            "2/2 [==============================] - 0s 4ms/step - loss: 28.8810 - mae: 28.8810\n",
            "Epoch 437/500\n",
            "2/2 [==============================] - 0s 8ms/step - loss: 8.5916 - mae: 8.5916\n",
            "Epoch 438/500\n",
            "2/2 [==============================] - 0s 4ms/step - loss: 12.7378 - mae: 12.7378\n",
            "Epoch 439/500\n",
            "2/2 [==============================] - 0s 5ms/step - loss: 33.6754 - mae: 33.6754\n",
            "Epoch 440/500\n",
            "2/2 [==============================] - 0s 4ms/step - loss: 15.0963 - mae: 15.0963\n",
            "Epoch 441/500\n",
            "2/2 [==============================] - 0s 6ms/step - loss: 17.4813 - mae: 17.4813\n",
            "Epoch 442/500\n",
            "2/2 [==============================] - 0s 5ms/step - loss: 22.3049 - mae: 22.3049\n",
            "Epoch 443/500\n",
            "2/2 [==============================] - 0s 3ms/step - loss: 23.5841 - mae: 23.5841\n",
            "Epoch 444/500\n",
            "2/2 [==============================] - 0s 4ms/step - loss: 11.0008 - mae: 11.0008\n",
            "Epoch 445/500\n",
            "2/2 [==============================] - 0s 11ms/step - loss: 14.9175 - mae: 14.9175\n",
            "Epoch 446/500\n",
            "2/2 [==============================] - 0s 7ms/step - loss: 17.9979 - mae: 17.9979\n",
            "Epoch 447/500\n",
            "2/2 [==============================] - 0s 7ms/step - loss: 5.4482 - mae: 5.4482\n",
            "Epoch 448/500\n",
            "2/2 [==============================] - 0s 10ms/step - loss: 10.0527 - mae: 10.0527\n",
            "Epoch 449/500\n",
            "2/2 [==============================] - 0s 5ms/step - loss: 14.0052 - mae: 14.0052\n",
            "Epoch 450/500\n",
            "2/2 [==============================] - 0s 5ms/step - loss: 16.7782 - mae: 16.7782\n",
            "Epoch 451/500\n",
            "2/2 [==============================] - 0s 4ms/step - loss: 14.2937 - mae: 14.2937\n",
            "Epoch 452/500\n",
            "2/2 [==============================] - 0s 9ms/step - loss: 30.6193 - mae: 30.6193\n",
            "Epoch 453/500\n",
            "2/2 [==============================] - 0s 11ms/step - loss: 7.6541 - mae: 7.6541\n",
            "Epoch 454/500\n",
            "2/2 [==============================] - 0s 8ms/step - loss: 28.1428 - mae: 28.1428\n",
            "Epoch 455/500\n",
            "2/2 [==============================] - 0s 5ms/step - loss: 8.0017 - mae: 8.0017\n",
            "Epoch 456/500\n",
            "2/2 [==============================] - 0s 14ms/step - loss: 10.3933 - mae: 10.3933\n",
            "Epoch 457/500\n",
            "2/2 [==============================] - 0s 14ms/step - loss: 15.0242 - mae: 15.0242\n",
            "Epoch 458/500\n",
            "2/2 [==============================] - 0s 15ms/step - loss: 16.5653 - mae: 16.5653\n",
            "Epoch 459/500\n",
            "2/2 [==============================] - 0s 8ms/step - loss: 26.8566 - mae: 26.8566\n",
            "Epoch 460/500\n",
            "2/2 [==============================] - 0s 7ms/step - loss: 12.4852 - mae: 12.4852\n",
            "Epoch 461/500\n",
            "2/2 [==============================] - 0s 8ms/step - loss: 12.4784 - mae: 12.4784\n",
            "Epoch 462/500\n",
            "2/2 [==============================] - 0s 11ms/step - loss: 13.3186 - mae: 13.3186\n",
            "Epoch 463/500\n",
            "2/2 [==============================] - 0s 11ms/step - loss: 29.5524 - mae: 29.5524\n",
            "Epoch 464/500\n",
            "2/2 [==============================] - 0s 46ms/step - loss: 3.4664 - mae: 3.4664\n",
            "Epoch 465/500\n",
            "2/2 [==============================] - 0s 20ms/step - loss: 15.2136 - mae: 15.2136\n",
            "Epoch 466/500\n",
            "2/2 [==============================] - 0s 10ms/step - loss: 20.8327 - mae: 20.8327\n",
            "Epoch 467/500\n",
            "2/2 [==============================] - 0s 8ms/step - loss: 30.5108 - mae: 30.5108\n",
            "Epoch 468/500\n",
            "2/2 [==============================] - 0s 5ms/step - loss: 11.0597 - mae: 11.0597\n",
            "Epoch 469/500\n",
            "2/2 [==============================] - 0s 9ms/step - loss: 12.8372 - mae: 12.8372\n",
            "Epoch 470/500\n",
            "2/2 [==============================] - 0s 9ms/step - loss: 3.2398 - mae: 3.2398\n",
            "Epoch 471/500\n",
            "2/2 [==============================] - 0s 6ms/step - loss: 16.6964 - mae: 16.6964\n",
            "Epoch 472/500\n",
            "2/2 [==============================] - 0s 7ms/step - loss: 13.3883 - mae: 13.3883\n",
            "Epoch 473/500\n",
            "2/2 [==============================] - 0s 8ms/step - loss: 15.2771 - mae: 15.2771\n",
            "Epoch 474/500\n",
            "2/2 [==============================] - 0s 12ms/step - loss: 11.7448 - mae: 11.7448\n",
            "Epoch 475/500\n",
            "2/2 [==============================] - 0s 8ms/step - loss: 16.4113 - mae: 16.4113\n",
            "Epoch 476/500\n",
            "2/2 [==============================] - 0s 9ms/step - loss: 13.8785 - mae: 13.8785\n",
            "Epoch 477/500\n",
            "2/2 [==============================] - 0s 6ms/step - loss: 30.6702 - mae: 30.6702\n",
            "Epoch 478/500\n",
            "2/2 [==============================] - 0s 5ms/step - loss: 8.5880 - mae: 8.5880\n",
            "Epoch 479/500\n",
            "2/2 [==============================] - 0s 4ms/step - loss: 10.7384 - mae: 10.7384\n",
            "Epoch 480/500\n",
            "2/2 [==============================] - 0s 6ms/step - loss: 17.9051 - mae: 17.9051\n",
            "Epoch 481/500\n",
            "2/2 [==============================] - 0s 4ms/step - loss: 15.8095 - mae: 15.8095\n",
            "Epoch 482/500\n",
            "2/2 [==============================] - 0s 6ms/step - loss: 21.3054 - mae: 21.3054\n",
            "Epoch 483/500\n",
            "2/2 [==============================] - 0s 5ms/step - loss: 25.3845 - mae: 25.3845\n",
            "Epoch 484/500\n",
            "2/2 [==============================] - 0s 15ms/step - loss: 23.9815 - mae: 23.9815\n",
            "Epoch 485/500\n",
            "2/2 [==============================] - 0s 7ms/step - loss: 5.7734 - mae: 5.7734\n",
            "Epoch 486/500\n",
            "2/2 [==============================] - 0s 6ms/step - loss: 20.0010 - mae: 20.0010\n",
            "Epoch 487/500\n",
            "2/2 [==============================] - 0s 8ms/step - loss: 14.0419 - mae: 14.0419\n",
            "Epoch 488/500\n",
            "2/2 [==============================] - 0s 4ms/step - loss: 30.6088 - mae: 30.6088\n",
            "Epoch 489/500\n",
            "2/2 [==============================] - 0s 5ms/step - loss: 11.9409 - mae: 11.9409\n",
            "Epoch 490/500\n",
            "2/2 [==============================] - 0s 4ms/step - loss: 12.7352 - mae: 12.7352\n",
            "Epoch 491/500\n",
            "2/2 [==============================] - 0s 20ms/step - loss: 23.6139 - mae: 23.6139\n",
            "Epoch 492/500\n",
            "2/2 [==============================] - 0s 6ms/step - loss: 20.5365 - mae: 20.5365\n",
            "Epoch 493/500\n",
            "2/2 [==============================] - 0s 7ms/step - loss: 4.9942 - mae: 4.9942\n",
            "Epoch 494/500\n",
            "2/2 [==============================] - 0s 4ms/step - loss: 12.7986 - mae: 12.7986\n",
            "Epoch 495/500\n",
            "2/2 [==============================] - 0s 6ms/step - loss: 13.3772 - mae: 13.3772\n",
            "Epoch 496/500\n",
            "2/2 [==============================] - 0s 6ms/step - loss: 12.6727 - mae: 12.6727\n",
            "Epoch 497/500\n",
            "2/2 [==============================] - 0s 4ms/step - loss: 17.6192 - mae: 17.6192\n",
            "Epoch 498/500\n",
            "2/2 [==============================] - 0s 17ms/step - loss: 23.5629 - mae: 23.5629\n",
            "Epoch 499/500\n",
            "2/2 [==============================] - 0s 7ms/step - loss: 9.3755 - mae: 9.3755\n",
            "Epoch 500/500\n",
            "2/2 [==============================] - 0s 7ms/step - loss: 14.6316 - mae: 14.6316\n"
          ],
          "name": "stdout"
        },
        {
          "output_type": "execute_result",
          "data": {
            "text/plain": [
              "<tensorflow.python.keras.callbacks.History at 0x7fd71326b4d0>"
            ]
          },
          "metadata": {
            "tags": []
          },
          "execution_count": 41
        }
      ]
    },
    {
      "cell_type": "code",
      "metadata": {
        "colab": {
          "base_uri": "https://localhost:8080/",
          "height": 465
        },
        "id": "is-EhtrCR6uK",
        "outputId": "cddd5e3d-26b3-4624-cef8-9cf6e60695f5"
      },
      "source": [
        "y_preds_3 = model_3.predict(X_test)\n",
        "plot_predictions(predictions=y_preds_3)"
      ],
      "execution_count": null,
      "outputs": [
        {
          "output_type": "stream",
          "text": [
            "WARNING:tensorflow:6 out of the last 6 calls to <function Model.make_predict_function.<locals>.predict_function at 0x7fd71517b050> triggered tf.function retracing. Tracing is expensive and the excessive number of tracings could be due to (1) creating @tf.function repeatedly in a loop, (2) passing tensors with different shapes, (3) passing Python objects instead of tensors. For (1), please define your @tf.function outside of the loop. For (2), @tf.function has experimental_relax_shapes=True option that relaxes argument shapes that can avoid unnecessary retracing. For (3), please refer to https://www.tensorflow.org/guide/function#controlling_retracing and https://www.tensorflow.org/api_docs/python/tf/function for  more details.\n"
          ],
          "name": "stdout"
        },
        {
          "output_type": "display_data",
          "data": {
            "image/png": "[encoded data removed]",
            "text/plain": [
              "<Figure size 720x504 with 1 Axes>"
            ]
          },
          "metadata": {
            "tags": [],
            "needs_background": "light"
          }
        }
      ]
    },
    {
      "cell_type": "code",
      "metadata": {
        "colab": {
          "base_uri": "https://localhost:8080/"
        },
        "id": "gALEjbowSIho",
        "outputId": "09b3b5ce-c23c-4a36-ad01-bd96fca174b5"
      },
      "source": [
        "mae_3 = mae(y_test, y_preds_3)\n",
        "mse_3 = mse(y_test, y_preds_3)\n",
        "mae_3, mse_3"
      ],
      "execution_count": null,
      "outputs": [
        {
          "output_type": "execute_result",
          "data": {
            "text/plain": [
              "(<tf.Tensor: shape=(), dtype=float32, numpy=68.713615>,\n",
              " <tf.Tensor: shape=(), dtype=float32, numpy=4808.0273>)"
            ]
          },
          "metadata": {
            "tags": []
          },
          "execution_count": 43
        }
      ]
    },
    {
      "cell_type": "markdown",
      "metadata": {
        "id": "Tf2BixkPTW8T"
      },
      "source": [
        "## Comparing results of the experiments"
      ]
    },
    {
      "cell_type": "code",
      "metadata": {
        "colab": {
          "base_uri": "https://localhost:8080/",
          "height": 142
        },
        "id": "9pWIzXHFSiLI",
        "outputId": "6a589c8f-7009-46e9-a470-531dc3ef3b27"
      },
      "source": [
        "# Compare the model's results using the pandas dataframe\n",
        "import pandas as pd\n",
        "\n",
        "model_results = [[\"model_1\", mae_1.numpy(), mse_1.numpy()],\n",
        "                 [\"model_2\", mae_2.numpy(), mse_2.numpy()],\n",
        "                 [\"model_3\", mae_3.numpy(), mse_3.numpy()]]\n",
        "\n",
        "all_results = pd.DataFrame(model_results, columns = ['model', 'mae', 'mse'])\n",
        "all_results"
      ],
      "execution_count": null,
      "outputs": [
        {
          "output_type": "execute_result",
          "data": {
            "text/html": [
              "<div>\n",
              "<style scoped>\n",
              "    .dataframe tbody tr th:only-of-type {\n",
              "        vertical-align: middle;\n",
              "    }\n",
              "\n",
              "    .dataframe tbody tr th {\n",
              "        vertical-align: top;\n",
              "    }\n",
              "\n",
              "    .dataframe thead th {\n",
              "        text-align: right;\n",
              "    }\n",
              "</style>\n",
              "<table border=\"1\" class=\"dataframe\">\n",
              "  <thead>\n",
              "    <tr style=\"text-align: right;\">\n",
              "      <th></th>\n",
              "      <th>model</th>\n",
              "      <th>mae</th>\n",
              "      <th>mse</th>\n",
              "    </tr>\n",
              "  </thead>\n",
              "  <tbody>\n",
              "    <tr>\n",
              "      <th>0</th>\n",
              "      <td>model_1</td>\n",
              "      <td>18.745327</td>\n",
              "      <td>353.573364</td>\n",
              "    </tr>\n",
              "    <tr>\n",
              "      <th>1</th>\n",
              "      <td>model_2</td>\n",
              "      <td>3.196941</td>\n",
              "      <td>13.070143</td>\n",
              "    </tr>\n",
              "    <tr>\n",
              "      <th>2</th>\n",
              "      <td>model_3</td>\n",
              "      <td>68.713615</td>\n",
              "      <td>4808.027344</td>\n",
              "    </tr>\n",
              "  </tbody>\n",
              "</table>\n",
              "</div>"
            ],
            "text/plain": [
              "     model        mae          mse\n",
              "0  model_1  18.745327   353.573364\n",
              "1  model_2   3.196941    13.070143\n",
              "2  model_3  68.713615  4808.027344"
            ]
          },
          "metadata": {
            "tags": []
          },
          "execution_count": 44
        }
      ]
    },
    {
      "cell_type": "code",
      "metadata": {
        "colab": {
          "base_uri": "https://localhost:8080/"
        },
        "id": "tfkB6U7jUsls",
        "outputId": "af4435cb-0234-4de5-fcb2-f734f0aa79ce"
      },
      "source": [
        "model_2.summary()"
      ],
      "execution_count": null,
      "outputs": [
        {
          "output_type": "stream",
          "text": [
            "Model: \"sequential_5\"\n",
            "_________________________________________________________________\n",
            "Layer (type)                 Output Shape              Param #   \n",
            "=================================================================\n",
            "dense_7 (Dense)              (None, 10)                20        \n",
            "_________________________________________________________________\n",
            "dense_8 (Dense)              (None, 1)                 11        \n",
            "=================================================================\n",
            "Total params: 31\n",
            "Trainable params: 31\n",
            "Non-trainable params: 0\n",
            "_________________________________________________________________\n"
          ],
          "name": "stdout"
        }
      ]
    },
    {
      "cell_type": "markdown",
      "metadata": {
        "id": "XnnalkVWVRPn"
      },
      "source": [
        "## Tracking the experiments\n",
        "\n",
        "* **TesnorBoard** - a component of the TensorFlow library to help track modelling experiments.\n",
        "* **Weights & Biases** - a tool fot tracking all kinds of machine learning experiments."
      ]
    },
    {
      "cell_type": "markdown",
      "metadata": {
        "id": "rsmGmAeQV7fO"
      },
      "source": [
        "## Saving the models\n",
        "\n",
        "Two main formats to save the model:\n",
        "* SavedModel\n",
        "* HDF5"
      ]
    },
    {
      "cell_type": "code",
      "metadata": {
        "colab": {
          "base_uri": "https://localhost:8080/"
        },
        "id": "HH77ITMMUxkb",
        "outputId": "f8bdd087-b9f5-4ee4-f063-8dc405040135"
      },
      "source": [
        "# Save the model using the SavedModel\n",
        "model_2.save(\"model_2_SavedModel\")"
      ],
      "execution_count": null,
      "outputs": [
        {
          "output_type": "stream",
          "text": [
            "INFO:tensorflow:Assets written to: model_2_SavedModel/assets\n"
          ],
          "name": "stdout"
        }
      ]
    },
    {
      "cell_type": "code",
      "metadata": {
        "id": "FRZzQAJSWvV0"
      },
      "source": [
        "# Save the model using the HDF5\n",
        "model_2.save(\"model_2_HDF5.h5\")"
      ],
      "execution_count": null,
      "outputs": []
    },
    {
      "cell_type": "markdown",
      "metadata": {
        "id": "MVbkneQ1XOJK"
      },
      "source": [
        "## Loading the models"
      ]
    },
    {
      "cell_type": "code",
      "metadata": {
        "colab": {
          "base_uri": "https://localhost:8080/"
        },
        "id": "Vq6lS43UXJEt",
        "outputId": "59c03b89-be74-463d-95a5-52ba390e88d9"
      },
      "source": [
        "# Load in the SavedModel format\n",
        "loaded_SavedModel = tf.keras.models.load_model(\"model_2_SavedModel\")\n",
        "loaded_SavedModel.summary()"
      ],
      "execution_count": null,
      "outputs": [
        {
          "output_type": "stream",
          "text": [
            "Model: \"sequential_5\"\n",
            "_________________________________________________________________\n",
            "Layer (type)                 Output Shape              Param #   \n",
            "=================================================================\n",
            "dense_7 (Dense)              (None, 10)                20        \n",
            "_________________________________________________________________\n",
            "dense_8 (Dense)              (None, 1)                 11        \n",
            "=================================================================\n",
            "Total params: 31\n",
            "Trainable params: 31\n",
            "Non-trainable params: 0\n",
            "_________________________________________________________________\n"
          ],
          "name": "stdout"
        }
      ]
    },
    {
      "cell_type": "code",
      "metadata": {
        "colab": {
          "base_uri": "https://localhost:8080/"
        },
        "id": "IE1c5rybXzbP",
        "outputId": "e4372dbb-e414-44e0-f36a-f1184b646722"
      },
      "source": [
        "model_2.predict(X_test).squeeze(), loaded_SavedModel.predict(X_test).squeeze()"
      ],
      "execution_count": null,
      "outputs": [
        {
          "output_type": "execute_result",
          "data": {
            "text/plain": [
              "(array([ 70.55218 ,  75.13991 ,  79.72763 ,  84.31535 ,  88.903076,\n",
              "         93.49081 ,  98.07853 , 102.66625 , 107.253975, 111.8417  ],\n",
              "       dtype=float32),\n",
              " array([ 70.55218 ,  75.13991 ,  79.72763 ,  84.31535 ,  88.903076,\n",
              "         93.49081 ,  98.07853 , 102.66625 , 107.253975, 111.8417  ],\n",
              "       dtype=float32))"
            ]
          },
          "metadata": {
            "tags": []
          },
          "execution_count": 49
        }
      ]
    },
    {
      "cell_type": "code",
      "metadata": {
        "colab": {
          "base_uri": "https://localhost:8080/"
        },
        "id": "2riGfD9NYFC8",
        "outputId": "b71aac98-af8a-4511-8535-0a09f11b5509"
      },
      "source": [
        "# Load in the .h5 format\n",
        "loaded_h5 = tf.keras.models.load_model(\"model_2_HDF5.h5\")\n",
        "loaded_h5.summary()"
      ],
      "execution_count": null,
      "outputs": [
        {
          "output_type": "stream",
          "text": [
            "Model: \"sequential_5\"\n",
            "_________________________________________________________________\n",
            "Layer (type)                 Output Shape              Param #   \n",
            "=================================================================\n",
            "dense_7 (Dense)              (None, 10)                20        \n",
            "_________________________________________________________________\n",
            "dense_8 (Dense)              (None, 1)                 11        \n",
            "=================================================================\n",
            "Total params: 31\n",
            "Trainable params: 31\n",
            "Non-trainable params: 0\n",
            "_________________________________________________________________\n"
          ],
          "name": "stdout"
        }
      ]
    },
    {
      "cell_type": "code",
      "metadata": {
        "id": "EXb2oBBjYqyx"
      },
      "source": [
        "from google.colab import files\n",
        "files.download()"
      ],
      "execution_count": null,
      "outputs": []
    },
    {
      "cell_type": "markdown",
      "metadata": {
        "id": "qVItr4O7hTZt"
      },
      "source": [
        "# A larger example"
      ]
    },
    {
      "cell_type": "code",
      "metadata": {
        "id": "JZdkHoNFhXaH"
      },
      "source": [
        "# Import libraries\n",
        "import tensorflow as tf\n",
        "import pandas as pd\n",
        "import matplotlib.pyplot as plt"
      ],
      "execution_count": null,
      "outputs": []
    },
    {
      "cell_type": "code",
      "metadata": {
        "colab": {
          "base_uri": "https://localhost:8080/",
          "height": 204
        },
        "id": "JShCAPBkiGlu",
        "outputId": "542a7dff-188c-41a4-9d34-2abf346f214b"
      },
      "source": [
        "insurance = pd.read_csv(\"https://raw.githubusercontent.com/stedy/Machine-Learning-with-R-datasets/master/insurance.csv\")\n",
        "insurance.head()"
      ],
      "execution_count": null,
      "outputs": [
        {
          "output_type": "execute_result",
          "data": {
            "text/html": [
              "<div>\n",
              "<style scoped>\n",
              "    .dataframe tbody tr th:only-of-type {\n",
              "        vertical-align: middle;\n",
              "    }\n",
              "\n",
              "    .dataframe tbody tr th {\n",
              "        vertical-align: top;\n",
              "    }\n",
              "\n",
              "    .dataframe thead th {\n",
              "        text-align: right;\n",
              "    }\n",
              "</style>\n",
              "<table border=\"1\" class=\"dataframe\">\n",
              "  <thead>\n",
              "    <tr style=\"text-align: right;\">\n",
              "      <th></th>\n",
              "      <th>age</th>\n",
              "      <th>sex</th>\n",
              "      <th>bmi</th>\n",
              "      <th>children</th>\n",
              "      <th>smoker</th>\n",
              "      <th>region</th>\n",
              "      <th>charges</th>\n",
              "    </tr>\n",
              "  </thead>\n",
              "  <tbody>\n",
              "    <tr>\n",
              "      <th>0</th>\n",
              "      <td>19</td>\n",
              "      <td>female</td>\n",
              "      <td>27.900</td>\n",
              "      <td>0</td>\n",
              "      <td>yes</td>\n",
              "      <td>southwest</td>\n",
              "      <td>16884.92400</td>\n",
              "    </tr>\n",
              "    <tr>\n",
              "      <th>1</th>\n",
              "      <td>18</td>\n",
              "      <td>male</td>\n",
              "      <td>33.770</td>\n",
              "      <td>1</td>\n",
              "      <td>no</td>\n",
              "      <td>southeast</td>\n",
              "      <td>1725.55230</td>\n",
              "    </tr>\n",
              "    <tr>\n",
              "      <th>2</th>\n",
              "      <td>28</td>\n",
              "      <td>male</td>\n",
              "      <td>33.000</td>\n",
              "      <td>3</td>\n",
              "      <td>no</td>\n",
              "      <td>southeast</td>\n",
              "      <td>4449.46200</td>\n",
              "    </tr>\n",
              "    <tr>\n",
              "      <th>3</th>\n",
              "      <td>33</td>\n",
              "      <td>male</td>\n",
              "      <td>22.705</td>\n",
              "      <td>0</td>\n",
              "      <td>no</td>\n",
              "      <td>northwest</td>\n",
              "      <td>21984.47061</td>\n",
              "    </tr>\n",
              "    <tr>\n",
              "      <th>4</th>\n",
              "      <td>32</td>\n",
              "      <td>male</td>\n",
              "      <td>28.880</td>\n",
              "      <td>0</td>\n",
              "      <td>no</td>\n",
              "      <td>northwest</td>\n",
              "      <td>3866.85520</td>\n",
              "    </tr>\n",
              "  </tbody>\n",
              "</table>\n",
              "</div>"
            ],
            "text/plain": [
              "   age     sex     bmi  children smoker     region      charges\n",
              "0   19  female  27.900         0    yes  southwest  16884.92400\n",
              "1   18    male  33.770         1     no  southeast   1725.55230\n",
              "2   28    male  33.000         3     no  southeast   4449.46200\n",
              "3   33    male  22.705         0     no  northwest  21984.47061\n",
              "4   32    male  28.880         0     no  northwest   3866.85520"
            ]
          },
          "metadata": {
            "tags": []
          },
          "execution_count": 51
        }
      ]
    },
    {
      "cell_type": "code",
      "metadata": {
        "colab": {
          "base_uri": "https://localhost:8080/",
          "height": 204
        },
        "id": "HHapI-fXiLuL",
        "outputId": "4fdcea73-7d0a-403a-cc75-a538f63f3196"
      },
      "source": [
        "# One Hot encode the dataframe\n",
        "insurance_one_hot = pd.get_dummies(insurance)\n",
        "insurance_one_hot.head()"
      ],
      "execution_count": null,
      "outputs": [
        {
          "output_type": "execute_result",
          "data": {
            "text/html": [
              "<div>\n",
              "<style scoped>\n",
              "    .dataframe tbody tr th:only-of-type {\n",
              "        vertical-align: middle;\n",
              "    }\n",
              "\n",
              "    .dataframe tbody tr th {\n",
              "        vertical-align: top;\n",
              "    }\n",
              "\n",
              "    .dataframe thead th {\n",
              "        text-align: right;\n",
              "    }\n",
              "</style>\n",
              "<table border=\"1\" class=\"dataframe\">\n",
              "  <thead>\n",
              "    <tr style=\"text-align: right;\">\n",
              "      <th></th>\n",
              "      <th>age</th>\n",
              "      <th>bmi</th>\n",
              "      <th>children</th>\n",
              "      <th>charges</th>\n",
              "      <th>sex_female</th>\n",
              "      <th>sex_male</th>\n",
              "      <th>smoker_no</th>\n",
              "      <th>smoker_yes</th>\n",
              "      <th>region_northeast</th>\n",
              "      <th>region_northwest</th>\n",
              "      <th>region_southeast</th>\n",
              "      <th>region_southwest</th>\n",
              "    </tr>\n",
              "  </thead>\n",
              "  <tbody>\n",
              "    <tr>\n",
              "      <th>0</th>\n",
              "      <td>19</td>\n",
              "      <td>27.900</td>\n",
              "      <td>0</td>\n",
              "      <td>16884.92400</td>\n",
              "      <td>1</td>\n",
              "      <td>0</td>\n",
              "      <td>0</td>\n",
              "      <td>1</td>\n",
              "      <td>0</td>\n",
              "      <td>0</td>\n",
              "      <td>0</td>\n",
              "      <td>1</td>\n",
              "    </tr>\n",
              "    <tr>\n",
              "      <th>1</th>\n",
              "      <td>18</td>\n",
              "      <td>33.770</td>\n",
              "      <td>1</td>\n",
              "      <td>1725.55230</td>\n",
              "      <td>0</td>\n",
              "      <td>1</td>\n",
              "      <td>1</td>\n",
              "      <td>0</td>\n",
              "      <td>0</td>\n",
              "      <td>0</td>\n",
              "      <td>1</td>\n",
              "      <td>0</td>\n",
              "    </tr>\n",
              "    <tr>\n",
              "      <th>2</th>\n",
              "      <td>28</td>\n",
              "      <td>33.000</td>\n",
              "      <td>3</td>\n",
              "      <td>4449.46200</td>\n",
              "      <td>0</td>\n",
              "      <td>1</td>\n",
              "      <td>1</td>\n",
              "      <td>0</td>\n",
              "      <td>0</td>\n",
              "      <td>0</td>\n",
              "      <td>1</td>\n",
              "      <td>0</td>\n",
              "    </tr>\n",
              "    <tr>\n",
              "      <th>3</th>\n",
              "      <td>33</td>\n",
              "      <td>22.705</td>\n",
              "      <td>0</td>\n",
              "      <td>21984.47061</td>\n",
              "      <td>0</td>\n",
              "      <td>1</td>\n",
              "      <td>1</td>\n",
              "      <td>0</td>\n",
              "      <td>0</td>\n",
              "      <td>1</td>\n",
              "      <td>0</td>\n",
              "      <td>0</td>\n",
              "    </tr>\n",
              "    <tr>\n",
              "      <th>4</th>\n",
              "      <td>32</td>\n",
              "      <td>28.880</td>\n",
              "      <td>0</td>\n",
              "      <td>3866.85520</td>\n",
              "      <td>0</td>\n",
              "      <td>1</td>\n",
              "      <td>1</td>\n",
              "      <td>0</td>\n",
              "      <td>0</td>\n",
              "      <td>1</td>\n",
              "      <td>0</td>\n",
              "      <td>0</td>\n",
              "    </tr>\n",
              "  </tbody>\n",
              "</table>\n",
              "</div>"
            ],
            "text/plain": [
              "   age     bmi  children  ...  region_northwest  region_southeast  region_southwest\n",
              "0   19  27.900         0  ...                 0                 0                 1\n",
              "1   18  33.770         1  ...                 0                 1                 0\n",
              "2   28  33.000         3  ...                 0                 1                 0\n",
              "3   33  22.705         0  ...                 1                 0                 0\n",
              "4   32  28.880         0  ...                 1                 0                 0\n",
              "\n",
              "[5 rows x 12 columns]"
            ]
          },
          "metadata": {
            "tags": []
          },
          "execution_count": 54
        }
      ]
    },
    {
      "cell_type": "code",
      "metadata": {
        "id": "GLOCp8ITjOeC"
      },
      "source": [
        "# Split into X & y\n",
        "X = insurance_one_hot.drop('charges', axis=1)\n",
        "y = insurance_one_hot['charges']"
      ],
      "execution_count": null,
      "outputs": []
    },
    {
      "cell_type": "code",
      "metadata": {
        "colab": {
          "base_uri": "https://localhost:8080/",
          "height": 204
        },
        "id": "RhY0B7f_kCJI",
        "outputId": "af60124e-2e97-442c-fcf7-9e325ec27f39"
      },
      "source": [
        "X.head()"
      ],
      "execution_count": null,
      "outputs": [
        {
          "output_type": "execute_result",
          "data": {
            "text/html": [
              "<div>\n",
              "<style scoped>\n",
              "    .dataframe tbody tr th:only-of-type {\n",
              "        vertical-align: middle;\n",
              "    }\n",
              "\n",
              "    .dataframe tbody tr th {\n",
              "        vertical-align: top;\n",
              "    }\n",
              "\n",
              "    .dataframe thead th {\n",
              "        text-align: right;\n",
              "    }\n",
              "</style>\n",
              "<table border=\"1\" class=\"dataframe\">\n",
              "  <thead>\n",
              "    <tr style=\"text-align: right;\">\n",
              "      <th></th>\n",
              "      <th>age</th>\n",
              "      <th>bmi</th>\n",
              "      <th>children</th>\n",
              "      <th>sex_female</th>\n",
              "      <th>sex_male</th>\n",
              "      <th>smoker_no</th>\n",
              "      <th>smoker_yes</th>\n",
              "      <th>region_northeast</th>\n",
              "      <th>region_northwest</th>\n",
              "      <th>region_southeast</th>\n",
              "      <th>region_southwest</th>\n",
              "    </tr>\n",
              "  </thead>\n",
              "  <tbody>\n",
              "    <tr>\n",
              "      <th>0</th>\n",
              "      <td>19</td>\n",
              "      <td>27.900</td>\n",
              "      <td>0</td>\n",
              "      <td>1</td>\n",
              "      <td>0</td>\n",
              "      <td>0</td>\n",
              "      <td>1</td>\n",
              "      <td>0</td>\n",
              "      <td>0</td>\n",
              "      <td>0</td>\n",
              "      <td>1</td>\n",
              "    </tr>\n",
              "    <tr>\n",
              "      <th>1</th>\n",
              "      <td>18</td>\n",
              "      <td>33.770</td>\n",
              "      <td>1</td>\n",
              "      <td>0</td>\n",
              "      <td>1</td>\n",
              "      <td>1</td>\n",
              "      <td>0</td>\n",
              "      <td>0</td>\n",
              "      <td>0</td>\n",
              "      <td>1</td>\n",
              "      <td>0</td>\n",
              "    </tr>\n",
              "    <tr>\n",
              "      <th>2</th>\n",
              "      <td>28</td>\n",
              "      <td>33.000</td>\n",
              "      <td>3</td>\n",
              "      <td>0</td>\n",
              "      <td>1</td>\n",
              "      <td>1</td>\n",
              "      <td>0</td>\n",
              "      <td>0</td>\n",
              "      <td>0</td>\n",
              "      <td>1</td>\n",
              "      <td>0</td>\n",
              "    </tr>\n",
              "    <tr>\n",
              "      <th>3</th>\n",
              "      <td>33</td>\n",
              "      <td>22.705</td>\n",
              "      <td>0</td>\n",
              "      <td>0</td>\n",
              "      <td>1</td>\n",
              "      <td>1</td>\n",
              "      <td>0</td>\n",
              "      <td>0</td>\n",
              "      <td>1</td>\n",
              "      <td>0</td>\n",
              "      <td>0</td>\n",
              "    </tr>\n",
              "    <tr>\n",
              "      <th>4</th>\n",
              "      <td>32</td>\n",
              "      <td>28.880</td>\n",
              "      <td>0</td>\n",
              "      <td>0</td>\n",
              "      <td>1</td>\n",
              "      <td>1</td>\n",
              "      <td>0</td>\n",
              "      <td>0</td>\n",
              "      <td>1</td>\n",
              "      <td>0</td>\n",
              "      <td>0</td>\n",
              "    </tr>\n",
              "  </tbody>\n",
              "</table>\n",
              "</div>"
            ],
            "text/plain": [
              "   age     bmi  children  ...  region_northwest  region_southeast  region_southwest\n",
              "0   19  27.900         0  ...                 0                 0                 1\n",
              "1   18  33.770         1  ...                 0                 1                 0\n",
              "2   28  33.000         3  ...                 0                 1                 0\n",
              "3   33  22.705         0  ...                 1                 0                 0\n",
              "4   32  28.880         0  ...                 1                 0                 0\n",
              "\n",
              "[5 rows x 11 columns]"
            ]
          },
          "metadata": {
            "tags": []
          },
          "execution_count": 58
        }
      ]
    },
    {
      "cell_type": "code",
      "metadata": {
        "colab": {
          "base_uri": "https://localhost:8080/"
        },
        "id": "cofLF_rqkS4i",
        "outputId": "211caf89-190e-47df-85ef-cd67f022edf2"
      },
      "source": [
        "y.head()"
      ],
      "execution_count": null,
      "outputs": [
        {
          "output_type": "execute_result",
          "data": {
            "text/plain": [
              "0    16884.92400\n",
              "1     1725.55230\n",
              "2     4449.46200\n",
              "3    21984.47061\n",
              "4     3866.85520\n",
              "Name: charges, dtype: float64"
            ]
          },
          "metadata": {
            "tags": []
          },
          "execution_count": 59
        }
      ]
    },
    {
      "cell_type": "code",
      "metadata": {
        "id": "vA4XST_RkXxa"
      },
      "source": [
        "# Split into training and test\n",
        "from sklearn.model_selection import train_test_split\n",
        "X_train, X_test, y_train, y_test = train_test_split(X, y, test_size=0.2, random_state=42)"
      ],
      "execution_count": null,
      "outputs": []
    },
    {
      "cell_type": "code",
      "metadata": {
        "colab": {
          "base_uri": "https://localhost:8080/"
        },
        "id": "WcM-myaNlOMx",
        "outputId": "7fcbaab8-85ad-42fd-85fd-85116da0d6e8"
      },
      "source": [
        "# Build model\n",
        "tf.random.set_seed(42)\n",
        "\n",
        "insurance_model = tf.keras.Sequential([\n",
        "      tf.keras.layers.Dense(10),\n",
        "      tf.keras.layers.Dense(1)\n",
        "])\n",
        "\n",
        "insurance_model.compile(loss=tf.keras.losses.mae,\n",
        "                        optimizer=tf.keras.optimizers.SGD(),\n",
        "                        metrics=['mae'])\n",
        "\n",
        "insurance_model.fit(X_train, y_train, epochs=100)"
      ],
      "execution_count": null,
      "outputs": [
        {
          "output_type": "stream",
          "text": [
            "Epoch 1/100\n",
            "34/34 [==============================] - 0s 1ms/step - loss: 8637.1006 - mae: 8637.1006\n",
            "Epoch 2/100\n",
            "34/34 [==============================] - 0s 1ms/step - loss: 7886.7759 - mae: 7886.7759\n",
            "Epoch 3/100\n",
            "34/34 [==============================] - 0s 1ms/step - loss: 7558.1470 - mae: 7558.1470\n",
            "Epoch 4/100\n",
            "34/34 [==============================] - 0s 1ms/step - loss: 7792.0220 - mae: 7792.0220\n",
            "Epoch 5/100\n",
            "34/34 [==============================] - 0s 1ms/step - loss: 7748.3887 - mae: 7748.3887\n",
            "Epoch 6/100\n",
            "34/34 [==============================] - 0s 1ms/step - loss: 7595.3940 - mae: 7595.3940\n",
            "Epoch 7/100\n",
            "34/34 [==============================] - 0s 1ms/step - loss: 7589.9844 - mae: 7589.9844\n",
            "Epoch 8/100\n",
            "34/34 [==============================] - 0s 1ms/step - loss: 7698.5576 - mae: 7698.5576\n",
            "Epoch 9/100\n",
            "34/34 [==============================] - 0s 1ms/step - loss: 7496.7778 - mae: 7496.7778\n",
            "Epoch 10/100\n",
            "34/34 [==============================] - 0s 1ms/step - loss: 7493.1743 - mae: 7493.1743\n",
            "Epoch 11/100\n",
            "34/34 [==============================] - 0s 1ms/step - loss: 7769.7295 - mae: 7769.7295\n",
            "Epoch 12/100\n",
            "34/34 [==============================] - 0s 1ms/step - loss: 7706.9028 - mae: 7706.9028\n",
            "Epoch 13/100\n",
            "34/34 [==============================] - 0s 2ms/step - loss: 7687.7231 - mae: 7687.7231\n",
            "Epoch 14/100\n",
            "34/34 [==============================] - 0s 1ms/step - loss: 7689.9004 - mae: 7689.9004\n",
            "Epoch 15/100\n",
            "34/34 [==============================] - 0s 1ms/step - loss: 7393.5327 - mae: 7393.5327\n",
            "Epoch 16/100\n",
            "34/34 [==============================] - 0s 1ms/step - loss: 7780.6987 - mae: 7780.6987\n",
            "Epoch 17/100\n",
            "34/34 [==============================] - 0s 1ms/step - loss: 7578.5098 - mae: 7578.5098\n",
            "Epoch 18/100\n",
            "34/34 [==============================] - 0s 1ms/step - loss: 7750.8354 - mae: 7750.8354\n",
            "Epoch 19/100\n",
            "34/34 [==============================] - 0s 1ms/step - loss: 7739.2144 - mae: 7739.2144\n",
            "Epoch 20/100\n",
            "34/34 [==============================] - 0s 1ms/step - loss: 7875.0654 - mae: 7875.0654\n",
            "Epoch 21/100\n",
            "34/34 [==============================] - 0s 1ms/step - loss: 7466.6768 - mae: 7466.6768\n",
            "Epoch 22/100\n",
            "34/34 [==============================] - 0s 1ms/step - loss: 7941.2329 - mae: 7941.2329\n",
            "Epoch 23/100\n",
            "34/34 [==============================] - 0s 1ms/step - loss: 7640.2725 - mae: 7640.2725\n",
            "Epoch 24/100\n",
            "34/34 [==============================] - 0s 2ms/step - loss: 7539.2671 - mae: 7539.2671\n",
            "Epoch 25/100\n",
            "34/34 [==============================] - 0s 1ms/step - loss: 7619.9653 - mae: 7619.9653\n",
            "Epoch 26/100\n",
            "34/34 [==============================] - 0s 2ms/step - loss: 7644.1719 - mae: 7644.1719\n",
            "Epoch 27/100\n",
            "34/34 [==============================] - 0s 1ms/step - loss: 7709.0371 - mae: 7709.0371\n",
            "Epoch 28/100\n",
            "34/34 [==============================] - 0s 1ms/step - loss: 7366.8662 - mae: 7366.8662\n",
            "Epoch 29/100\n",
            "34/34 [==============================] - 0s 1ms/step - loss: 7444.3154 - mae: 7444.3154\n",
            "Epoch 30/100\n",
            "34/34 [==============================] - 0s 1ms/step - loss: 7616.4077 - mae: 7616.4077\n",
            "Epoch 31/100\n",
            "34/34 [==============================] - 0s 1ms/step - loss: 7686.3853 - mae: 7686.3853\n",
            "Epoch 32/100\n",
            "34/34 [==============================] - 0s 1ms/step - loss: 7548.0977 - mae: 7548.0977\n",
            "Epoch 33/100\n",
            "34/34 [==============================] - 0s 1ms/step - loss: 7501.5532 - mae: 7501.5532\n",
            "Epoch 34/100\n",
            "34/34 [==============================] - 0s 1ms/step - loss: 7363.4160 - mae: 7363.4160\n",
            "Epoch 35/100\n",
            "34/34 [==============================] - 0s 1ms/step - loss: 7295.4478 - mae: 7295.4478\n",
            "Epoch 36/100\n",
            "34/34 [==============================] - 0s 1ms/step - loss: 7569.8813 - mae: 7569.8813\n",
            "Epoch 37/100\n",
            "34/34 [==============================] - 0s 1ms/step - loss: 7548.1997 - mae: 7548.1997\n",
            "Epoch 38/100\n",
            "34/34 [==============================] - 0s 1ms/step - loss: 7424.3975 - mae: 7424.3975\n",
            "Epoch 39/100\n",
            "34/34 [==============================] - 0s 1ms/step - loss: 7529.7734 - mae: 7529.7734\n",
            "Epoch 40/100\n",
            "34/34 [==============================] - 0s 1ms/step - loss: 7467.3232 - mae: 7467.3232\n",
            "Epoch 41/100\n",
            "34/34 [==============================] - 0s 1ms/step - loss: 7635.9292 - mae: 7635.9292\n",
            "Epoch 42/100\n",
            "34/34 [==============================] - 0s 1ms/step - loss: 7536.8398 - mae: 7536.8398\n",
            "Epoch 43/100\n",
            "34/34 [==============================] - 0s 1ms/step - loss: 7616.5859 - mae: 7616.5859\n",
            "Epoch 44/100\n",
            "34/34 [==============================] - 0s 1ms/step - loss: 7439.4941 - mae: 7439.4941\n",
            "Epoch 45/100\n",
            "34/34 [==============================] - 0s 1ms/step - loss: 7538.0151 - mae: 7538.0151\n",
            "Epoch 46/100\n",
            "34/34 [==============================] - 0s 2ms/step - loss: 7415.1470 - mae: 7415.1470\n",
            "Epoch 47/100\n",
            "34/34 [==============================] - 0s 1ms/step - loss: 7420.6938 - mae: 7420.6938\n",
            "Epoch 48/100\n",
            "34/34 [==============================] - 0s 1ms/step - loss: 7509.9839 - mae: 7509.9839\n",
            "Epoch 49/100\n",
            "34/34 [==============================] - 0s 1ms/step - loss: 7541.1133 - mae: 7541.1133\n",
            "Epoch 50/100\n",
            "34/34 [==============================] - 0s 1ms/step - loss: 7467.8643 - mae: 7467.8643\n",
            "Epoch 51/100\n",
            "34/34 [==============================] - 0s 1ms/step - loss: 7389.3560 - mae: 7389.3560\n",
            "Epoch 52/100\n",
            "34/34 [==============================] - 0s 1ms/step - loss: 7499.7749 - mae: 7499.7749\n",
            "Epoch 53/100\n",
            "34/34 [==============================] - 0s 1ms/step - loss: 7523.9282 - mae: 7523.9282\n",
            "Epoch 54/100\n",
            "34/34 [==============================] - 0s 1ms/step - loss: 7243.3115 - mae: 7243.3115\n",
            "Epoch 55/100\n",
            "34/34 [==============================] - 0s 1ms/step - loss: 7429.5864 - mae: 7429.5864\n",
            "Epoch 56/100\n",
            "34/34 [==============================] - 0s 1ms/step - loss: 7313.3999 - mae: 7313.3999\n",
            "Epoch 57/100\n",
            "34/34 [==============================] - 0s 1ms/step - loss: 7526.3877 - mae: 7526.3877\n",
            "Epoch 58/100\n",
            "34/34 [==============================] - 0s 1ms/step - loss: 7542.2666 - mae: 7542.2666\n",
            "Epoch 59/100\n",
            "34/34 [==============================] - 0s 1ms/step - loss: 7576.9277 - mae: 7576.9277\n",
            "Epoch 60/100\n",
            "34/34 [==============================] - 0s 1ms/step - loss: 7546.4048 - mae: 7546.4048\n",
            "Epoch 61/100\n",
            "34/34 [==============================] - 0s 1ms/step - loss: 7351.2261 - mae: 7351.2261\n",
            "Epoch 62/100\n",
            "34/34 [==============================] - 0s 1ms/step - loss: 7302.1436 - mae: 7302.1436\n",
            "Epoch 63/100\n",
            "34/34 [==============================] - 0s 1ms/step - loss: 7393.0879 - mae: 7393.0879\n",
            "Epoch 64/100\n",
            "34/34 [==============================] - 0s 1ms/step - loss: 7442.2881 - mae: 7442.2881\n",
            "Epoch 65/100\n",
            "34/34 [==============================] - 0s 2ms/step - loss: 7492.6782 - mae: 7492.6782\n",
            "Epoch 66/100\n",
            "34/34 [==============================] - 0s 2ms/step - loss: 7561.9165 - mae: 7561.9165\n",
            "Epoch 67/100\n",
            "34/34 [==============================] - 0s 1ms/step - loss: 7340.5137 - mae: 7340.5137\n",
            "Epoch 68/100\n",
            "34/34 [==============================] - 0s 1ms/step - loss: 7496.0845 - mae: 7496.0845\n",
            "Epoch 69/100\n",
            "34/34 [==============================] - 0s 1ms/step - loss: 7617.0303 - mae: 7617.0303\n",
            "Epoch 70/100\n",
            "34/34 [==============================] - 0s 1ms/step - loss: 7641.1948 - mae: 7641.1948\n",
            "Epoch 71/100\n",
            "34/34 [==============================] - 0s 1ms/step - loss: 7084.2744 - mae: 7084.2744\n",
            "Epoch 72/100\n",
            "34/34 [==============================] - 0s 1ms/step - loss: 7240.4902 - mae: 7240.4902\n",
            "Epoch 73/100\n",
            "34/34 [==============================] - 0s 1ms/step - loss: 7283.4888 - mae: 7283.4888\n",
            "Epoch 74/100\n",
            "34/34 [==============================] - 0s 1ms/step - loss: 7335.5083 - mae: 7335.5083\n",
            "Epoch 75/100\n",
            "34/34 [==============================] - 0s 1ms/step - loss: 7275.6392 - mae: 7275.6392\n",
            "Epoch 76/100\n",
            "34/34 [==============================] - 0s 1ms/step - loss: 7313.1860 - mae: 7313.1860\n",
            "Epoch 77/100\n",
            "34/34 [==============================] - 0s 1ms/step - loss: 7485.7588 - mae: 7485.7588\n",
            "Epoch 78/100\n",
            "34/34 [==============================] - 0s 1ms/step - loss: 7352.2803 - mae: 7352.2803\n",
            "Epoch 79/100\n",
            "34/34 [==============================] - 0s 1ms/step - loss: 7520.5703 - mae: 7520.5703\n",
            "Epoch 80/100\n",
            "34/34 [==============================] - 0s 1ms/step - loss: 7279.3779 - mae: 7279.3779\n",
            "Epoch 81/100\n",
            "34/34 [==============================] - 0s 1ms/step - loss: 7273.8477 - mae: 7273.8477\n",
            "Epoch 82/100\n",
            "34/34 [==============================] - 0s 1ms/step - loss: 7176.5215 - mae: 7176.5215\n",
            "Epoch 83/100\n",
            "34/34 [==============================] - 0s 2ms/step - loss: 7425.6289 - mae: 7425.6289\n",
            "Epoch 84/100\n",
            "34/34 [==============================] - 0s 1ms/step - loss: 7403.1294 - mae: 7403.1294\n",
            "Epoch 85/100\n",
            "34/34 [==============================] - 0s 1ms/step - loss: 7356.0088 - mae: 7356.0088\n",
            "Epoch 86/100\n",
            "34/34 [==============================] - 0s 1ms/step - loss: 7484.7271 - mae: 7484.7271\n",
            "Epoch 87/100\n",
            "34/34 [==============================] - 0s 1ms/step - loss: 7217.6074 - mae: 7217.6074\n",
            "Epoch 88/100\n",
            "34/34 [==============================] - 0s 1ms/step - loss: 7261.0000 - mae: 7261.0000\n",
            "Epoch 89/100\n",
            "34/34 [==============================] - 0s 1ms/step - loss: 7134.1562 - mae: 7134.1562\n",
            "Epoch 90/100\n",
            "34/34 [==============================] - 0s 1ms/step - loss: 7083.4360 - mae: 7083.4360\n",
            "Epoch 91/100\n",
            "34/34 [==============================] - 0s 1ms/step - loss: 7254.1782 - mae: 7254.1782\n",
            "Epoch 92/100\n",
            "34/34 [==============================] - 0s 1ms/step - loss: 7268.7456 - mae: 7268.7456\n",
            "Epoch 93/100\n",
            "34/34 [==============================] - 0s 1ms/step - loss: 7470.5220 - mae: 7470.5220\n",
            "Epoch 94/100\n",
            "34/34 [==============================] - 0s 1ms/step - loss: 7210.9536 - mae: 7210.9536\n",
            "Epoch 95/100\n",
            "34/34 [==============================] - 0s 1ms/step - loss: 7395.6816 - mae: 7395.6816\n",
            "Epoch 96/100\n",
            "34/34 [==============================] - 0s 1ms/step - loss: 7328.0884 - mae: 7328.0884\n",
            "Epoch 97/100\n",
            "34/34 [==============================] - 0s 2ms/step - loss: 7230.4380 - mae: 7230.4380\n",
            "Epoch 98/100\n",
            "34/34 [==============================] - 0s 2ms/step - loss: 7261.3936 - mae: 7261.3936\n",
            "Epoch 99/100\n",
            "34/34 [==============================] - 0s 1ms/step - loss: 7342.5684 - mae: 7342.5684\n",
            "Epoch 100/100\n",
            "34/34 [==============================] - 0s 1ms/step - loss: 7106.1714 - mae: 7106.1714\n"
          ],
          "name": "stdout"
        },
        {
          "output_type": "execute_result",
          "data": {
            "text/plain": [
              "<tensorflow.python.keras.callbacks.History at 0x7fd76431f9d0>"
            ]
          },
          "metadata": {
            "tags": []
          },
          "execution_count": 67
        }
      ]
    },
    {
      "cell_type": "code",
      "metadata": {
        "colab": {
          "base_uri": "https://localhost:8080/"
        },
        "id": "lK2X24q4mhMR",
        "outputId": "9c0e5b06-84de-4dbc-e233-5c1db12fe510"
      },
      "source": [
        "# Check the results\n",
        "insurance_model.evaluate(X_test, y_test)"
      ],
      "execution_count": null,
      "outputs": [
        {
          "output_type": "stream",
          "text": [
            "9/9 [==============================] - 0s 2ms/step - loss: 7023.3291 - mae: 7023.3291\n"
          ],
          "name": "stdout"
        },
        {
          "output_type": "execute_result",
          "data": {
            "text/plain": [
              "[7023.3291015625, 7023.3291015625]"
            ]
          },
          "metadata": {
            "tags": []
          },
          "execution_count": 69
        }
      ]
    },
    {
      "cell_type": "code",
      "metadata": {
        "colab": {
          "base_uri": "https://localhost:8080/"
        },
        "id": "VkWsu332mvdq",
        "outputId": "f1320ca1-2efc-476f-bfb3-2392cefc7d20"
      },
      "source": [
        "y_train.median(), y_train.mean()"
      ],
      "execution_count": null,
      "outputs": [
        {
          "output_type": "execute_result",
          "data": {
            "text/plain": [
              "(9575.4421, 13346.089736364489)"
            ]
          },
          "metadata": {
            "tags": []
          },
          "execution_count": 70
        }
      ]
    },
    {
      "cell_type": "markdown",
      "metadata": {
        "id": "GueP1AK1nAWe"
      },
      "source": [
        "Improve the model"
      ]
    },
    {
      "cell_type": "code",
      "metadata": {
        "colab": {
          "base_uri": "https://localhost:8080/"
        },
        "id": "Xm_V5uTbm6aw",
        "outputId": "2190ccdf-b213-4d3d-d095-5988460a634c"
      },
      "source": [
        "# Build the model with more layers\n",
        "tf.random.set_seed(42)\n",
        "\n",
        "insurance_model_2 = tf.keras.Sequential([\n",
        "    tf.keras.layers.Dense(100),\n",
        "    tf.keras.layers.Dense(10),\n",
        "    tf.keras.layers.Dense(1)\n",
        "])\n",
        "\n",
        "insurance_model_2.compile(loss=tf.keras.losses.mae,\n",
        "                        optimizer=tf.keras.optimizers.Adam(),\n",
        "                        metrics=['mae'])\n",
        "\n",
        "insurance_model_2.fit(X_train, y_train, epochs=100)"
      ],
      "execution_count": null,
      "outputs": [
        {
          "output_type": "stream",
          "text": [
            "Epoch 1/100\n",
            "34/34 [==============================] - 1s 2ms/step - loss: 13273.1602 - mae: 13273.1602\n",
            "Epoch 2/100\n",
            "34/34 [==============================] - 0s 2ms/step - loss: 13104.4297 - mae: 13104.4297\n",
            "Epoch 3/100\n",
            "34/34 [==============================] - 0s 2ms/step - loss: 12749.5420 - mae: 12749.5420\n",
            "Epoch 4/100\n",
            "34/34 [==============================] - 0s 2ms/step - loss: 12055.7510 - mae: 12055.7510\n",
            "Epoch 5/100\n",
            "34/34 [==============================] - 0s 2ms/step - loss: 10905.8154 - mae: 10905.8154\n",
            "Epoch 6/100\n",
            "34/34 [==============================] - 0s 2ms/step - loss: 9457.7217 - mae: 9457.7217\n",
            "Epoch 7/100\n",
            "34/34 [==============================] - 0s 2ms/step - loss: 8147.6543 - mae: 8147.6543\n",
            "Epoch 8/100\n",
            "34/34 [==============================] - 0s 2ms/step - loss: 7528.8408 - mae: 7528.8408\n",
            "Epoch 9/100\n",
            "34/34 [==============================] - 0s 2ms/step - loss: 7429.1528 - mae: 7429.1528\n",
            "Epoch 10/100\n",
            "34/34 [==============================] - 0s 2ms/step - loss: 7409.0811 - mae: 7409.0811\n",
            "Epoch 11/100\n",
            "34/34 [==============================] - 0s 2ms/step - loss: 7390.8042 - mae: 7390.8042\n",
            "Epoch 12/100\n",
            "34/34 [==============================] - 0s 2ms/step - loss: 7368.9180 - mae: 7368.9180\n",
            "Epoch 13/100\n",
            "34/34 [==============================] - 0s 2ms/step - loss: 7348.5195 - mae: 7348.5195\n",
            "Epoch 14/100\n",
            "34/34 [==============================] - 0s 3ms/step - loss: 7326.4893 - mae: 7326.4893\n",
            "Epoch 15/100\n",
            "34/34 [==============================] - 0s 2ms/step - loss: 7307.5815 - mae: 7307.5815\n",
            "Epoch 16/100\n",
            "34/34 [==============================] - 0s 2ms/step - loss: 7285.7734 - mae: 7285.7734\n",
            "Epoch 17/100\n",
            "34/34 [==============================] - 0s 2ms/step - loss: 7265.7104 - mae: 7265.7104\n",
            "Epoch 18/100\n",
            "34/34 [==============================] - 0s 2ms/step - loss: 7242.5488 - mae: 7242.5488\n",
            "Epoch 19/100\n",
            "34/34 [==============================] - 0s 2ms/step - loss: 7220.5068 - mae: 7220.5068\n",
            "Epoch 20/100\n",
            "34/34 [==============================] - 0s 2ms/step - loss: 7197.1978 - mae: 7197.1978\n",
            "Epoch 21/100\n",
            "34/34 [==============================] - 0s 2ms/step - loss: 7179.0195 - mae: 7179.0195\n",
            "Epoch 22/100\n",
            "34/34 [==============================] - 0s 2ms/step - loss: 7151.2104 - mae: 7151.2104\n",
            "Epoch 23/100\n",
            "34/34 [==============================] - 0s 2ms/step - loss: 7126.4639 - mae: 7126.4639\n",
            "Epoch 24/100\n",
            "34/34 [==============================] - 0s 2ms/step - loss: 7101.9199 - mae: 7101.9199\n",
            "Epoch 25/100\n",
            "34/34 [==============================] - 0s 3ms/step - loss: 7084.3379 - mae: 7084.3379\n",
            "Epoch 26/100\n",
            "34/34 [==============================] - 0s 2ms/step - loss: 7052.3291 - mae: 7052.3291\n",
            "Epoch 27/100\n",
            "34/34 [==============================] - 0s 2ms/step - loss: 7024.3501 - mae: 7024.3501\n",
            "Epoch 28/100\n",
            "34/34 [==============================] - 0s 2ms/step - loss: 6996.6963 - mae: 6996.6963\n",
            "Epoch 29/100\n",
            "34/34 [==============================] - 0s 2ms/step - loss: 6969.0112 - mae: 6969.0112\n",
            "Epoch 30/100\n",
            "34/34 [==============================] - 0s 2ms/step - loss: 6942.1899 - mae: 6942.1899\n",
            "Epoch 31/100\n",
            "34/34 [==============================] - 0s 2ms/step - loss: 6911.7280 - mae: 6911.7280\n",
            "Epoch 32/100\n",
            "34/34 [==============================] - 0s 2ms/step - loss: 6884.0205 - mae: 6884.0205\n",
            "Epoch 33/100\n",
            "34/34 [==============================] - 0s 2ms/step - loss: 6853.4648 - mae: 6853.4648\n",
            "Epoch 34/100\n",
            "34/34 [==============================] - 0s 2ms/step - loss: 6823.0674 - mae: 6823.0674\n",
            "Epoch 35/100\n",
            "34/34 [==============================] - 0s 2ms/step - loss: 6789.6855 - mae: 6789.6855\n",
            "Epoch 36/100\n",
            "34/34 [==============================] - 0s 2ms/step - loss: 6755.7646 - mae: 6755.7646\n",
            "Epoch 37/100\n",
            "34/34 [==============================] - 0s 2ms/step - loss: 6720.2026 - mae: 6720.2026\n",
            "Epoch 38/100\n",
            "34/34 [==============================] - 0s 2ms/step - loss: 6689.7158 - mae: 6689.7158\n",
            "Epoch 39/100\n",
            "34/34 [==============================] - 0s 2ms/step - loss: 6652.4614 - mae: 6652.4614\n",
            "Epoch 40/100\n",
            "34/34 [==============================] - 0s 2ms/step - loss: 6618.1006 - mae: 6618.1006\n",
            "Epoch 41/100\n",
            "34/34 [==============================] - 0s 2ms/step - loss: 6585.8643 - mae: 6585.8643\n",
            "Epoch 42/100\n",
            "34/34 [==============================] - 0s 2ms/step - loss: 6559.4956 - mae: 6559.4956\n",
            "Epoch 43/100\n",
            "34/34 [==============================] - 0s 2ms/step - loss: 6530.0444 - mae: 6530.0444\n",
            "Epoch 44/100\n",
            "34/34 [==============================] - 0s 3ms/step - loss: 6506.8071 - mae: 6506.8071\n",
            "Epoch 45/100\n",
            "34/34 [==============================] - 0s 2ms/step - loss: 6493.5718 - mae: 6493.5718\n",
            "Epoch 46/100\n",
            "34/34 [==============================] - 0s 2ms/step - loss: 6475.9258 - mae: 6475.9258\n",
            "Epoch 47/100\n",
            "34/34 [==============================] - 0s 2ms/step - loss: 6458.8979 - mae: 6458.8979\n",
            "Epoch 48/100\n",
            "34/34 [==============================] - 0s 3ms/step - loss: 6445.1494 - mae: 6445.1494\n",
            "Epoch 49/100\n",
            "34/34 [==============================] - 0s 2ms/step - loss: 6430.9639 - mae: 6430.9639\n",
            "Epoch 50/100\n",
            "34/34 [==============================] - 0s 3ms/step - loss: 6417.7510 - mae: 6417.7510\n",
            "Epoch 51/100\n",
            "34/34 [==============================] - 0s 2ms/step - loss: 6403.2759 - mae: 6403.2759\n",
            "Epoch 52/100\n",
            "34/34 [==============================] - 0s 2ms/step - loss: 6392.4141 - mae: 6392.4141\n",
            "Epoch 53/100\n",
            "34/34 [==============================] - 0s 2ms/step - loss: 6378.7451 - mae: 6378.7451\n",
            "Epoch 54/100\n",
            "34/34 [==============================] - 0s 2ms/step - loss: 6364.9131 - mae: 6364.9131\n",
            "Epoch 55/100\n",
            "34/34 [==============================] - 0s 2ms/step - loss: 6351.5269 - mae: 6351.5269\n",
            "Epoch 56/100\n",
            "34/34 [==============================] - 0s 2ms/step - loss: 6337.6602 - mae: 6337.6602\n",
            "Epoch 57/100\n",
            "34/34 [==============================] - 0s 2ms/step - loss: 6324.8369 - mae: 6324.8369\n",
            "Epoch 58/100\n",
            "34/34 [==============================] - 0s 2ms/step - loss: 6310.1948 - mae: 6310.1948\n",
            "Epoch 59/100\n",
            "34/34 [==============================] - 0s 2ms/step - loss: 6295.6035 - mae: 6295.6035\n",
            "Epoch 60/100\n",
            "34/34 [==============================] - 0s 2ms/step - loss: 6284.8696 - mae: 6284.8696\n",
            "Epoch 61/100\n",
            "34/34 [==============================] - 0s 2ms/step - loss: 6265.6411 - mae: 6265.6411\n",
            "Epoch 62/100\n",
            "34/34 [==============================] - 0s 2ms/step - loss: 6253.0103 - mae: 6253.0103\n",
            "Epoch 63/100\n",
            "34/34 [==============================] - 0s 2ms/step - loss: 6234.9292 - mae: 6234.9292\n",
            "Epoch 64/100\n",
            "34/34 [==============================] - 0s 2ms/step - loss: 6218.0430 - mae: 6218.0430\n",
            "Epoch 65/100\n",
            "34/34 [==============================] - 0s 2ms/step - loss: 6201.1899 - mae: 6201.1899\n",
            "Epoch 66/100\n",
            "34/34 [==============================] - 0s 2ms/step - loss: 6183.9590 - mae: 6183.9590\n",
            "Epoch 67/100\n",
            "34/34 [==============================] - 0s 2ms/step - loss: 6171.2993 - mae: 6171.2993\n",
            "Epoch 68/100\n",
            "34/34 [==============================] - 0s 2ms/step - loss: 6148.8398 - mae: 6148.8398\n",
            "Epoch 69/100\n",
            "34/34 [==============================] - 0s 2ms/step - loss: 6132.5981 - mae: 6132.5981\n",
            "Epoch 70/100\n",
            "34/34 [==============================] - 0s 2ms/step - loss: 6112.3848 - mae: 6112.3848\n",
            "Epoch 71/100\n",
            "34/34 [==============================] - 0s 2ms/step - loss: 6092.7202 - mae: 6092.7202\n",
            "Epoch 72/100\n",
            "34/34 [==============================] - 0s 2ms/step - loss: 6073.7422 - mae: 6073.7422\n",
            "Epoch 73/100\n",
            "34/34 [==============================] - 0s 2ms/step - loss: 6059.4873 - mae: 6059.4873\n",
            "Epoch 74/100\n",
            "34/34 [==============================] - 0s 2ms/step - loss: 6031.3848 - mae: 6031.3848\n",
            "Epoch 75/100\n",
            "34/34 [==============================] - 0s 2ms/step - loss: 6010.3350 - mae: 6010.3350\n",
            "Epoch 76/100\n",
            "34/34 [==============================] - 0s 2ms/step - loss: 5995.2178 - mae: 5995.2178\n",
            "Epoch 77/100\n",
            "34/34 [==============================] - 0s 2ms/step - loss: 5963.0718 - mae: 5963.0718\n",
            "Epoch 78/100\n",
            "34/34 [==============================] - 0s 2ms/step - loss: 5940.0605 - mae: 5940.0605\n",
            "Epoch 79/100\n",
            "34/34 [==============================] - 0s 2ms/step - loss: 5915.1064 - mae: 5915.1064\n",
            "Epoch 80/100\n",
            "34/34 [==============================] - 0s 2ms/step - loss: 5887.9990 - mae: 5887.9990\n",
            "Epoch 81/100\n",
            "34/34 [==============================] - 0s 3ms/step - loss: 5861.6992 - mae: 5861.6992\n",
            "Epoch 82/100\n",
            "34/34 [==============================] - 0s 2ms/step - loss: 5834.3066 - mae: 5834.3066\n",
            "Epoch 83/100\n",
            "34/34 [==============================] - 0s 2ms/step - loss: 5805.8237 - mae: 5805.8237\n",
            "Epoch 84/100\n",
            "34/34 [==============================] - 0s 2ms/step - loss: 5772.3232 - mae: 5772.3232\n",
            "Epoch 85/100\n",
            "34/34 [==============================] - 0s 2ms/step - loss: 5745.1514 - mae: 5745.1514\n",
            "Epoch 86/100\n",
            "34/34 [==============================] - 0s 2ms/step - loss: 5711.3477 - mae: 5711.3477\n",
            "Epoch 87/100\n",
            "34/34 [==============================] - 0s 2ms/step - loss: 5674.5215 - mae: 5674.5215\n",
            "Epoch 88/100\n",
            "34/34 [==============================] - 0s 2ms/step - loss: 5639.4927 - mae: 5639.4927\n",
            "Epoch 89/100\n",
            "34/34 [==============================] - 0s 2ms/step - loss: 5600.6655 - mae: 5600.6655\n",
            "Epoch 90/100\n",
            "34/34 [==============================] - 0s 2ms/step - loss: 5559.4326 - mae: 5559.4326\n",
            "Epoch 91/100\n",
            "34/34 [==============================] - 0s 2ms/step - loss: 5523.6187 - mae: 5523.6187\n",
            "Epoch 92/100\n",
            "34/34 [==============================] - 0s 2ms/step - loss: 5474.1250 - mae: 5474.1250\n",
            "Epoch 93/100\n",
            "34/34 [==============================] - 0s 2ms/step - loss: 5432.2661 - mae: 5432.2661\n",
            "Epoch 94/100\n",
            "34/34 [==============================] - 0s 2ms/step - loss: 5386.0527 - mae: 5386.0527\n",
            "Epoch 95/100\n",
            "34/34 [==============================] - 0s 2ms/step - loss: 5333.1812 - mae: 5333.1812\n",
            "Epoch 96/100\n",
            "34/34 [==============================] - 0s 2ms/step - loss: 5288.8159 - mae: 5288.8159\n",
            "Epoch 97/100\n",
            "34/34 [==============================] - 0s 2ms/step - loss: 5234.6792 - mae: 5234.6792\n",
            "Epoch 98/100\n",
            "34/34 [==============================] - 0s 2ms/step - loss: 5170.9360 - mae: 5170.9360\n",
            "Epoch 99/100\n",
            "34/34 [==============================] - 0s 2ms/step - loss: 5112.9443 - mae: 5112.9443\n",
            "Epoch 100/100\n",
            "34/34 [==============================] - 0s 2ms/step - loss: 5059.8643 - mae: 5059.8643\n"
          ],
          "name": "stdout"
        },
        {
          "output_type": "execute_result",
          "data": {
            "text/plain": [
              "<tensorflow.python.keras.callbacks.History at 0x7fd763d98290>"
            ]
          },
          "metadata": {
            "tags": []
          },
          "execution_count": 77
        }
      ]
    },
    {
      "cell_type": "code",
      "metadata": {
        "colab": {
          "base_uri": "https://localhost:8080/"
        },
        "id": "EQNYgCCXnxCj",
        "outputId": "5fa40528-b996-4a66-9abf-61cc621b51b3"
      },
      "source": [
        "insurance_model_2.evaluate(X_test, y_test)"
      ],
      "execution_count": null,
      "outputs": [
        {
          "output_type": "stream",
          "text": [
            "9/9 [==============================] - 0s 2ms/step - loss: 4924.3477 - mae: 4924.3477\n"
          ],
          "name": "stdout"
        },
        {
          "output_type": "execute_result",
          "data": {
            "text/plain": [
              "[4924.34765625, 4924.34765625]"
            ]
          },
          "metadata": {
            "tags": []
          },
          "execution_count": 78
        }
      ]
    },
    {
      "cell_type": "code",
      "metadata": {
        "colab": {
          "base_uri": "https://localhost:8080/"
        },
        "id": "SpazexuBo1m6",
        "outputId": "5f4be515-e3fc-410d-8c43-017fbdbee518"
      },
      "source": [
        "# Build 3rd model\n",
        "tf.random.set_seed(42)\n",
        "\n",
        "insurance_model_3 = tf.keras.Sequential([\n",
        "    tf.keras.layers.Dense(100),\n",
        "    tf.keras.layers.Dense(10),\n",
        "    tf.keras.layers.Dense(1)\n",
        "])\n",
        "\n",
        "insurance_model_3.compile(loss=tf.keras.losses.mae,\n",
        "                          optimizer=tf.keras.optimizers.Adam(),\n",
        "                          metrics=['mae'])\n",
        "\n",
        "history = insurance_model_3.fit(X_train, y_train, epochs=200)"
      ],
      "execution_count": null,
      "outputs": [
        {
          "output_type": "stream",
          "text": [
            "Epoch 1/200\n",
            "34/34 [==============================] - 1s 2ms/step - loss: 13273.1602 - mae: 13273.1602\n",
            "Epoch 2/200\n",
            "34/34 [==============================] - 0s 2ms/step - loss: 13104.4297 - mae: 13104.4297\n",
            "Epoch 3/200\n",
            "34/34 [==============================] - 0s 1ms/step - loss: 12749.5420 - mae: 12749.5420\n",
            "Epoch 4/200\n",
            "34/34 [==============================] - 0s 2ms/step - loss: 12055.7510 - mae: 12055.7510\n",
            "Epoch 5/200\n",
            "34/34 [==============================] - 0s 2ms/step - loss: 10905.8154 - mae: 10905.8154\n",
            "Epoch 6/200\n",
            "34/34 [==============================] - 0s 2ms/step - loss: 9457.7217 - mae: 9457.7217\n",
            "Epoch 7/200\n",
            "34/34 [==============================] - 0s 2ms/step - loss: 8147.6543 - mae: 8147.6543\n",
            "Epoch 8/200\n",
            "34/34 [==============================] - 0s 1ms/step - loss: 7528.8408 - mae: 7528.8408\n",
            "Epoch 9/200\n",
            "34/34 [==============================] - 0s 2ms/step - loss: 7429.1528 - mae: 7429.1528\n",
            "Epoch 10/200\n",
            "34/34 [==============================] - 0s 2ms/step - loss: 7409.0811 - mae: 7409.0811\n",
            "Epoch 11/200\n",
            "34/34 [==============================] - 0s 2ms/step - loss: 7390.8042 - mae: 7390.8042\n",
            "Epoch 12/200\n",
            "34/34 [==============================] - 0s 2ms/step - loss: 7368.9180 - mae: 7368.9180\n",
            "Epoch 13/200\n",
            "34/34 [==============================] - 0s 2ms/step - loss: 7348.5195 - mae: 7348.5195\n",
            "Epoch 14/200\n",
            "34/34 [==============================] - 0s 2ms/step - loss: 7326.4893 - mae: 7326.4893\n",
            "Epoch 15/200\n",
            "34/34 [==============================] - 0s 2ms/step - loss: 7307.5815 - mae: 7307.5815\n",
            "Epoch 16/200\n",
            "34/34 [==============================] - 0s 2ms/step - loss: 7285.7734 - mae: 7285.7734\n",
            "Epoch 17/200\n",
            "34/34 [==============================] - 0s 2ms/step - loss: 7265.7104 - mae: 7265.7104\n",
            "Epoch 18/200\n",
            "34/34 [==============================] - 0s 2ms/step - loss: 7242.5488 - mae: 7242.5488\n",
            "Epoch 19/200\n",
            "34/34 [==============================] - 0s 2ms/step - loss: 7220.5068 - mae: 7220.5068\n",
            "Epoch 20/200\n",
            "34/34 [==============================] - 0s 2ms/step - loss: 7197.1978 - mae: 7197.1978\n",
            "Epoch 21/200\n",
            "34/34 [==============================] - 0s 2ms/step - loss: 7179.0195 - mae: 7179.0195\n",
            "Epoch 22/200\n",
            "34/34 [==============================] - 0s 2ms/step - loss: 7151.2104 - mae: 7151.2104\n",
            "Epoch 23/200\n",
            "34/34 [==============================] - 0s 2ms/step - loss: 7126.4639 - mae: 7126.4639\n",
            "Epoch 24/200\n",
            "34/34 [==============================] - 0s 2ms/step - loss: 7101.9199 - mae: 7101.9199\n",
            "Epoch 25/200\n",
            "34/34 [==============================] - 0s 2ms/step - loss: 7084.3379 - mae: 7084.3379\n",
            "Epoch 26/200\n",
            "34/34 [==============================] - 0s 2ms/step - loss: 7052.3291 - mae: 7052.3291\n",
            "Epoch 27/200\n",
            "34/34 [==============================] - 0s 2ms/step - loss: 7024.3501 - mae: 7024.3501\n",
            "Epoch 28/200\n",
            "34/34 [==============================] - 0s 2ms/step - loss: 6996.6963 - mae: 6996.6963\n",
            "Epoch 29/200\n",
            "34/34 [==============================] - 0s 2ms/step - loss: 6969.0112 - mae: 6969.0112\n",
            "Epoch 30/200\n",
            "34/34 [==============================] - 0s 2ms/step - loss: 6942.1899 - mae: 6942.1899\n",
            "Epoch 31/200\n",
            "34/34 [==============================] - 0s 2ms/step - loss: 6911.7280 - mae: 6911.7280\n",
            "Epoch 32/200\n",
            "34/34 [==============================] - 0s 1ms/step - loss: 6884.0205 - mae: 6884.0205\n",
            "Epoch 33/200\n",
            "34/34 [==============================] - 0s 2ms/step - loss: 6853.4648 - mae: 6853.4648\n",
            "Epoch 34/200\n",
            "34/34 [==============================] - 0s 1ms/step - loss: 6823.0674 - mae: 6823.0674\n",
            "Epoch 35/200\n",
            "34/34 [==============================] - 0s 2ms/step - loss: 6789.6855 - mae: 6789.6855\n",
            "Epoch 36/200\n",
            "34/34 [==============================] - 0s 2ms/step - loss: 6755.7646 - mae: 6755.7646\n",
            "Epoch 37/200\n",
            "34/34 [==============================] - 0s 2ms/step - loss: 6720.2026 - mae: 6720.2026\n",
            "Epoch 38/200\n",
            "34/34 [==============================] - 0s 2ms/step - loss: 6689.7158 - mae: 6689.7158\n",
            "Epoch 39/200\n",
            "34/34 [==============================] - 0s 2ms/step - loss: 6652.4614 - mae: 6652.4614\n",
            "Epoch 40/200\n",
            "34/34 [==============================] - 0s 2ms/step - loss: 6618.1006 - mae: 6618.1006\n",
            "Epoch 41/200\n",
            "34/34 [==============================] - 0s 2ms/step - loss: 6585.8643 - mae: 6585.8643\n",
            "Epoch 42/200\n",
            "34/34 [==============================] - 0s 2ms/step - loss: 6559.4956 - mae: 6559.4956\n",
            "Epoch 43/200\n",
            "34/34 [==============================] - 0s 2ms/step - loss: 6530.0444 - mae: 6530.0444\n",
            "Epoch 44/200\n",
            "34/34 [==============================] - 0s 2ms/step - loss: 6506.8071 - mae: 6506.8071\n",
            "Epoch 45/200\n",
            "34/34 [==============================] - 0s 2ms/step - loss: 6493.5718 - mae: 6493.5718\n",
            "Epoch 46/200\n",
            "34/34 [==============================] - 0s 2ms/step - loss: 6475.9258 - mae: 6475.9258\n",
            "Epoch 47/200\n",
            "34/34 [==============================] - 0s 2ms/step - loss: 6458.8979 - mae: 6458.8979\n",
            "Epoch 48/200\n",
            "34/34 [==============================] - 0s 2ms/step - loss: 6445.1494 - mae: 6445.1494\n",
            "Epoch 49/200\n",
            "34/34 [==============================] - 0s 2ms/step - loss: 6430.9639 - mae: 6430.9639\n",
            "Epoch 50/200\n",
            "34/34 [==============================] - 0s 2ms/step - loss: 6417.7510 - mae: 6417.7510\n",
            "Epoch 51/200\n",
            "34/34 [==============================] - 0s 2ms/step - loss: 6403.2759 - mae: 6403.2759\n",
            "Epoch 52/200\n",
            "34/34 [==============================] - 0s 2ms/step - loss: 6392.4141 - mae: 6392.4141\n",
            "Epoch 53/200\n",
            "34/34 [==============================] - 0s 2ms/step - loss: 6378.7451 - mae: 6378.7451\n",
            "Epoch 54/200\n",
            "34/34 [==============================] - 0s 2ms/step - loss: 6364.9131 - mae: 6364.9131\n",
            "Epoch 55/200\n",
            "34/34 [==============================] - 0s 2ms/step - loss: 6351.5269 - mae: 6351.5269\n",
            "Epoch 56/200\n",
            "34/34 [==============================] - 0s 2ms/step - loss: 6337.6602 - mae: 6337.6602\n",
            "Epoch 57/200\n",
            "34/34 [==============================] - 0s 2ms/step - loss: 6324.8369 - mae: 6324.8369\n",
            "Epoch 58/200\n",
            "34/34 [==============================] - 0s 2ms/step - loss: 6310.1948 - mae: 6310.1948\n",
            "Epoch 59/200\n",
            "34/34 [==============================] - 0s 2ms/step - loss: 6295.6035 - mae: 6295.6035\n",
            "Epoch 60/200\n",
            "34/34 [==============================] - 0s 2ms/step - loss: 6284.8696 - mae: 6284.8696\n",
            "Epoch 61/200\n",
            "34/34 [==============================] - 0s 2ms/step - loss: 6265.6411 - mae: 6265.6411\n",
            "Epoch 62/200\n",
            "34/34 [==============================] - 0s 2ms/step - loss: 6253.0103 - mae: 6253.0103\n",
            "Epoch 63/200\n",
            "34/34 [==============================] - 0s 2ms/step - loss: 6234.9292 - mae: 6234.9292\n",
            "Epoch 64/200\n",
            "34/34 [==============================] - 0s 2ms/step - loss: 6218.0430 - mae: 6218.0430\n",
            "Epoch 65/200\n",
            "34/34 [==============================] - 0s 2ms/step - loss: 6201.1899 - mae: 6201.1899\n",
            "Epoch 66/200\n",
            "34/34 [==============================] - 0s 2ms/step - loss: 6183.9590 - mae: 6183.9590\n",
            "Epoch 67/200\n",
            "34/34 [==============================] - 0s 2ms/step - loss: 6171.2993 - mae: 6171.2993\n",
            "Epoch 68/200\n",
            "34/34 [==============================] - 0s 2ms/step - loss: 6148.8398 - mae: 6148.8398\n",
            "Epoch 69/200\n",
            "34/34 [==============================] - 0s 2ms/step - loss: 6132.5981 - mae: 6132.5981\n",
            "Epoch 70/200\n",
            "34/34 [==============================] - 0s 2ms/step - loss: 6112.3848 - mae: 6112.3848\n",
            "Epoch 71/200\n",
            "34/34 [==============================] - 0s 2ms/step - loss: 6092.7202 - mae: 6092.7202\n",
            "Epoch 72/200\n",
            "34/34 [==============================] - 0s 2ms/step - loss: 6073.7422 - mae: 6073.7422\n",
            "Epoch 73/200\n",
            "34/34 [==============================] - 0s 2ms/step - loss: 6059.4873 - mae: 6059.4873\n",
            "Epoch 74/200\n",
            "34/34 [==============================] - 0s 2ms/step - loss: 6031.3848 - mae: 6031.3848\n",
            "Epoch 75/200\n",
            "34/34 [==============================] - 0s 2ms/step - loss: 6010.3350 - mae: 6010.3350\n",
            "Epoch 76/200\n",
            "34/34 [==============================] - 0s 2ms/step - loss: 5995.2178 - mae: 5995.2178\n",
            "Epoch 77/200\n",
            "34/34 [==============================] - 0s 2ms/step - loss: 5963.0718 - mae: 5963.0718\n",
            "Epoch 78/200\n",
            "34/34 [==============================] - 0s 2ms/step - loss: 5940.0605 - mae: 5940.0605\n",
            "Epoch 79/200\n",
            "34/34 [==============================] - 0s 2ms/step - loss: 5915.1064 - mae: 5915.1064\n",
            "Epoch 80/200\n",
            "34/34 [==============================] - 0s 2ms/step - loss: 5887.9990 - mae: 5887.9990\n",
            "Epoch 81/200\n",
            "34/34 [==============================] - 0s 2ms/step - loss: 5861.6992 - mae: 5861.6992\n",
            "Epoch 82/200\n",
            "34/34 [==============================] - 0s 2ms/step - loss: 5834.3066 - mae: 5834.3066\n",
            "Epoch 83/200\n",
            "34/34 [==============================] - 0s 2ms/step - loss: 5805.8237 - mae: 5805.8237\n",
            "Epoch 84/200\n",
            "34/34 [==============================] - 0s 2ms/step - loss: 5772.3232 - mae: 5772.3232\n",
            "Epoch 85/200\n",
            "34/34 [==============================] - 0s 2ms/step - loss: 5745.1514 - mae: 5745.1514\n",
            "Epoch 86/200\n",
            "34/34 [==============================] - 0s 2ms/step - loss: 5711.3477 - mae: 5711.3477\n",
            "Epoch 87/200\n",
            "34/34 [==============================] - 0s 2ms/step - loss: 5674.5215 - mae: 5674.5215\n",
            "Epoch 88/200\n",
            "34/34 [==============================] - 0s 2ms/step - loss: 5639.4927 - mae: 5639.4927\n",
            "Epoch 89/200\n",
            "34/34 [==============================] - 0s 2ms/step - loss: 5600.6655 - mae: 5600.6655\n",
            "Epoch 90/200\n",
            "34/34 [==============================] - 0s 2ms/step - loss: 5559.4326 - mae: 5559.4326\n",
            "Epoch 91/200\n",
            "34/34 [==============================] - 0s 2ms/step - loss: 5523.6187 - mae: 5523.6187\n",
            "Epoch 92/200\n",
            "34/34 [==============================] - 0s 2ms/step - loss: 5474.1250 - mae: 5474.1250\n",
            "Epoch 93/200\n",
            "34/34 [==============================] - 0s 2ms/step - loss: 5432.2661 - mae: 5432.2661\n",
            "Epoch 94/200\n",
            "34/34 [==============================] - 0s 2ms/step - loss: 5386.0527 - mae: 5386.0527\n",
            "Epoch 95/200\n",
            "34/34 [==============================] - 0s 2ms/step - loss: 5333.1812 - mae: 5333.1812\n",
            "Epoch 96/200\n",
            "34/34 [==============================] - 0s 2ms/step - loss: 5288.8159 - mae: 5288.8159\n",
            "Epoch 97/200\n",
            "34/34 [==============================] - 0s 2ms/step - loss: 5234.6792 - mae: 5234.6792\n",
            "Epoch 98/200\n",
            "34/34 [==============================] - 0s 2ms/step - loss: 5170.9360 - mae: 5170.9360\n",
            "Epoch 99/200\n",
            "34/34 [==============================] - 0s 2ms/step - loss: 5112.9443 - mae: 5112.9443\n",
            "Epoch 100/200\n",
            "34/34 [==============================] - 0s 2ms/step - loss: 5059.8643 - mae: 5059.8643\n",
            "Epoch 101/200\n",
            "34/34 [==============================] - 0s 2ms/step - loss: 4987.6191 - mae: 4987.6191\n",
            "Epoch 102/200\n",
            "34/34 [==============================] - 0s 2ms/step - loss: 4915.2910 - mae: 4915.2910\n",
            "Epoch 103/200\n",
            "34/34 [==============================] - 0s 2ms/step - loss: 4847.3599 - mae: 4847.3599\n",
            "Epoch 104/200\n",
            "34/34 [==============================] - 0s 2ms/step - loss: 4768.0151 - mae: 4768.0151\n",
            "Epoch 105/200\n",
            "34/34 [==============================] - 0s 2ms/step - loss: 4683.4727 - mae: 4683.4727\n",
            "Epoch 106/200\n",
            "34/34 [==============================] - 0s 2ms/step - loss: 4600.5054 - mae: 4600.5054\n",
            "Epoch 107/200\n",
            "34/34 [==============================] - 0s 2ms/step - loss: 4513.1436 - mae: 4513.1436\n",
            "Epoch 108/200\n",
            "34/34 [==============================] - 0s 2ms/step - loss: 4422.2983 - mae: 4422.2983\n",
            "Epoch 109/200\n",
            "34/34 [==============================] - 0s 2ms/step - loss: 4339.9600 - mae: 4339.9600\n",
            "Epoch 110/200\n",
            "34/34 [==============================] - 0s 2ms/step - loss: 4254.3916 - mae: 4254.3916\n",
            "Epoch 111/200\n",
            "34/34 [==============================] - 0s 2ms/step - loss: 4173.1797 - mae: 4173.1797\n",
            "Epoch 112/200\n",
            "34/34 [==============================] - 0s 2ms/step - loss: 4102.2939 - mae: 4102.2939\n",
            "Epoch 113/200\n",
            "34/34 [==============================] - 0s 2ms/step - loss: 4031.9592 - mae: 4031.9592\n",
            "Epoch 114/200\n",
            "34/34 [==============================] - 0s 2ms/step - loss: 3986.0220 - mae: 3986.0220\n",
            "Epoch 115/200\n",
            "34/34 [==============================] - 0s 2ms/step - loss: 3943.2346 - mae: 3943.2346\n",
            "Epoch 116/200\n",
            "34/34 [==============================] - 0s 2ms/step - loss: 3918.8977 - mae: 3918.8977\n",
            "Epoch 117/200\n",
            "34/34 [==============================] - 0s 2ms/step - loss: 3895.5610 - mae: 3895.5610\n",
            "Epoch 118/200\n",
            "34/34 [==============================] - 0s 2ms/step - loss: 3869.5679 - mae: 3869.5679\n",
            "Epoch 119/200\n",
            "34/34 [==============================] - 0s 2ms/step - loss: 3850.2136 - mae: 3850.2136\n",
            "Epoch 120/200\n",
            "34/34 [==============================] - 0s 2ms/step - loss: 3834.7349 - mae: 3834.7349\n",
            "Epoch 121/200\n",
            "34/34 [==============================] - 0s 2ms/step - loss: 3827.0952 - mae: 3827.0952\n",
            "Epoch 122/200\n",
            "34/34 [==============================] - 0s 2ms/step - loss: 3821.6382 - mae: 3821.6382\n",
            "Epoch 123/200\n",
            "34/34 [==============================] - 0s 2ms/step - loss: 3813.8315 - mae: 3813.8315\n",
            "Epoch 124/200\n",
            "34/34 [==============================] - 0s 2ms/step - loss: 3805.7307 - mae: 3805.7307\n",
            "Epoch 125/200\n",
            "34/34 [==============================] - 0s 2ms/step - loss: 3794.7090 - mae: 3794.7090\n",
            "Epoch 126/200\n",
            "34/34 [==============================] - 0s 2ms/step - loss: 3804.4946 - mae: 3804.4946\n",
            "Epoch 127/200\n",
            "34/34 [==============================] - 0s 2ms/step - loss: 3796.0596 - mae: 3796.0596\n",
            "Epoch 128/200\n",
            "34/34 [==============================] - 0s 2ms/step - loss: 3791.0422 - mae: 3791.0422\n",
            "Epoch 129/200\n",
            "34/34 [==============================] - 0s 2ms/step - loss: 3800.0696 - mae: 3800.0696\n",
            "Epoch 130/200\n",
            "34/34 [==============================] - 0s 2ms/step - loss: 3788.5005 - mae: 3788.5005\n",
            "Epoch 131/200\n",
            "34/34 [==============================] - 0s 2ms/step - loss: 3780.8442 - mae: 3780.8442\n",
            "Epoch 132/200\n",
            "34/34 [==============================] - 0s 2ms/step - loss: 3774.5413 - mae: 3774.5413\n",
            "Epoch 133/200\n",
            "34/34 [==============================] - 0s 2ms/step - loss: 3771.0156 - mae: 3771.0156\n",
            "Epoch 134/200\n",
            "34/34 [==============================] - 0s 2ms/step - loss: 3769.3762 - mae: 3769.3762\n",
            "Epoch 135/200\n",
            "34/34 [==============================] - 0s 2ms/step - loss: 3766.7610 - mae: 3766.7610\n",
            "Epoch 136/200\n",
            "34/34 [==============================] - 0s 2ms/step - loss: 3765.5508 - mae: 3765.5508\n",
            "Epoch 137/200\n",
            "34/34 [==============================] - 0s 2ms/step - loss: 3774.5032 - mae: 3774.5032\n",
            "Epoch 138/200\n",
            "34/34 [==============================] - 0s 2ms/step - loss: 3785.3909 - mae: 3785.3909\n",
            "Epoch 139/200\n",
            "34/34 [==============================] - 0s 2ms/step - loss: 3761.1299 - mae: 3761.1299\n",
            "Epoch 140/200\n",
            "34/34 [==============================] - 0s 2ms/step - loss: 3764.1753 - mae: 3764.1753\n",
            "Epoch 141/200\n",
            "34/34 [==============================] - 0s 2ms/step - loss: 3763.9250 - mae: 3763.9250\n",
            "Epoch 142/200\n",
            "34/34 [==============================] - 0s 2ms/step - loss: 3762.7959 - mae: 3762.7959\n",
            "Epoch 143/200\n",
            "34/34 [==============================] - 0s 2ms/step - loss: 3754.4397 - mae: 3754.4397\n",
            "Epoch 144/200\n",
            "34/34 [==============================] - 0s 2ms/step - loss: 3750.3347 - mae: 3750.3347\n",
            "Epoch 145/200\n",
            "34/34 [==============================] - 0s 2ms/step - loss: 3750.4006 - mae: 3750.4006\n",
            "Epoch 146/200\n",
            "34/34 [==============================] - 0s 2ms/step - loss: 3755.4736 - mae: 3755.4736\n",
            "Epoch 147/200\n",
            "34/34 [==============================] - 0s 2ms/step - loss: 3750.3223 - mae: 3750.3223\n",
            "Epoch 148/200\n",
            "34/34 [==============================] - 0s 2ms/step - loss: 3758.1089 - mae: 3758.1089\n",
            "Epoch 149/200\n",
            "34/34 [==============================] - 0s 2ms/step - loss: 3743.4858 - mae: 3743.4858\n",
            "Epoch 150/200\n",
            "34/34 [==============================] - 0s 2ms/step - loss: 3738.5342 - mae: 3738.5342\n",
            "Epoch 151/200\n",
            "34/34 [==============================] - 0s 2ms/step - loss: 3740.1384 - mae: 3740.1384\n",
            "Epoch 152/200\n",
            "34/34 [==============================] - 0s 2ms/step - loss: 3742.4954 - mae: 3742.4954\n",
            "Epoch 153/200\n",
            "34/34 [==============================] - 0s 2ms/step - loss: 3744.4399 - mae: 3744.4399\n",
            "Epoch 154/200\n",
            "34/34 [==============================] - 0s 2ms/step - loss: 3737.1824 - mae: 3737.1824\n",
            "Epoch 155/200\n",
            "34/34 [==============================] - 0s 2ms/step - loss: 3737.6541 - mae: 3737.6541\n",
            "Epoch 156/200\n",
            "34/34 [==============================] - 0s 2ms/step - loss: 3737.1663 - mae: 3737.1663\n",
            "Epoch 157/200\n",
            "34/34 [==============================] - 0s 2ms/step - loss: 3733.1101 - mae: 3733.1101\n",
            "Epoch 158/200\n",
            "34/34 [==============================] - 0s 2ms/step - loss: 3729.5813 - mae: 3729.5813\n",
            "Epoch 159/200\n",
            "34/34 [==============================] - 0s 2ms/step - loss: 3725.9053 - mae: 3725.9053\n",
            "Epoch 160/200\n",
            "34/34 [==============================] - 0s 2ms/step - loss: 3733.2817 - mae: 3733.2817\n",
            "Epoch 161/200\n",
            "34/34 [==============================] - 0s 2ms/step - loss: 3728.2559 - mae: 3728.2559\n",
            "Epoch 162/200\n",
            "34/34 [==============================] - 0s 2ms/step - loss: 3724.5825 - mae: 3724.5825\n",
            "Epoch 163/200\n",
            "34/34 [==============================] - 0s 2ms/step - loss: 3723.0806 - mae: 3723.0806\n",
            "Epoch 164/200\n",
            "34/34 [==============================] - 0s 2ms/step - loss: 3726.9475 - mae: 3726.9475\n",
            "Epoch 165/200\n",
            "34/34 [==============================] - 0s 2ms/step - loss: 3716.5430 - mae: 3716.5430\n",
            "Epoch 166/200\n",
            "34/34 [==============================] - 0s 2ms/step - loss: 3721.9155 - mae: 3721.9155\n",
            "Epoch 167/200\n",
            "34/34 [==============================] - 0s 2ms/step - loss: 3721.1814 - mae: 3721.1814\n",
            "Epoch 168/200\n",
            "34/34 [==============================] - 0s 2ms/step - loss: 3715.2456 - mae: 3715.2456\n",
            "Epoch 169/200\n",
            "34/34 [==============================] - 0s 2ms/step - loss: 3713.9756 - mae: 3713.9756\n",
            "Epoch 170/200\n",
            "34/34 [==============================] - 0s 2ms/step - loss: 3707.9922 - mae: 3707.9922\n",
            "Epoch 171/200\n",
            "34/34 [==============================] - 0s 2ms/step - loss: 3707.4158 - mae: 3707.4158\n",
            "Epoch 172/200\n",
            "34/34 [==============================] - 0s 2ms/step - loss: 3710.6833 - mae: 3710.6833\n",
            "Epoch 173/200\n",
            "34/34 [==============================] - 0s 2ms/step - loss: 3703.3618 - mae: 3703.3618\n",
            "Epoch 174/200\n",
            "34/34 [==============================] - 0s 2ms/step - loss: 3710.9385 - mae: 3710.9385\n",
            "Epoch 175/200\n",
            "34/34 [==============================] - 0s 2ms/step - loss: 3713.0417 - mae: 3713.0417\n",
            "Epoch 176/200\n",
            "34/34 [==============================] - 0s 2ms/step - loss: 3705.0571 - mae: 3705.0571\n",
            "Epoch 177/200\n",
            "34/34 [==============================] - 0s 2ms/step - loss: 3698.9333 - mae: 3698.9333\n",
            "Epoch 178/200\n",
            "34/34 [==============================] - 0s 2ms/step - loss: 3697.9983 - mae: 3697.9983\n",
            "Epoch 179/200\n",
            "34/34 [==============================] - 0s 2ms/step - loss: 3704.9150 - mae: 3704.9150\n",
            "Epoch 180/200\n",
            "34/34 [==============================] - 0s 2ms/step - loss: 3710.3679 - mae: 3710.3679\n",
            "Epoch 181/200\n",
            "34/34 [==============================] - 0s 2ms/step - loss: 3696.6482 - mae: 3696.6482\n",
            "Epoch 182/200\n",
            "34/34 [==============================] - 0s 2ms/step - loss: 3692.7329 - mae: 3692.7329\n",
            "Epoch 183/200\n",
            "34/34 [==============================] - 0s 2ms/step - loss: 3691.1655 - mae: 3691.1655\n",
            "Epoch 184/200\n",
            "34/34 [==============================] - 0s 2ms/step - loss: 3699.2437 - mae: 3699.2437\n",
            "Epoch 185/200\n",
            "34/34 [==============================] - 0s 2ms/step - loss: 3693.2480 - mae: 3693.2480\n",
            "Epoch 186/200\n",
            "34/34 [==============================] - 0s 2ms/step - loss: 3696.1387 - mae: 3696.1387\n",
            "Epoch 187/200\n",
            "34/34 [==============================] - 0s 2ms/step - loss: 3687.8640 - mae: 3687.8640\n",
            "Epoch 188/200\n",
            "34/34 [==============================] - 0s 2ms/step - loss: 3693.3562 - mae: 3693.3562\n",
            "Epoch 189/200\n",
            "34/34 [==============================] - 0s 3ms/step - loss: 3682.7324 - mae: 3682.7324\n",
            "Epoch 190/200\n",
            "34/34 [==============================] - 0s 2ms/step - loss: 3683.2891 - mae: 3683.2891\n",
            "Epoch 191/200\n",
            "34/34 [==============================] - 0s 2ms/step - loss: 3697.6536 - mae: 3697.6536\n",
            "Epoch 192/200\n",
            "34/34 [==============================] - 0s 2ms/step - loss: 3684.6665 - mae: 3684.6665\n",
            "Epoch 193/200\n",
            "34/34 [==============================] - 0s 2ms/step - loss: 3675.5154 - mae: 3675.5154\n",
            "Epoch 194/200\n",
            "34/34 [==============================] - 0s 2ms/step - loss: 3676.3923 - mae: 3676.3923\n",
            "Epoch 195/200\n",
            "34/34 [==============================] - 0s 2ms/step - loss: 3672.8452 - mae: 3672.8452\n",
            "Epoch 196/200\n",
            "34/34 [==============================] - 0s 2ms/step - loss: 3682.0283 - mae: 3682.0283\n",
            "Epoch 197/200\n",
            "34/34 [==============================] - 0s 2ms/step - loss: 3665.7961 - mae: 3665.7961\n",
            "Epoch 198/200\n",
            "34/34 [==============================] - 0s 2ms/step - loss: 3671.7419 - mae: 3671.7419\n",
            "Epoch 199/200\n",
            "34/34 [==============================] - 0s 2ms/step - loss: 3680.5464 - mae: 3680.5464\n",
            "Epoch 200/200\n",
            "34/34 [==============================] - 0s 2ms/step - loss: 3665.6401 - mae: 3665.6401\n"
          ],
          "name": "stdout"
        }
      ]
    },
    {
      "cell_type": "code",
      "metadata": {
        "colab": {
          "base_uri": "https://localhost:8080/"
        },
        "id": "LlhGGT9kpgit",
        "outputId": "66d6714d-75e3-4c70-b2af-846e9e5b47aa"
      },
      "source": [
        "insurance_model_3.evaluate(X_test, y_test)"
      ],
      "execution_count": null,
      "outputs": [
        {
          "output_type": "stream",
          "text": [
            "9/9 [==============================] - 0s 2ms/step - loss: 3491.2961 - mae: 3491.2961\n"
          ],
          "name": "stdout"
        },
        {
          "output_type": "execute_result",
          "data": {
            "text/plain": [
              "[3491.296142578125, 3491.296142578125]"
            ]
          },
          "metadata": {
            "tags": []
          },
          "execution_count": 88
        }
      ]
    },
    {
      "cell_type": "code",
      "metadata": {
        "colab": {
          "base_uri": "https://localhost:8080/",
          "height": 296
        },
        "id": "AOctpO1Epp0A",
        "outputId": "c9ab756e-1104-4b92-f4f1-ecfb074ad659"
      },
      "source": [
        "pd.DataFrame(history.history).plot()\n",
        "plt.ylabel('loss')\n",
        "plt.xlabel('epochs')"
      ],
      "execution_count": null,
      "outputs": [
        {
          "output_type": "execute_result",
          "data": {
            "text/plain": [
              "Text(0.5, 0, 'epochs')"
            ]
          },
          "metadata": {
            "tags": []
          },
          "execution_count": 89
        },
        {
          "output_type": "display_data",
          "data": {
            "image/png": "[encoded data removed]",
            "text/plain": [
              "<Figure size 432x288 with 1 Axes>"
            ]
          },
          "metadata": {
            "tags": [],
            "needs_background": "light"
          }
        }
      ]
    },
    {
      "cell_type": "markdown",
      "metadata": {
        "id": "6YUVRkuLqX2e"
      },
      "source": [
        "Use `EarlyStopping Callback`"
      ]
    },
    {
      "cell_type": "markdown",
      "metadata": {
        "id": "dvDeDdiWqlt3"
      },
      "source": [
        "# Preprocessing data (normalization and standardization)\n",
        "\n",
        "Neural Networks tend to prefer normalization."
      ]
    },
    {
      "cell_type": "code",
      "metadata": {
        "colab": {
          "base_uri": "https://localhost:8080/",
          "height": 419
        },
        "id": "FN3GG4sVqDqA",
        "outputId": "4df610f8-14e6-45f1-dbaf-9a353988aa83"
      },
      "source": [
        "X_train"
      ],
      "execution_count": null,
      "outputs": [
        {
          "output_type": "execute_result",
          "data": {
            "text/html": [
              "<div>\n",
              "<style scoped>\n",
              "    .dataframe tbody tr th:only-of-type {\n",
              "        vertical-align: middle;\n",
              "    }\n",
              "\n",
              "    .dataframe tbody tr th {\n",
              "        vertical-align: top;\n",
              "    }\n",
              "\n",
              "    .dataframe thead th {\n",
              "        text-align: right;\n",
              "    }\n",
              "</style>\n",
              "<table border=\"1\" class=\"dataframe\">\n",
              "  <thead>\n",
              "    <tr style=\"text-align: right;\">\n",
              "      <th></th>\n",
              "      <th>age</th>\n",
              "      <th>sex</th>\n",
              "      <th>bmi</th>\n",
              "      <th>children</th>\n",
              "      <th>smoker</th>\n",
              "      <th>region</th>\n",
              "    </tr>\n",
              "  </thead>\n",
              "  <tbody>\n",
              "    <tr>\n",
              "      <th>560</th>\n",
              "      <td>46</td>\n",
              "      <td>female</td>\n",
              "      <td>19.950</td>\n",
              "      <td>2</td>\n",
              "      <td>no</td>\n",
              "      <td>northwest</td>\n",
              "    </tr>\n",
              "    <tr>\n",
              "      <th>1285</th>\n",
              "      <td>47</td>\n",
              "      <td>female</td>\n",
              "      <td>24.320</td>\n",
              "      <td>0</td>\n",
              "      <td>no</td>\n",
              "      <td>northeast</td>\n",
              "    </tr>\n",
              "    <tr>\n",
              "      <th>1142</th>\n",
              "      <td>52</td>\n",
              "      <td>female</td>\n",
              "      <td>24.860</td>\n",
              "      <td>0</td>\n",
              "      <td>no</td>\n",
              "      <td>southeast</td>\n",
              "    </tr>\n",
              "    <tr>\n",
              "      <th>969</th>\n",
              "      <td>39</td>\n",
              "      <td>female</td>\n",
              "      <td>34.320</td>\n",
              "      <td>5</td>\n",
              "      <td>no</td>\n",
              "      <td>southeast</td>\n",
              "    </tr>\n",
              "    <tr>\n",
              "      <th>486</th>\n",
              "      <td>54</td>\n",
              "      <td>female</td>\n",
              "      <td>21.470</td>\n",
              "      <td>3</td>\n",
              "      <td>no</td>\n",
              "      <td>northwest</td>\n",
              "    </tr>\n",
              "    <tr>\n",
              "      <th>...</th>\n",
              "      <td>...</td>\n",
              "      <td>...</td>\n",
              "      <td>...</td>\n",
              "      <td>...</td>\n",
              "      <td>...</td>\n",
              "      <td>...</td>\n",
              "    </tr>\n",
              "    <tr>\n",
              "      <th>1095</th>\n",
              "      <td>18</td>\n",
              "      <td>female</td>\n",
              "      <td>31.350</td>\n",
              "      <td>4</td>\n",
              "      <td>no</td>\n",
              "      <td>northeast</td>\n",
              "    </tr>\n",
              "    <tr>\n",
              "      <th>1130</th>\n",
              "      <td>39</td>\n",
              "      <td>female</td>\n",
              "      <td>23.870</td>\n",
              "      <td>5</td>\n",
              "      <td>no</td>\n",
              "      <td>southeast</td>\n",
              "    </tr>\n",
              "    <tr>\n",
              "      <th>1294</th>\n",
              "      <td>58</td>\n",
              "      <td>male</td>\n",
              "      <td>25.175</td>\n",
              "      <td>0</td>\n",
              "      <td>no</td>\n",
              "      <td>northeast</td>\n",
              "    </tr>\n",
              "    <tr>\n",
              "      <th>860</th>\n",
              "      <td>37</td>\n",
              "      <td>female</td>\n",
              "      <td>47.600</td>\n",
              "      <td>2</td>\n",
              "      <td>yes</td>\n",
              "      <td>southwest</td>\n",
              "    </tr>\n",
              "    <tr>\n",
              "      <th>1126</th>\n",
              "      <td>55</td>\n",
              "      <td>male</td>\n",
              "      <td>29.900</td>\n",
              "      <td>0</td>\n",
              "      <td>no</td>\n",
              "      <td>southwest</td>\n",
              "    </tr>\n",
              "  </tbody>\n",
              "</table>\n",
              "<p>1070 rows × 6 columns</p>\n",
              "</div>"
            ],
            "text/plain": [
              "      age     sex     bmi  children smoker     region\n",
              "560    46  female  19.950         2     no  northwest\n",
              "1285   47  female  24.320         0     no  northeast\n",
              "1142   52  female  24.860         0     no  southeast\n",
              "969    39  female  34.320         5     no  southeast\n",
              "486    54  female  21.470         3     no  northwest\n",
              "...   ...     ...     ...       ...    ...        ...\n",
              "1095   18  female  31.350         4     no  northeast\n",
              "1130   39  female  23.870         5     no  southeast\n",
              "1294   58    male  25.175         0     no  northeast\n",
              "860    37  female  47.600         2    yes  southwest\n",
              "1126   55    male  29.900         0     no  southwest\n",
              "\n",
              "[1070 rows x 6 columns]"
            ]
          },
          "metadata": {
            "tags": []
          },
          "execution_count": 108
        }
      ]
    },
    {
      "cell_type": "markdown",
      "metadata": {
        "id": "ZVKCmt7mrwQT"
      },
      "source": [
        "![Capture3.PNG](data:image/png;base64,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)"
      ]
    },
    {
      "cell_type": "code",
      "metadata": {
        "colab": {
          "base_uri": "https://localhost:8080/",
          "height": 204
        },
        "id": "0y0BSQbhq-sj",
        "outputId": "6ef2320e-77da-49dd-ffd7-6adb9c6a301b"
      },
      "source": [
        "import pandas as pd\n",
        "import matplotlib.pyplot as plt\n",
        "import tensorflow as tf\n",
        "\n",
        "insurance = pd.read_csv(\"https://raw.githubusercontent.com/stedy/Machine-Learning-with-R-datasets/master/insurance.csv\")\n",
        "insurance.head()"
      ],
      "execution_count": null,
      "outputs": [
        {
          "output_type": "execute_result",
          "data": {
            "text/html": [
              "<div>\n",
              "<style scoped>\n",
              "    .dataframe tbody tr th:only-of-type {\n",
              "        vertical-align: middle;\n",
              "    }\n",
              "\n",
              "    .dataframe tbody tr th {\n",
              "        vertical-align: top;\n",
              "    }\n",
              "\n",
              "    .dataframe thead th {\n",
              "        text-align: right;\n",
              "    }\n",
              "</style>\n",
              "<table border=\"1\" class=\"dataframe\">\n",
              "  <thead>\n",
              "    <tr style=\"text-align: right;\">\n",
              "      <th></th>\n",
              "      <th>age</th>\n",
              "      <th>sex</th>\n",
              "      <th>bmi</th>\n",
              "      <th>children</th>\n",
              "      <th>smoker</th>\n",
              "      <th>region</th>\n",
              "      <th>charges</th>\n",
              "    </tr>\n",
              "  </thead>\n",
              "  <tbody>\n",
              "    <tr>\n",
              "      <th>0</th>\n",
              "      <td>19</td>\n",
              "      <td>female</td>\n",
              "      <td>27.900</td>\n",
              "      <td>0</td>\n",
              "      <td>yes</td>\n",
              "      <td>southwest</td>\n",
              "      <td>16884.92400</td>\n",
              "    </tr>\n",
              "    <tr>\n",
              "      <th>1</th>\n",
              "      <td>18</td>\n",
              "      <td>male</td>\n",
              "      <td>33.770</td>\n",
              "      <td>1</td>\n",
              "      <td>no</td>\n",
              "      <td>southeast</td>\n",
              "      <td>1725.55230</td>\n",
              "    </tr>\n",
              "    <tr>\n",
              "      <th>2</th>\n",
              "      <td>28</td>\n",
              "      <td>male</td>\n",
              "      <td>33.000</td>\n",
              "      <td>3</td>\n",
              "      <td>no</td>\n",
              "      <td>southeast</td>\n",
              "      <td>4449.46200</td>\n",
              "    </tr>\n",
              "    <tr>\n",
              "      <th>3</th>\n",
              "      <td>33</td>\n",
              "      <td>male</td>\n",
              "      <td>22.705</td>\n",
              "      <td>0</td>\n",
              "      <td>no</td>\n",
              "      <td>northwest</td>\n",
              "      <td>21984.47061</td>\n",
              "    </tr>\n",
              "    <tr>\n",
              "      <th>4</th>\n",
              "      <td>32</td>\n",
              "      <td>male</td>\n",
              "      <td>28.880</td>\n",
              "      <td>0</td>\n",
              "      <td>no</td>\n",
              "      <td>northwest</td>\n",
              "      <td>3866.85520</td>\n",
              "    </tr>\n",
              "  </tbody>\n",
              "</table>\n",
              "</div>"
            ],
            "text/plain": [
              "   age     sex     bmi  children smoker     region      charges\n",
              "0   19  female  27.900         0    yes  southwest  16884.92400\n",
              "1   18    male  33.770         1     no  southeast   1725.55230\n",
              "2   28    male  33.000         3     no  southeast   4449.46200\n",
              "3   33    male  22.705         0     no  northwest  21984.47061\n",
              "4   32    male  28.880         0     no  northwest   3866.85520"
            ]
          },
          "metadata": {
            "tags": []
          },
          "execution_count": 109
        }
      ]
    },
    {
      "cell_type": "code",
      "metadata": {
        "id": "la8pq_2yszEI"
      },
      "source": [
        "from sklearn.compose import make_column_transformer\n",
        "from sklearn.preprocessing import MinMaxScaler, OneHotEncoder\n",
        "from sklearn.model_selection import train_test_split\n",
        "\n",
        "# Create column transformer\n",
        "ct = make_column_transformer(\n",
        "    (MinMaxScaler(), ['age', 'bmi', 'children']),\n",
        "    (OneHotEncoder(handle_unknown=\"ignore\"), ['sex', 'smoker', 'region'])\n",
        ")\n",
        "\n",
        "# Create X & y\n",
        "X = insurance.drop('charges', axis=1)\n",
        "y = insurance['charges']\n",
        "\n",
        "# Split into train and test\n",
        "X_train, X_test, y_train, y_test = train_test_split(X, y, test_size=0.2, random_state=42)\n",
        "\n",
        "# Fit the column transformer to our training data\n",
        "ct.fit(X_train)\n",
        "\n",
        "# Transform training and test data with normalization (MinMaxScaler) and OneHotEncoder\n",
        "X_train_normal = ct.transform(X_train)\n",
        "X_test_normal = ct.transform(X_test)"
      ],
      "execution_count": null,
      "outputs": []
    },
    {
      "cell_type": "code",
      "metadata": {
        "colab": {
          "base_uri": "https://localhost:8080/"
        },
        "id": "Vw0CUILVucaN",
        "outputId": "260dca5b-36df-4339-f56a-2f1e5988d700"
      },
      "source": [
        "X_train_normal.shape"
      ],
      "execution_count": null,
      "outputs": [
        {
          "output_type": "execute_result",
          "data": {
            "text/plain": [
              "(1070, 11)"
            ]
          },
          "metadata": {
            "tags": []
          },
          "execution_count": 111
        }
      ]
    },
    {
      "cell_type": "markdown",
      "metadata": {
        "id": "GFtEx31TvGtC"
      },
      "source": [
        "## Build NN model on normalized data"
      ]
    },
    {
      "cell_type": "code",
      "metadata": {
        "colab": {
          "base_uri": "https://localhost:8080/"
        },
        "id": "ibBpsyXGu2bo",
        "outputId": "db824272-5c2e-4e1f-865a-b6c5155512a2"
      },
      "source": [
        "tf.random.set_seed(42)\n",
        "\n",
        "insurance_model = tf.keras.Sequential([\n",
        "    tf.keras.layers.Dense(100),\n",
        "    tf.keras.layers.Dense(10),\n",
        "    tf.keras.layers.Dense(1)\n",
        "])\n",
        "\n",
        "insurance_model.compile(loss=tf.keras.losses.mae,\n",
        "                        optimizer=tf.keras.optimizers.Adam(),\n",
        "                        metrics=['mae'])\n",
        "\n",
        "insurance_model.fit(X_train_normal, y_train, epochs=100)"
      ],
      "execution_count": null,
      "outputs": [
        {
          "output_type": "stream",
          "text": [
            "Epoch 1/100\n",
            "34/34 [==============================] - 1s 2ms/step - loss: 13342.6475 - mae: 13342.6475\n",
            "Epoch 2/100\n",
            "34/34 [==============================] - 0s 2ms/step - loss: 13333.4785 - mae: 13333.4785\n",
            "Epoch 3/100\n",
            "34/34 [==============================] - 0s 2ms/step - loss: 13312.0234 - mae: 13312.0234\n",
            "Epoch 4/100\n",
            "34/34 [==============================] - 0s 2ms/step - loss: 13267.7930 - mae: 13267.7930\n",
            "Epoch 5/100\n",
            "34/34 [==============================] - 0s 2ms/step - loss: 13189.5850 - mae: 13189.5850\n",
            "Epoch 6/100\n",
            "34/34 [==============================] - 0s 2ms/step - loss: 13066.4502 - mae: 13066.4502\n",
            "Epoch 7/100\n",
            "34/34 [==============================] - 0s 2ms/step - loss: 12888.1953 - mae: 12888.1953\n",
            "Epoch 8/100\n",
            "34/34 [==============================] - 0s 2ms/step - loss: 12644.6523 - mae: 12644.6523\n",
            "Epoch 9/100\n",
            "34/34 [==============================] - 0s 2ms/step - loss: 12325.5469 - mae: 12325.5469\n",
            "Epoch 10/100\n",
            "34/34 [==============================] - 0s 2ms/step - loss: 11925.9658 - mae: 11925.9658\n",
            "Epoch 11/100\n",
            "34/34 [==============================] - 0s 2ms/step - loss: 11454.3350 - mae: 11454.3350\n",
            "Epoch 12/100\n",
            "34/34 [==============================] - 0s 2ms/step - loss: 10949.8086 - mae: 10949.8086\n",
            "Epoch 13/100\n",
            "34/34 [==============================] - 0s 2ms/step - loss: 10448.9404 - mae: 10448.9404\n",
            "Epoch 14/100\n",
            "34/34 [==============================] - 0s 2ms/step - loss: 9951.6250 - mae: 9951.6250\n",
            "Epoch 15/100\n",
            "34/34 [==============================] - 0s 2ms/step - loss: 9482.7422 - mae: 9482.7422\n",
            "Epoch 16/100\n",
            "34/34 [==============================] - 0s 2ms/step - loss: 9066.7461 - mae: 9066.7461\n",
            "Epoch 17/100\n",
            "34/34 [==============================] - 0s 2ms/step - loss: 8721.9854 - mae: 8721.9854\n",
            "Epoch 18/100\n",
            "34/34 [==============================] - 0s 2ms/step - loss: 8441.2002 - mae: 8441.2002\n",
            "Epoch 19/100\n",
            "34/34 [==============================] - 0s 2ms/step - loss: 8227.5117 - mae: 8227.5117\n",
            "Epoch 20/100\n",
            "34/34 [==============================] - 0s 2ms/step - loss: 8081.9775 - mae: 8081.9775\n",
            "Epoch 21/100\n",
            "34/34 [==============================] - 0s 2ms/step - loss: 7973.8945 - mae: 7973.8945\n",
            "Epoch 22/100\n",
            "34/34 [==============================] - 0s 2ms/step - loss: 7899.1597 - mae: 7899.1597\n",
            "Epoch 23/100\n",
            "34/34 [==============================] - 0s 2ms/step - loss: 7840.3916 - mae: 7840.3916\n",
            "Epoch 24/100\n",
            "34/34 [==============================] - 0s 2ms/step - loss: 7787.9619 - mae: 7787.9619\n",
            "Epoch 25/100\n",
            "34/34 [==============================] - 0s 2ms/step - loss: 7749.2622 - mae: 7749.2622\n",
            "Epoch 26/100\n",
            "34/34 [==============================] - 0s 2ms/step - loss: 7697.9595 - mae: 7697.9595\n",
            "Epoch 27/100\n",
            "34/34 [==============================] - 0s 2ms/step - loss: 7656.0273 - mae: 7656.0273\n",
            "Epoch 28/100\n",
            "34/34 [==============================] - 0s 2ms/step - loss: 7613.4780 - mae: 7613.4780\n",
            "Epoch 29/100\n",
            "34/34 [==============================] - 0s 2ms/step - loss: 7570.9482 - mae: 7570.9482\n",
            "Epoch 30/100\n",
            "34/34 [==============================] - 0s 2ms/step - loss: 7527.4175 - mae: 7527.4175\n",
            "Epoch 31/100\n",
            "34/34 [==============================] - 0s 2ms/step - loss: 7483.5947 - mae: 7483.5947\n",
            "Epoch 32/100\n",
            "34/34 [==============================] - 0s 2ms/step - loss: 7439.4424 - mae: 7439.4424\n",
            "Epoch 33/100\n",
            "34/34 [==============================] - 0s 2ms/step - loss: 7395.0552 - mae: 7395.0552\n",
            "Epoch 34/100\n",
            "34/34 [==============================] - 0s 2ms/step - loss: 7346.8125 - mae: 7346.8125\n",
            "Epoch 35/100\n",
            "34/34 [==============================] - 0s 3ms/step - loss: 7300.0493 - mae: 7300.0493\n",
            "Epoch 36/100\n",
            "34/34 [==============================] - 0s 2ms/step - loss: 7249.8452 - mae: 7249.8452\n",
            "Epoch 37/100\n",
            "34/34 [==============================] - 0s 2ms/step - loss: 7199.5303 - mae: 7199.5303\n",
            "Epoch 38/100\n",
            "34/34 [==============================] - 0s 2ms/step - loss: 7148.4805 - mae: 7148.4805\n",
            "Epoch 39/100\n",
            "34/34 [==============================] - 0s 2ms/step - loss: 7093.6660 - mae: 7093.6660\n",
            "Epoch 40/100\n",
            "34/34 [==============================] - 0s 2ms/step - loss: 7038.1797 - mae: 7038.1797\n",
            "Epoch 41/100\n",
            "34/34 [==============================] - 0s 2ms/step - loss: 6981.7393 - mae: 6981.7393\n",
            "Epoch 42/100\n",
            "34/34 [==============================] - 0s 2ms/step - loss: 6922.7847 - mae: 6922.7847\n",
            "Epoch 43/100\n",
            "34/34 [==============================] - 0s 2ms/step - loss: 6860.1724 - mae: 6860.1724\n",
            "Epoch 44/100\n",
            "34/34 [==============================] - 0s 2ms/step - loss: 6793.7979 - mae: 6793.7979\n",
            "Epoch 45/100\n",
            "34/34 [==============================] - 0s 2ms/step - loss: 6726.6201 - mae: 6726.6201\n",
            "Epoch 46/100\n",
            "34/34 [==============================] - 0s 2ms/step - loss: 6657.4683 - mae: 6657.4683\n",
            "Epoch 47/100\n",
            "34/34 [==============================] - 0s 2ms/step - loss: 6586.3086 - mae: 6586.3086\n",
            "Epoch 48/100\n",
            "34/34 [==============================] - 0s 2ms/step - loss: 6507.5063 - mae: 6507.5063\n",
            "Epoch 49/100\n",
            "34/34 [==============================] - 0s 2ms/step - loss: 6428.6025 - mae: 6428.6025\n",
            "Epoch 50/100\n",
            "34/34 [==============================] - 0s 2ms/step - loss: 6342.7100 - mae: 6342.7100\n",
            "Epoch 51/100\n",
            "34/34 [==============================] - 0s 2ms/step - loss: 6258.0718 - mae: 6258.0718\n",
            "Epoch 52/100\n",
            "34/34 [==============================] - 0s 2ms/step - loss: 6164.7046 - mae: 6164.7046\n",
            "Epoch 53/100\n",
            "34/34 [==============================] - 0s 2ms/step - loss: 6068.6748 - mae: 6068.6748\n",
            "Epoch 54/100\n",
            "34/34 [==============================] - 0s 2ms/step - loss: 5970.0981 - mae: 5970.0981\n",
            "Epoch 55/100\n",
            "34/34 [==============================] - 0s 2ms/step - loss: 5862.5625 - mae: 5862.5625\n",
            "Epoch 56/100\n",
            "34/34 [==============================] - 0s 2ms/step - loss: 5753.9531 - mae: 5753.9531\n",
            "Epoch 57/100\n",
            "34/34 [==============================] - 0s 2ms/step - loss: 5638.0942 - mae: 5638.0942\n",
            "Epoch 58/100\n",
            "34/34 [==============================] - 0s 1ms/step - loss: 5519.8687 - mae: 5519.8687\n",
            "Epoch 59/100\n",
            "34/34 [==============================] - 0s 2ms/step - loss: 5401.3198 - mae: 5401.3198\n",
            "Epoch 60/100\n",
            "34/34 [==============================] - 0s 2ms/step - loss: 5277.3506 - mae: 5277.3506\n",
            "Epoch 61/100\n",
            "34/34 [==============================] - 0s 2ms/step - loss: 5149.7642 - mae: 5149.7642\n",
            "Epoch 62/100\n",
            "34/34 [==============================] - 0s 2ms/step - loss: 5019.3540 - mae: 5019.3540\n",
            "Epoch 63/100\n",
            "34/34 [==============================] - 0s 2ms/step - loss: 4889.6865 - mae: 4889.6865\n",
            "Epoch 64/100\n",
            "34/34 [==============================] - 0s 2ms/step - loss: 4756.8560 - mae: 4756.8560\n",
            "Epoch 65/100\n",
            "34/34 [==============================] - 0s 2ms/step - loss: 4629.4370 - mae: 4629.4370\n",
            "Epoch 66/100\n",
            "34/34 [==============================] - 0s 2ms/step - loss: 4503.5991 - mae: 4503.5991\n",
            "Epoch 67/100\n",
            "34/34 [==============================] - 0s 2ms/step - loss: 4392.9922 - mae: 4392.9922\n",
            "Epoch 68/100\n",
            "34/34 [==============================] - 0s 2ms/step - loss: 4284.3862 - mae: 4284.3862\n",
            "Epoch 69/100\n",
            "34/34 [==============================] - 0s 2ms/step - loss: 4182.6182 - mae: 4182.6182\n",
            "Epoch 70/100\n",
            "34/34 [==============================] - 0s 2ms/step - loss: 4089.5720 - mae: 4089.5720\n",
            "Epoch 71/100\n",
            "34/34 [==============================] - 0s 2ms/step - loss: 4003.3901 - mae: 4003.3901\n",
            "Epoch 72/100\n",
            "34/34 [==============================] - 0s 2ms/step - loss: 3929.0093 - mae: 3929.0093\n",
            "Epoch 73/100\n",
            "34/34 [==============================] - 0s 2ms/step - loss: 3866.3110 - mae: 3866.3110\n",
            "Epoch 74/100\n",
            "34/34 [==============================] - 0s 2ms/step - loss: 3813.7144 - mae: 3813.7144\n",
            "Epoch 75/100\n",
            "34/34 [==============================] - 0s 2ms/step - loss: 3773.0317 - mae: 3773.0317\n",
            "Epoch 76/100\n",
            "34/34 [==============================] - 0s 2ms/step - loss: 3744.1995 - mae: 3744.1995\n",
            "Epoch 77/100\n",
            "34/34 [==============================] - 0s 2ms/step - loss: 3719.6870 - mae: 3719.6870\n",
            "Epoch 78/100\n",
            "34/34 [==============================] - 0s 2ms/step - loss: 3702.9109 - mae: 3702.9109\n",
            "Epoch 79/100\n",
            "34/34 [==============================] - 0s 2ms/step - loss: 3691.8792 - mae: 3691.8792\n",
            "Epoch 80/100\n",
            "34/34 [==============================] - 0s 2ms/step - loss: 3682.8350 - mae: 3682.8350\n",
            "Epoch 81/100\n",
            "34/34 [==============================] - 0s 2ms/step - loss: 3676.9763 - mae: 3676.9763\n",
            "Epoch 82/100\n",
            " 1/34 [..............................] - ETA: 0s - loss: 4449.5586 - mae: 4449.5586"
          ],
          "name": "stdout"
        }
      ]
    },
    {
      "cell_type": "code",
      "metadata": {
        "colab": {
          "base_uri": "https://localhost:8080/"
        },
        "id": "watEdvkEvt3z",
        "outputId": "768f4fb5-dd83-41ce-b896-3bd43481046d"
      },
      "source": [
        "insurance_model.evaluate(X_test_normal, y_test)"
      ],
      "execution_count": null,
      "outputs": [
        {
          "output_type": "stream",
          "text": [
            "9/9 [==============================] - 0s 2ms/step - loss: 3438.7844 - mse: 41750900.0000\n"
          ],
          "name": "stdout"
        },
        {
          "output_type": "execute_result",
          "data": {
            "text/plain": [
              "[3438.784423828125, 41750900.0]"
            ]
          },
          "metadata": {
            "tags": []
          },
          "execution_count": 115
        }
      ]
    },
    {
      "cell_type": "code",
      "metadata": {
        "id": "0zIjWayXv52x"
      },
      "source": [
        ""
      ],
      "execution_count": null,
      "outputs": []
    }
  ]
}
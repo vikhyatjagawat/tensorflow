{
  "nbformat": 4,
  "nbformat_minor": 0,
  "metadata": {
    "colab": {
      "name": "tensorflow-input-pipeline.ipynb",
      "provenance": [],
      "authorship_tag": "ABX9TyPEOoZdkoYs28eCkFRhUk2J",
      "include_colab_link": true
    },
    "kernelspec": {
      "name": "python3",
      "display_name": "Python 3"
    },
    "language_info": {
      "name": "python"
    }
  },
  "cells": [
    {
      "cell_type": "markdown",
      "metadata": {
        "id": "view-in-github",
        "colab_type": "text"
      },
      "source": [
        "<a href=\"https://colab.research.google.com/github/vikhyatjagawat/tensorflow/blob/main/tensorflow_input_pipeline.ipynb\" target=\"_parent\"><img src=\"https://colab.research.google.com/assets/colab-badge.svg\" alt=\"Open In Colab\"/></a>"
      ]
    },
    {
      "cell_type": "code",
      "metadata": {
        "id": "Duw69aGLpQ-g"
      },
      "source": [
        "import tensorflow as tf"
      ],
      "execution_count": 16,
      "outputs": []
    },
    {
      "cell_type": "code",
      "metadata": {
        "id": "BDMzqcyYrKC6"
      },
      "source": [
        "numbers = [21, 22, 31, 45, 6, 7, 87]"
      ],
      "execution_count": 17,
      "outputs": []
    },
    {
      "cell_type": "code",
      "metadata": {
        "id": "mvsFTDB4rQ61"
      },
      "source": [
        "tf_dataset = tf.data.Dataset.from_tensor_slices(numbers)"
      ],
      "execution_count": 18,
      "outputs": []
    },
    {
      "cell_type": "code",
      "metadata": {
        "colab": {
          "base_uri": "https://localhost:8080/"
        },
        "id": "PUJ2q6Z7rYAX",
        "outputId": "7c4f27cc-8030-4e80-bf3b-8a6aef70837d"
      },
      "source": [
        "for i in tf_dataset:\n",
        "  print(i)"
      ],
      "execution_count": 19,
      "outputs": [
        {
          "output_type": "stream",
          "text": [
            "tf.Tensor(21, shape=(), dtype=int32)\n",
            "tf.Tensor(22, shape=(), dtype=int32)\n",
            "tf.Tensor(31, shape=(), dtype=int32)\n",
            "tf.Tensor(45, shape=(), dtype=int32)\n",
            "tf.Tensor(6, shape=(), dtype=int32)\n",
            "tf.Tensor(7, shape=(), dtype=int32)\n",
            "tf.Tensor(87, shape=(), dtype=int32)\n"
          ],
          "name": "stdout"
        }
      ]
    },
    {
      "cell_type": "code",
      "metadata": {
        "colab": {
          "base_uri": "https://localhost:8080/"
        },
        "id": "XMcQi7dIrjw1",
        "outputId": "e716e64b-fd1e-48be-96fe-ff81916e2ad6"
      },
      "source": [
        "for i in tf_dataset.take(3):\n",
        "  print(i)"
      ],
      "execution_count": 20,
      "outputs": [
        {
          "output_type": "stream",
          "text": [
            "tf.Tensor(21, shape=(), dtype=int32)\n",
            "tf.Tensor(22, shape=(), dtype=int32)\n",
            "tf.Tensor(31, shape=(), dtype=int32)\n"
          ],
          "name": "stdout"
        }
      ]
    },
    {
      "cell_type": "code",
      "metadata": {
        "colab": {
          "base_uri": "https://localhost:8080/"
        },
        "id": "SFZastC0rub6",
        "outputId": "03d4de36-694c-4982-e2a6-3b1c1c883402"
      },
      "source": [
        "tf_data_filter = tf_dataset.filter(lambda x: x>10)\n",
        "for i in tf_data_filter:\n",
        "  print(i)"
      ],
      "execution_count": 21,
      "outputs": [
        {
          "output_type": "stream",
          "text": [
            "tf.Tensor(21, shape=(), dtype=int32)\n",
            "tf.Tensor(22, shape=(), dtype=int32)\n",
            "tf.Tensor(31, shape=(), dtype=int32)\n",
            "tf.Tensor(45, shape=(), dtype=int32)\n",
            "tf.Tensor(87, shape=(), dtype=int32)\n"
          ],
          "name": "stdout"
        }
      ]
    },
    {
      "cell_type": "code",
      "metadata": {
        "colab": {
          "base_uri": "https://localhost:8080/"
        },
        "id": "tuJfUj3yr2T0",
        "outputId": "69978b2c-12b5-418d-a0c4-b51858d9243e"
      },
      "source": [
        "tf_data_map = tf_dataset.map(lambda x: x*100)\n",
        "for i in tf_data_map:\n",
        "  print(i)"
      ],
      "execution_count": 22,
      "outputs": [
        {
          "output_type": "stream",
          "text": [
            "tf.Tensor(2100, shape=(), dtype=int32)\n",
            "tf.Tensor(2200, shape=(), dtype=int32)\n",
            "tf.Tensor(3100, shape=(), dtype=int32)\n",
            "tf.Tensor(4500, shape=(), dtype=int32)\n",
            "tf.Tensor(600, shape=(), dtype=int32)\n",
            "tf.Tensor(700, shape=(), dtype=int32)\n",
            "tf.Tensor(8700, shape=(), dtype=int32)\n"
          ],
          "name": "stdout"
        }
      ]
    },
    {
      "cell_type": "code",
      "metadata": {
        "colab": {
          "base_uri": "https://localhost:8080/"
        },
        "id": "rv9Q4S9tsLFD",
        "outputId": "2b1658a5-8e8e-4531-8411-f9af56323782"
      },
      "source": [
        "for batch in tf_dataset.batch(3):\n",
        "  print(batch)"
      ],
      "execution_count": 23,
      "outputs": [
        {
          "output_type": "stream",
          "text": [
            "tf.Tensor([21 22 31], shape=(3,), dtype=int32)\n",
            "tf.Tensor([45  6  7], shape=(3,), dtype=int32)\n",
            "tf.Tensor([87], shape=(1,), dtype=int32)\n"
          ],
          "name": "stdout"
        }
      ]
    },
    {
      "cell_type": "code",
      "metadata": {
        "colab": {
          "base_uri": "https://localhost:8080/"
        },
        "id": "b3wEBjWXsnVV",
        "outputId": "47ae1c1d-c13e-452d-acd2-483de36379f6"
      },
      "source": [
        "train_size = int(len(tf_dataset)*.8)\n",
        "train_size"
      ],
      "execution_count": 24,
      "outputs": [
        {
          "output_type": "execute_result",
          "data": {
            "text/plain": [
              "5"
            ]
          },
          "metadata": {},
          "execution_count": 24
        }
      ]
    },
    {
      "cell_type": "code",
      "metadata": {
        "id": "vxaFNjrRt-Jf"
      },
      "source": [
        "train_ds = tf_dataset.take(train_size)\n",
        "test_ds = tf_dataset.skip(train_size)"
      ],
      "execution_count": 25,
      "outputs": []
    },
    {
      "cell_type": "code",
      "metadata": {
        "id": "L_jZJ0XkuIfw"
      },
      "source": [
        ""
      ],
      "execution_count": null,
      "outputs": []
    }
  ]
}